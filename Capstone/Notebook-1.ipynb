{
 "cells": [
  {
   "cell_type": "markdown",
   "metadata": {},
   "source": [
    "# Predicting Exchange Rates for US Dollar to Euro"
   ]
  },
  {
   "cell_type": "code",
   "execution_count": 34,
   "metadata": {},
   "outputs": [],
   "source": [
    "import numpy as np\n",
    "import pandas as pd\n",
    "import scipy\n",
    "from datetime import datetime\n",
    "import datetime as dt\n",
    "from statsmodels.graphics.tsaplots import plot_acf, plot_pacf\n",
    "from statsmodels.tsa.arima_model import ARIMA\n",
    "from statsmodels.tsa.stattools import acf, pacf\n",
    "from statsmodels.tsa.stattools import adfuller\n",
    "from statsmodels.tsa.seasonal import seasonal_decompose\n",
    "from pyramid.arima import auto_arima\n",
    "import seaborn as sns\n",
    "import matplotlib.pyplot as plt\n",
    "%matplotlib inline"
   ]
  },
  {
   "cell_type": "markdown",
   "metadata": {},
   "source": [
    "### Exchange Rate Data\n",
    "Exchange rate for US Dollars to Euros from the initial use of the Euro in January 2002 through August 2018 as found at https://www.federalreserve.gov/data.htm"
   ]
  },
  {
   "cell_type": "code",
   "execution_count": 2,
   "metadata": {},
   "outputs": [
    {
     "data": {
      "text/html": [
       "<div>\n",
       "<style scoped>\n",
       "    .dataframe tbody tr th:only-of-type {\n",
       "        vertical-align: middle;\n",
       "    }\n",
       "\n",
       "    .dataframe tbody tr th {\n",
       "        vertical-align: top;\n",
       "    }\n",
       "\n",
       "    .dataframe thead th {\n",
       "        text-align: right;\n",
       "    }\n",
       "</style>\n",
       "<table border=\"1\" class=\"dataframe\">\n",
       "  <thead>\n",
       "    <tr style=\"text-align: right;\">\n",
       "      <th></th>\n",
       "      <th>Time Period</th>\n",
       "      <th>RXI$US_N.B.EU</th>\n",
       "    </tr>\n",
       "  </thead>\n",
       "  <tbody>\n",
       "    <tr>\n",
       "      <th>0</th>\n",
       "      <td>2002-01-01</td>\n",
       "      <td>ND</td>\n",
       "    </tr>\n",
       "    <tr>\n",
       "      <th>1</th>\n",
       "      <td>2002-01-02</td>\n",
       "      <td>0.9031</td>\n",
       "    </tr>\n",
       "    <tr>\n",
       "      <th>2</th>\n",
       "      <td>2002-01-03</td>\n",
       "      <td>0.8992</td>\n",
       "    </tr>\n",
       "    <tr>\n",
       "      <th>3</th>\n",
       "      <td>2002-01-04</td>\n",
       "      <td>0.8946</td>\n",
       "    </tr>\n",
       "    <tr>\n",
       "      <th>4</th>\n",
       "      <td>2002-01-07</td>\n",
       "      <td>0.8931</td>\n",
       "    </tr>\n",
       "  </tbody>\n",
       "</table>\n",
       "</div>"
      ],
      "text/plain": [
       "  Time Period RXI$US_N.B.EU\n",
       "0  2002-01-01            ND\n",
       "1  2002-01-02        0.9031\n",
       "2  2002-01-03        0.8992\n",
       "3  2002-01-04        0.8946\n",
       "4  2002-01-07        0.8931"
      ]
     },
     "execution_count": 2,
     "metadata": {},
     "output_type": "execute_result"
    }
   ],
   "source": [
    "# exchange rate data\n",
    "USEU_raw = pd.read_csv('USD_EU.csv', header=5)\n",
    "\n",
    "USEU_raw.head()"
   ]
  },
  {
   "cell_type": "code",
   "execution_count": 3,
   "metadata": {},
   "outputs": [
    {
     "data": {
      "text/plain": [
       "(4189, 1)"
      ]
     },
     "execution_count": 3,
     "metadata": {},
     "output_type": "execute_result"
    }
   ],
   "source": [
    "USEU_data = USEU_raw\n",
    "\n",
    "# convert index to datetime\n",
    "USEU_data['Date'] = USEU_raw['Time Period']\n",
    "USEU_data.index = pd.to_datetime(USEU_raw['Date'])\n",
    "\n",
    "# Convert exchange rate to a number, with coersion to throw NAs if conversion not possible\n",
    "USEU_data['Rate'] = pd.to_numeric(USEU_data['RXI$US_N.B.EU'], errors='coerce')\n",
    "\n",
    "# drop original columns\n",
    "USEU_data = USEU_data.drop(columns=['Time Period', 'RXI$US_N.B.EU', 'Date'])\n",
    "\n",
    "# Remove NAs\n",
    "USEU_data.dropna(inplace=True)\n",
    "\n",
    "USEU_data.shape"
   ]
  },
  {
   "cell_type": "code",
   "execution_count": 4,
   "metadata": {},
   "outputs": [
    {
     "data": {
      "text/html": [
       "<div>\n",
       "<style scoped>\n",
       "    .dataframe tbody tr th:only-of-type {\n",
       "        vertical-align: middle;\n",
       "    }\n",
       "\n",
       "    .dataframe tbody tr th {\n",
       "        vertical-align: top;\n",
       "    }\n",
       "\n",
       "    .dataframe thead th {\n",
       "        text-align: right;\n",
       "    }\n",
       "</style>\n",
       "<table border=\"1\" class=\"dataframe\">\n",
       "  <thead>\n",
       "    <tr style=\"text-align: right;\">\n",
       "      <th></th>\n",
       "      <th>Rate</th>\n",
       "    </tr>\n",
       "    <tr>\n",
       "      <th>Date</th>\n",
       "      <th></th>\n",
       "    </tr>\n",
       "  </thead>\n",
       "  <tbody>\n",
       "    <tr>\n",
       "      <th>2002-01-02</th>\n",
       "      <td>0.9031</td>\n",
       "    </tr>\n",
       "    <tr>\n",
       "      <th>2002-01-03</th>\n",
       "      <td>0.8992</td>\n",
       "    </tr>\n",
       "    <tr>\n",
       "      <th>2002-01-04</th>\n",
       "      <td>0.8946</td>\n",
       "    </tr>\n",
       "    <tr>\n",
       "      <th>2002-01-07</th>\n",
       "      <td>0.8931</td>\n",
       "    </tr>\n",
       "    <tr>\n",
       "      <th>2002-01-08</th>\n",
       "      <td>0.8925</td>\n",
       "    </tr>\n",
       "  </tbody>\n",
       "</table>\n",
       "</div>"
      ],
      "text/plain": [
       "              Rate\n",
       "Date              \n",
       "2002-01-02  0.9031\n",
       "2002-01-03  0.8992\n",
       "2002-01-04  0.8946\n",
       "2002-01-07  0.8931\n",
       "2002-01-08  0.8925"
      ]
     },
     "execution_count": 4,
     "metadata": {},
     "output_type": "execute_result"
    }
   ],
   "source": [
    "USEU_data.head()"
   ]
  },
  {
   "cell_type": "code",
   "execution_count": 5,
   "metadata": {},
   "outputs": [
    {
     "data": {
      "text/html": [
       "<div>\n",
       "<style scoped>\n",
       "    .dataframe tbody tr th:only-of-type {\n",
       "        vertical-align: middle;\n",
       "    }\n",
       "\n",
       "    .dataframe tbody tr th {\n",
       "        vertical-align: top;\n",
       "    }\n",
       "\n",
       "    .dataframe thead th {\n",
       "        text-align: right;\n",
       "    }\n",
       "</style>\n",
       "<table border=\"1\" class=\"dataframe\">\n",
       "  <thead>\n",
       "    <tr style=\"text-align: right;\">\n",
       "      <th></th>\n",
       "      <th>count</th>\n",
       "      <th>mean</th>\n",
       "      <th>std</th>\n",
       "      <th>min</th>\n",
       "      <th>25%</th>\n",
       "      <th>50%</th>\n",
       "      <th>75%</th>\n",
       "      <th>max</th>\n",
       "    </tr>\n",
       "  </thead>\n",
       "  <tbody>\n",
       "    <tr>\n",
       "      <th>Rate</th>\n",
       "      <td>4189.0</td>\n",
       "      <td>1.25222</td>\n",
       "      <td>0.141234</td>\n",
       "      <td>0.8594</td>\n",
       "      <td>1.1534</td>\n",
       "      <td>1.2684</td>\n",
       "      <td>1.3494</td>\n",
       "      <td>1.601</td>\n",
       "    </tr>\n",
       "  </tbody>\n",
       "</table>\n",
       "</div>"
      ],
      "text/plain": [
       "       count     mean       std     min     25%     50%     75%    max\n",
       "Rate  4189.0  1.25222  0.141234  0.8594  1.1534  1.2684  1.3494  1.601"
      ]
     },
     "execution_count": 5,
     "metadata": {},
     "output_type": "execute_result"
    }
   ],
   "source": [
    "USEU_data.describe().transpose()"
   ]
  },
  {
   "cell_type": "code",
   "execution_count": 11,
   "metadata": {},
   "outputs": [
    {
     "data": {
      "image/png": "[encoded data removed]",
      "text/plain": [
       "<Figure size 1080x360 with 2 Axes>"
      ]
     },
     "metadata": {},
     "output_type": "display_data"
    }
   ],
   "source": [
    "plt.figure(figsize=(15, 5))\n",
    "\n",
    "plt.subplot(1, 2, 1)\n",
    "plt.boxplot(USEU_data.Rate)\n",
    "plt.title('Boxplot of Exchange Rates')\n",
    "\n",
    "plt.subplot(1, 2, 2)\n",
    "plt.xlabel('Value of Euro in Dollars')\n",
    "plt.hist(USEU_data.Rate, bins=20)\n",
    "plt.axvline(USEU_data.Rate.mean(), color='c', linestyle='dashed', linewidth=2, label=\"Mean\")\n",
    "plt.legend(loc='upper left') \n",
    "plt.title('Histogram of Exchange Rates')\n",
    "plt.show()"
   ]
  },
  {
   "cell_type": "markdown",
   "metadata": {},
   "source": [
    "### Training and Test\n",
    "Separate data into train and test at 70/30 split."
   ]
  },
  {
   "cell_type": "code",
   "execution_count": 13,
   "metadata": {},
   "outputs": [
    {
     "name": "stdout",
     "output_type": "stream",
     "text": [
      "Observations: 4189\n",
      "Training Observations: 2932\n",
      "Testing Observations: 1257\n"
     ]
    }
   ],
   "source": [
    "train_size = int(len(USEU_data) * 0.7)\n",
    "train, test = USEU_data[0:train_size], USEU_data[train_size:len(USEU_data)]\n",
    "print('Observations: %d' % (len(USEU_data)))\n",
    "print('Training Observations: %d' % (len(train)))\n",
    "print('Testing Observations: %d' % (len(test)))"
   ]
  },
  {
   "cell_type": "code",
   "execution_count": 14,
   "metadata": {},
   "outputs": [
    {
     "data": {
      "text/html": [
       "<div>\n",
       "<style scoped>\n",
       "    .dataframe tbody tr th:only-of-type {\n",
       "        vertical-align: middle;\n",
       "    }\n",
       "\n",
       "    .dataframe tbody tr th {\n",
       "        vertical-align: top;\n",
       "    }\n",
       "\n",
       "    .dataframe thead th {\n",
       "        text-align: right;\n",
       "    }\n",
       "</style>\n",
       "<table border=\"1\" class=\"dataframe\">\n",
       "  <thead>\n",
       "    <tr style=\"text-align: right;\">\n",
       "      <th></th>\n",
       "      <th>Rate</th>\n",
       "    </tr>\n",
       "    <tr>\n",
       "      <th>Date</th>\n",
       "      <th></th>\n",
       "    </tr>\n",
       "  </thead>\n",
       "  <tbody>\n",
       "    <tr>\n",
       "      <th>2013-08-27</th>\n",
       "      <td>1.3387</td>\n",
       "    </tr>\n",
       "    <tr>\n",
       "      <th>2013-08-28</th>\n",
       "      <td>1.3326</td>\n",
       "    </tr>\n",
       "    <tr>\n",
       "      <th>2013-08-29</th>\n",
       "      <td>1.3228</td>\n",
       "    </tr>\n",
       "    <tr>\n",
       "      <th>2013-08-30</th>\n",
       "      <td>1.3196</td>\n",
       "    </tr>\n",
       "    <tr>\n",
       "      <th>2013-09-03</th>\n",
       "      <td>1.3164</td>\n",
       "    </tr>\n",
       "  </tbody>\n",
       "</table>\n",
       "</div>"
      ],
      "text/plain": [
       "              Rate\n",
       "Date              \n",
       "2013-08-27  1.3387\n",
       "2013-08-28  1.3326\n",
       "2013-08-29  1.3228\n",
       "2013-08-30  1.3196\n",
       "2013-09-03  1.3164"
      ]
     },
     "execution_count": 14,
     "metadata": {},
     "output_type": "execute_result"
    }
   ],
   "source": [
    "test.head()"
   ]
  },
  {
   "cell_type": "code",
   "execution_count": 15,
   "metadata": {},
   "outputs": [
    {
     "data": {
      "text/html": [
       "<div>\n",
       "<style scoped>\n",
       "    .dataframe tbody tr th:only-of-type {\n",
       "        vertical-align: middle;\n",
       "    }\n",
       "\n",
       "    .dataframe tbody tr th {\n",
       "        vertical-align: top;\n",
       "    }\n",
       "\n",
       "    .dataframe thead th {\n",
       "        text-align: right;\n",
       "    }\n",
       "</style>\n",
       "<table border=\"1\" class=\"dataframe\">\n",
       "  <thead>\n",
       "    <tr style=\"text-align: right;\">\n",
       "      <th></th>\n",
       "      <th>Rate</th>\n",
       "    </tr>\n",
       "    <tr>\n",
       "      <th>Date</th>\n",
       "      <th></th>\n",
       "    </tr>\n",
       "  </thead>\n",
       "  <tbody>\n",
       "    <tr>\n",
       "      <th>2018-08-27</th>\n",
       "      <td>1.1676</td>\n",
       "    </tr>\n",
       "    <tr>\n",
       "      <th>2018-08-28</th>\n",
       "      <td>1.1720</td>\n",
       "    </tr>\n",
       "    <tr>\n",
       "      <th>2018-08-29</th>\n",
       "      <td>1.1699</td>\n",
       "    </tr>\n",
       "    <tr>\n",
       "      <th>2018-08-30</th>\n",
       "      <td>1.1646</td>\n",
       "    </tr>\n",
       "    <tr>\n",
       "      <th>2018-08-31</th>\n",
       "      <td>1.1596</td>\n",
       "    </tr>\n",
       "  </tbody>\n",
       "</table>\n",
       "</div>"
      ],
      "text/plain": [
       "              Rate\n",
       "Date              \n",
       "2018-08-27  1.1676\n",
       "2018-08-28  1.1720\n",
       "2018-08-29  1.1699\n",
       "2018-08-30  1.1646\n",
       "2018-08-31  1.1596"
      ]
     },
     "execution_count": 15,
     "metadata": {},
     "output_type": "execute_result"
    }
   ],
   "source": [
    "test.tail()"
   ]
  },
  {
   "cell_type": "code",
   "execution_count": 19,
   "metadata": {},
   "outputs": [
    {
     "data": {
      "image/png": "[encoded data removed]",
      "text/plain": [
       "<Figure size 1080x360 with 2 Axes>"
      ]
     },
     "metadata": {},
     "output_type": "display_data"
    }
   ],
   "source": [
    "plt.figure(figsize=(15, 5))\n",
    "\n",
    "plt.subplot(1, 2, 1)\n",
    "plt.boxplot(train.Rate.dropna(how = 'any'))\n",
    "plt.title('Training Exchange Rates')\n",
    "\n",
    "plt.subplot(1, 2, 2)\n",
    "plt.boxplot(test.Rate.dropna(how = 'any'))\n",
    "plt.title('Test Set Exchange Rates')\n",
    "\n",
    "plt.show()"
   ]
  },
  {
   "cell_type": "code",
   "execution_count": 20,
   "metadata": {},
   "outputs": [
    {
     "data": {
      "image/png": "[encoded data removed]",
      "text/plain": [
       "<Figure size 1080x360 with 2 Axes>"
      ]
     },
     "metadata": {},
     "output_type": "display_data"
    }
   ],
   "source": [
    "plt.figure(figsize=(15, 5))\n",
    "\n",
    "plt.subplot(1, 2, 1)\n",
    "plt.xlabel('Value of Euro in Dollars')\n",
    "plt.hist(train.Rate.dropna(how = 'any'), bins=20)\n",
    "plt.axvline(train.Rate.mean(), color='c', linestyle='dashed', linewidth=2, label=\"Mean\")\n",
    "plt.legend(loc='upper left') \n",
    "plt.title('Histogram of Training Exchange Rates')\n",
    "\n",
    "plt.subplot(1, 2, 2)\n",
    "plt.xlabel('Value of Euro in Dollars')\n",
    "plt.hist(test.Rate.dropna(how = 'any'), bins=20)\n",
    "plt.axvline(test.Rate.mean(), color='c', linestyle='dashed', linewidth=2, label=\"Mean\")\n",
    "plt.legend(loc='upper left') \n",
    "plt.title('Histogram of Test Exchange Rates')\n",
    "\n",
    "plt.show()"
   ]
  },
  {
   "cell_type": "markdown",
   "metadata": {},
   "source": [
    "The Training data shows fairly normal distribution, while the test data does not."
   ]
  },
  {
   "cell_type": "markdown",
   "metadata": {},
   "source": [
    "# Time Series Models\n",
    "The primary algorithm for time series is the ARIMA model.  The model takes three parameters: <br>\n",
    "AR for auto-regressive or how the data relates to it's prior values<br>\n",
    "I for integrated or the level of differencing required to make the data stationary<br>\n",
    "MA for moving average or how the data relates to prior errors"
   ]
  },
  {
   "cell_type": "code",
   "execution_count": 16,
   "metadata": {},
   "outputs": [
    {
     "data": {
      "image/png": "[encoded data removed]",
      "text/plain": [
       "<Figure size 1080x360 with 1 Axes>"
      ]
     },
     "metadata": {},
     "output_type": "display_data"
    }
   ],
   "source": [
    "# plot time series\n",
    "plt.figure(figsize=(15, 5))\n",
    "plt.xlabel('Date')\n",
    "plt.ylabel('Value of Euro in Dollars')\n",
    "plt.plot(train['Rate'], label='Train')\n",
    "plt.plot(test['Rate'], label='Test')\n",
    "plt.plot(USEU_data.index, USEU_data.Rate.rolling(window=90,center=False).mean(), label = 'Quarterly Rolling Mean')\n",
    "plt.grid(True)\n",
    "plt.title('Time Series of Dollar to Euro Exchange Rate')\n",
    "plt.legend()\n",
    "plt.show()"
   ]
  },
  {
   "cell_type": "markdown",
   "metadata": {},
   "source": [
    "The value of the euro generally increased from it's initial use in 2002 through 2008.  There are then erratic rates that generally trend down through 2015.  There is a significant drop in relative value of the Euro from late 2009 to mid 2010, then again from 2014 to early 2015. <br>\n",
    "This plot makes it clear visually that our data is not stationary in that it is not clustered around a single value.  By plot the difference of each data point from the prior value, we should be able to see stationality."
   ]
  },
  {
   "cell_type": "code",
   "execution_count": 30,
   "metadata": {},
   "outputs": [
    {
     "data": {
      "image/png": "[encoded data removed]",
      "text/plain": [
       "<Figure size 1080x360 with 1 Axes>"
      ]
     },
     "metadata": {},
     "output_type": "display_data"
    }
   ],
   "source": [
    "# difference of one record from previous next\n",
    "train_diff = train.copy()\n",
    "train_diff['diff_1'] = train.Rate - train.Rate.shift()\n",
    "\n",
    "test_diff = test.copy()\n",
    "test_diff['diff_1'] = test.Rate - test.Rate.shift()\n",
    "\n",
    "plt.figure(figsize=(15, 5))\n",
    "plt.plot(train.index, train_diff.diff_1)\n",
    "plt.plot(test.index, test_diff.diff_1)\n",
    "plt.axhline(0, color='grey', linestyle='solid', linewidth=1)\n",
    "plt.title('Dollar to Euro Exchange Time Series - Difference')\n",
    "plt.show()"
   ]
  },
  {
   "cell_type": "markdown",
   "metadata": {},
   "source": [
    "That plot of difference shows the values custered around 0 - we have stationality in the data when taking a single level difference.  This plot also gives us insight into how our data values change from day to day.  We see greater volatility in the exchange rate in 2008 and 2009, with noticeable smaller extremes after 2009.  There is noticably more stability in the exchange rate in 2014 as less variation is seen from day to day.\n",
    "\n",
    "We can mathematically test the stationality of the difference data using Dickey Fuller"
   ]
  },
  {
   "cell_type": "code",
   "execution_count": 27,
   "metadata": {},
   "outputs": [
    {
     "name": "stdout",
     "output_type": "stream",
     "text": [
      "Exchange Rate Dickey Fuller Test\n",
      "Statistic: -2.612155\n",
      "p-value: 0.090511\n",
      "Critical Values:\n",
      "\t1%: -3.433\n",
      "\t5%: -2.863\n",
      "\t10%: -2.567\n"
     ]
    }
   ],
   "source": [
    "# Use statsmodel's augmented Diecky Fuller test\n",
    "series = train.Rate\n",
    "X = series.values\n",
    "result = adfuller(X)\n",
    "print('Exchange Rate Dickey Fuller Test')\n",
    "print('Statistic: %f' % result[0])\n",
    "print('p-value: %f' % result[1])\n",
    "print('Critical Values:')\n",
    "for key, value in result[4].items():\n",
    "\tprint('\\t%s: %.3f' % (key, value))"
   ]
  },
  {
   "cell_type": "code",
   "execution_count": 32,
   "metadata": {},
   "outputs": [
    {
     "name": "stdout",
     "output_type": "stream",
     "text": [
      "Exchange Rate Difference Dickey Fuller Test\n",
      "Statistic: -53.993723\n",
      "p-value: 0.000000\n",
      "Critical Values:\n",
      "\t1%: -3.433\n",
      "\t5%: -2.863\n",
      "\t10%: -2.567\n"
     ]
    }
   ],
   "source": [
    "# Use statsmodel's augmented Diecky Fuller test\n",
    "series = train_diff.diff_1.dropna()\n",
    "X = series.values\n",
    "result = adfuller(X)\n",
    "print('Exchange Rate Difference Dickey Fuller Test')\n",
    "print('Statistic: %f' % result[0])\n",
    "print('p-value: %f' % result[1])\n",
    "print('Critical Values:')\n",
    "for key, value in result[4].items():\n",
    "\tprint('\\t%s: %.3f' % (key, value))"
   ]
  },
  {
   "cell_type": "markdown",
   "metadata": {},
   "source": [
    "The Dickey Fuller test results show a much lower Statistic value for the differenced data, along with a much smaller p-value, indicating that the differenced data is stationary."
   ]
  },
  {
   "cell_type": "markdown",
   "metadata": {},
   "source": [
    "### AutoCorrelation Function (ACF) & Partial AutoCorrelation Function (PACF)\n",
    "Comparing the exchange rate with a prior rates, testing for correlation.  Auto Correlation includes the impact of correlations between prior values, while the Partial Auto Correlation removes the impact of correlation to other prior values.  The values on the x-axis indicate the time-step shift."
   ]
  },
  {
   "cell_type": "code",
   "execution_count": 43,
   "metadata": {},
   "outputs": [
    {
     "data": {
      "image/png": "[encoded data removed]",
      "text/plain": [
       "<Figure size 1080x360 with 2 Axes>"
      ]
     },
     "metadata": {},
     "output_type": "display_data"
    }
   ],
   "source": [
    "plt.figure(figsize=(15, 5))\n",
    "\n",
    "plt.subplot(1, 2, 1)\n",
    "x_acf = pd.DataFrame(acf(train.Rate, nlags=20))\n",
    "sns.barplot(x=x_acf.index, y=x_acf[0])\n",
    "plt.title(\"Auto Correlation of Rate values\")\n",
    "\n",
    "plt.subplot(1, 2, 2)\n",
    "x_acf_diff = pd.DataFrame(acf(train_diff.diff_1[1:], nlags=20))\n",
    "sns.barplot(x=x_acf_diff.index, y=x_acf_diff[0])\n",
    "plt.title(\"Auto Correlation of Differenced Rate values \")\n",
    "plt.show()"
   ]
  },
  {
   "cell_type": "code",
   "execution_count": 45,
   "metadata": {},
   "outputs": [
    {
     "data": {
      "image/png": "[encoded data removed]",
      "text/plain": [
       "<Figure size 1080x360 with 2 Axes>"
      ]
     },
     "metadata": {},
     "output_type": "display_data"
    }
   ],
   "source": [
    "plt.figure(figsize=(15, 5))\n",
    "\n",
    "plt.subplot(1, 2, 1)\n",
    "x_pacf = pd.DataFrame(pacf(train.Rate, nlags=20))\n",
    "sns.barplot(x=x_pacf.index, y=x_pacf[0])\n",
    "plt.title(\"Partial Auto Correlation of Rate values\")\n",
    "\n",
    "plt.subplot(1, 2, 2)\n",
    "x_pacf_diff = pd.DataFrame(pacf(train_diff.diff_1[1:], nlags=20))\n",
    "sns.barplot(x=x_pacf_diff.index, y=x_pacf_diff[0])\n",
    "plt.title(\"Partial Auto Correlation of Differenced Rate values\")\n",
    "plt.show()"
   ]
  },
  {
   "cell_type": "markdown",
   "metadata": {},
   "source": [
    "The ACF of the original rates shows a gradual decline in correlations with increased time shifts.  The differenced data shows to auto correlation.<br>\n",
    "The PACF of the original exchange rate values shows strong auto-correlation at 1.  The PACF of the exchange rate difference values shows no notable correlation.  <br>\n",
    "Since it's the differenced data that we need for stationality, our model will likely perform best with parameters of 0 for the AR and MA elements."
   ]
  },
  {
   "cell_type": "markdown",
   "metadata": {},
   "source": [
    "## ARIMA model"
   ]
  },
  {
   "cell_type": "markdown",
   "metadata": {},
   "source": [
    "### Seasonality\n",
    "Using decomposition to identify trends and seasonality"
   ]
  },
  {
   "cell_type": "code",
   "execution_count": 49,
   "metadata": {},
   "outputs": [
    {
     "name": "stdout",
     "output_type": "stream",
     "text": [
      "Date\n",
      "2002-01-02   NaN\n",
      "2002-01-03   NaN\n",
      "2002-01-04   NaN\n",
      "2002-01-07   NaN\n",
      "2002-01-08   NaN\n",
      "2002-01-09   NaN\n",
      "2002-01-10   NaN\n",
      "2002-01-11   NaN\n",
      "2002-01-14   NaN\n",
      "2002-01-15   NaN\n",
      "2002-01-16   NaN\n",
      "2002-01-17   NaN\n",
      "2002-01-18   NaN\n",
      "2002-01-22   NaN\n",
      "2002-01-23   NaN\n",
      "2002-01-24   NaN\n",
      "2002-01-25   NaN\n",
      "2002-01-28   NaN\n",
      "2002-01-29   NaN\n",
      "2002-01-30   NaN\n",
      "2002-01-31   NaN\n",
      "2002-02-01   NaN\n",
      "2002-02-04   NaN\n",
      "2002-02-05   NaN\n",
      "2002-02-06   NaN\n",
      "2002-02-07   NaN\n",
      "2002-02-08   NaN\n",
      "2002-02-11   NaN\n",
      "2002-02-12   NaN\n",
      "2002-02-13   NaN\n",
      "              ..\n",
      "2013-07-16   NaN\n",
      "2013-07-17   NaN\n",
      "2013-07-18   NaN\n",
      "2013-07-19   NaN\n",
      "2013-07-22   NaN\n",
      "2013-07-23   NaN\n",
      "2013-07-24   NaN\n",
      "2013-07-25   NaN\n",
      "2013-07-26   NaN\n",
      "2013-07-29   NaN\n",
      "2013-07-30   NaN\n",
      "2013-07-31   NaN\n",
      "2013-08-01   NaN\n",
      "2013-08-02   NaN\n",
      "2013-08-05   NaN\n",
      "2013-08-06   NaN\n",
      "2013-08-07   NaN\n",
      "2013-08-08   NaN\n",
      "2013-08-09   NaN\n",
      "2013-08-12   NaN\n",
      "2013-08-13   NaN\n",
      "2013-08-14   NaN\n",
      "2013-08-15   NaN\n",
      "2013-08-16   NaN\n",
      "2013-08-19   NaN\n",
      "2013-08-20   NaN\n",
      "2013-08-21   NaN\n",
      "2013-08-22   NaN\n",
      "2013-08-23   NaN\n",
      "2013-08-26   NaN\n",
      "Name: Rate, Length: 2932, dtype: float64\n",
      "Date\n",
      "2002-01-02    0.008946\n",
      "2002-01-03    0.009458\n",
      "2002-01-04    0.004297\n",
      "2002-01-07    0.004036\n",
      "2002-01-08    0.002497\n",
      "2002-01-09    0.000429\n",
      "2002-01-10    0.004352\n",
      "2002-01-11    0.006961\n",
      "2002-01-14    0.005310\n",
      "2002-01-15    0.005002\n",
      "2002-01-16    0.004360\n",
      "2002-01-17    0.005818\n",
      "2002-01-18    0.006718\n",
      "2002-01-22    0.008897\n",
      "2002-01-23    0.010062\n",
      "2002-01-24    0.009628\n",
      "2002-01-25    0.016189\n",
      "2002-01-28    0.017263\n",
      "2002-01-29    0.016403\n",
      "2002-01-30    0.019869\n",
      "2002-01-31    0.015349\n",
      "2002-02-01    0.016242\n",
      "2002-02-04    0.019692\n",
      "2002-02-05    0.020870\n",
      "2002-02-06    0.020865\n",
      "2002-02-07    0.015506\n",
      "2002-02-08    0.017731\n",
      "2002-02-11    0.018141\n",
      "2002-02-12    0.015696\n",
      "2002-02-13    0.015699\n",
      "                ...   \n",
      "2013-07-16   -0.026272\n",
      "2013-07-17   -0.023195\n",
      "2013-07-18   -0.021989\n",
      "2013-07-19   -0.018483\n",
      "2013-07-22   -0.014877\n",
      "2013-07-23   -0.013950\n",
      "2013-07-24   -0.015555\n",
      "2013-07-25   -0.013331\n",
      "2013-07-26   -0.003781\n",
      "2013-07-29   -0.008028\n",
      "2013-07-30   -0.005518\n",
      "2013-07-31   -0.002240\n",
      "2013-08-01   -0.002214\n",
      "2013-08-02    0.001512\n",
      "2013-08-05   -0.004920\n",
      "2013-08-06   -0.001953\n",
      "2013-08-07   -0.001297\n",
      "2013-08-08    0.002673\n",
      "2013-08-09    0.008946\n",
      "2013-08-12    0.009458\n",
      "2013-08-13    0.004297\n",
      "2013-08-14    0.004036\n",
      "2013-08-15    0.002497\n",
      "2013-08-16    0.000429\n",
      "2013-08-19    0.004352\n",
      "2013-08-20    0.006961\n",
      "2013-08-21    0.005310\n",
      "2013-08-22    0.005002\n",
      "2013-08-23    0.004360\n",
      "2013-08-26    0.005818\n",
      "Name: Rate, Length: 2932, dtype: float64\n",
      "Date\n",
      "2002-01-02   NaN\n",
      "2002-01-03   NaN\n",
      "2002-01-04   NaN\n",
      "2002-01-07   NaN\n",
      "2002-01-08   NaN\n",
      "2002-01-09   NaN\n",
      "2002-01-10   NaN\n",
      "2002-01-11   NaN\n",
      "2002-01-14   NaN\n",
      "2002-01-15   NaN\n",
      "2002-01-16   NaN\n",
      "2002-01-17   NaN\n",
      "2002-01-18   NaN\n",
      "2002-01-22   NaN\n",
      "2002-01-23   NaN\n",
      "2002-01-24   NaN\n",
      "2002-01-25   NaN\n",
      "2002-01-28   NaN\n",
      "2002-01-29   NaN\n",
      "2002-01-30   NaN\n",
      "2002-01-31   NaN\n",
      "2002-02-01   NaN\n",
      "2002-02-04   NaN\n",
      "2002-02-05   NaN\n",
      "2002-02-06   NaN\n",
      "2002-02-07   NaN\n",
      "2002-02-08   NaN\n",
      "2002-02-11   NaN\n",
      "2002-02-12   NaN\n",
      "2002-02-13   NaN\n",
      "              ..\n",
      "2013-07-16   NaN\n",
      "2013-07-17   NaN\n",
      "2013-07-18   NaN\n",
      "2013-07-19   NaN\n",
      "2013-07-22   NaN\n",
      "2013-07-23   NaN\n",
      "2013-07-24   NaN\n",
      "2013-07-25   NaN\n",
      "2013-07-26   NaN\n",
      "2013-07-29   NaN\n",
      "2013-07-30   NaN\n",
      "2013-07-31   NaN\n",
      "2013-08-01   NaN\n",
      "2013-08-02   NaN\n",
      "2013-08-05   NaN\n",
      "2013-08-06   NaN\n",
      "2013-08-07   NaN\n",
      "2013-08-08   NaN\n",
      "2013-08-09   NaN\n",
      "2013-08-12   NaN\n",
      "2013-08-13   NaN\n",
      "2013-08-14   NaN\n",
      "2013-08-15   NaN\n",
      "2013-08-16   NaN\n",
      "2013-08-19   NaN\n",
      "2013-08-20   NaN\n",
      "2013-08-21   NaN\n",
      "2013-08-22   NaN\n",
      "2013-08-23   NaN\n",
      "2013-08-26   NaN\n",
      "Name: Rate, Length: 2932, dtype: float64\n",
      "Date\n",
      "2002-01-02    0.9031\n",
      "2002-01-03    0.8992\n",
      "2002-01-04    0.8946\n",
      "2002-01-07    0.8931\n",
      "2002-01-08    0.8925\n",
      "2002-01-09    0.8882\n",
      "2002-01-10    0.8925\n",
      "2002-01-11    0.8905\n",
      "2002-01-14    0.8935\n",
      "2002-01-15    0.8913\n",
      "2002-01-16    0.8834\n",
      "2002-01-17    0.8800\n",
      "2002-01-18    0.8844\n",
      "2002-01-22    0.8838\n",
      "2002-01-23    0.8836\n",
      "2002-01-24    0.8782\n",
      "2002-01-25    0.8655\n",
      "2002-01-28    0.8605\n",
      "2002-01-29    0.8643\n",
      "2002-01-30    0.8648\n",
      "2002-01-31    0.8594\n",
      "2002-02-01    0.8613\n",
      "2002-02-04    0.8685\n",
      "2002-02-05    0.8672\n",
      "2002-02-06    0.8693\n",
      "2002-02-07    0.8690\n",
      "2002-02-08    0.8727\n",
      "2002-02-11    0.8778\n",
      "2002-02-12    0.8768\n",
      "2002-02-13    0.8730\n",
      "               ...  \n",
      "2013-07-16    1.3144\n",
      "2013-07-17    1.3094\n",
      "2013-07-18    1.3078\n",
      "2013-07-19    1.3142\n",
      "2013-07-22    1.3193\n",
      "2013-07-23    1.3212\n",
      "2013-07-24    1.3228\n",
      "2013-07-25    1.3234\n",
      "2013-07-26    1.3269\n",
      "2013-07-29    1.3262\n",
      "2013-07-30    1.3266\n",
      "2013-07-31    1.3282\n",
      "2013-08-01    1.3217\n",
      "2013-08-02    1.3268\n",
      "2013-08-05    1.3257\n",
      "2013-08-06    1.3296\n",
      "2013-08-07    1.3329\n",
      "2013-08-08    1.3392\n",
      "2013-08-09    1.3338\n",
      "2013-08-12    1.3312\n",
      "2013-08-13    1.3247\n",
      "2013-08-14    1.3256\n",
      "2013-08-15    1.3263\n",
      "2013-08-16    1.3321\n",
      "2013-08-19    1.3348\n",
      "2013-08-20    1.3426\n",
      "2013-08-21    1.3368\n",
      "2013-08-22    1.3362\n",
      "2013-08-23    1.3392\n",
      "2013-08-26    1.3369\n",
      "Name: Rate, Length: 2932, dtype: float64\n"
     ]
    }
   ],
   "source": [
    "series = train.Rate\n",
    "result = seasonal_decompose(series, model='additive', freq=365)\n",
    "print(result.trend)\n",
    "print(result.seasonal)\n",
    "print(result.resid)\n",
    "print(result.observed)"
   ]
  },
  {
   "cell_type": "code",
   "execution_count": 50,
   "metadata": {},
   "outputs": [
    {
     "data": {
      "image/png": "[encoded data removed]",
      "text/plain": [
       "<Figure size 432x288 with 4 Axes>"
      ]
     },
     "metadata": {},
     "output_type": "display_data"
    }
   ],
   "source": [
    "result.plot()\n",
    "pyplot.show()"
   ]
  },
  {
   "cell_type": "code",
   "execution_count": null,
   "metadata": {},
   "outputs": [],
   "source": []
  },
  {
   "cell_type": "code",
   "execution_count": null,
   "metadata": {},
   "outputs": [],
   "source": []
  },
  {
   "cell_type": "markdown",
   "metadata": {},
   "source": [
    "### Using Auto Arima to for optimal test parameters"
   ]
  },
  {
   "cell_type": "code",
   "execution_count": 46,
   "metadata": {},
   "outputs": [
    {
     "name": "stdout",
     "output_type": "stream",
     "text": [
      "Fit ARIMA: order=(1, 1, 1); AIC=nan, BIC=nan, Fit time=nan seconds\n",
      "Fit ARIMA: order=(0, 1, 0); AIC=-19736.188, BIC=-19724.222, Fit time=0.084 seconds\n",
      "Fit ARIMA: order=(1, 1, 0); AIC=-19734.202, BIC=-19716.253, Fit time=0.065 seconds\n",
      "Fit ARIMA: order=(0, 1, 1); AIC=-19734.203, BIC=-19716.253, Fit time=0.051 seconds\n",
      "Total fit time: 0.531 seconds\n",
      "-19736.18795990398\n"
     ]
    }
   ],
   "source": [
    "train_step_model = auto_arima(train.Rate, start_p=1, start_q=1,\n",
    "                           max_p=3, max_q=3, m=12,\n",
    "                           start_P=0, seasonal=False,\n",
    "                           d=1, D=1, trace=True,\n",
    "                           error_action='ignore',  \n",
    "                           suppress_warnings=True, \n",
    "                           stepwise=True)\n",
    "print(train_step_model.aic())"
   ]
  },
  {
   "cell_type": "markdown",
   "metadata": {},
   "source": [
    "As anticipated, the ARIMA model of (0,1,0) works best, as indicated by the (lowest) AIC value, the measure of the relative statistical quality of the model."
   ]
  },
  {
   "cell_type": "markdown",
   "metadata": {},
   "source": [
    "### Using Auto Arima with seasonality to test for optimal parameters"
   ]
  },
  {
   "cell_type": "code",
   "execution_count": 47,
   "metadata": {},
   "outputs": [
    {
     "name": "stderr",
     "output_type": "stream",
     "text": [
      "/Library/Frameworks/Python.framework/Versions/3.6/lib/python3.6/site-packages/scipy/linalg/basic.py:1226: RuntimeWarning: internal gelsd driver lwork query error, required iwork dimension not returned. This is likely the result of LAPACK bug 0038, fixed in LAPACK 3.2.2 (released July 21, 2010). Falling back to 'gelss' driver.\n",
      "  warnings.warn(mesg, RuntimeWarning)\n"
     ]
    },
    {
     "name": "stdout",
     "output_type": "stream",
     "text": [
      "Fit ARIMA: order=(1, 1, 1) seasonal_order=(0, 0, 1, 12); AIC=nan, BIC=nan, Fit time=nan seconds\n",
      "Fit ARIMA: order=(0, 1, 0) seasonal_order=(0, 0, 0, 12); AIC=-19736.188, BIC=-19724.222, Fit time=0.469 seconds\n",
      "Fit ARIMA: order=(1, 1, 0) seasonal_order=(1, 0, 0, 12); AIC=-19733.139, BIC=-19709.207, Fit time=2.579 seconds\n",
      "Fit ARIMA: order=(0, 1, 1) seasonal_order=(0, 0, 1, 12); AIC=-19733.178, BIC=-19709.246, Fit time=3.118 seconds\n",
      "Fit ARIMA: order=(0, 1, 0) seasonal_order=(1, 0, 0, 12); AIC=-19735.130, BIC=-19717.181, Fit time=1.286 seconds\n",
      "Fit ARIMA: order=(0, 1, 0) seasonal_order=(0, 0, 1, 12); AIC=-19735.169, BIC=-19717.220, Fit time=1.894 seconds\n",
      "Fit ARIMA: order=(0, 1, 0) seasonal_order=(1, 0, 1, 12); AIC=-19732.810, BIC=-19708.878, Fit time=4.588 seconds\n",
      "Fit ARIMA: order=(1, 1, 0) seasonal_order=(0, 0, 0, 12); AIC=-19734.202, BIC=-19716.253, Fit time=0.559 seconds\n",
      "Fit ARIMA: order=(0, 1, 1) seasonal_order=(0, 0, 0, 12); AIC=-19734.202, BIC=-19716.253, Fit time=0.422 seconds\n",
      "Fit ARIMA: order=(1, 1, 1) seasonal_order=(0, 0, 0, 12); AIC=nan, BIC=nan, Fit time=nan seconds\n",
      "Total fit time: 15.003 seconds\n",
      "-19736.187961028892\n"
     ]
    }
   ],
   "source": [
    "train_step_model = auto_arima(train.Rate, start_p=1, start_q=1,\n",
    "                           max_p=3, max_q=3, m=12,\n",
    "                           start_P=0, seasonal=True,\n",
    "                           d=1, trace=True,\n",
    "                           error_action='ignore',  \n",
    "                           suppress_warnings=True, \n",
    "                           stepwise=True)\n",
    "print(train_step_model.aic())"
   ]
  },
  {
   "cell_type": "code",
   "execution_count": 74,
   "metadata": {},
   "outputs": [
    {
     "name": "stderr",
     "output_type": "stream",
     "text": [
      "/Library/Frameworks/Python.framework/Versions/3.6/lib/python3.6/site-packages/scipy/linalg/basic.py:1226: RuntimeWarning: internal gelsd driver lwork query error, required iwork dimension not returned. This is likely the result of LAPACK bug 0038, fixed in LAPACK 3.2.2 (released July 21, 2010). Falling back to 'gelss' driver.\n",
      "  warnings.warn(mesg, RuntimeWarning)\n"
     ]
    },
    {
     "name": "stdout",
     "output_type": "stream",
     "text": [
      "Fit ARIMA: order=(2, 1, 2) seasonal_order=(1, 0, 1, 24); AIC=-19729.394, BIC=-19681.529, Fit time=27.670 seconds\n",
      "Fit ARIMA: order=(0, 1, 0) seasonal_order=(0, 0, 0, 24); AIC=-19736.188, BIC=-19724.222, Fit time=0.379 seconds\n",
      "Fit ARIMA: order=(1, 1, 0) seasonal_order=(1, 0, 0, 24); AIC=-19733.701, BIC=-19709.769, Fit time=5.975 seconds\n",
      "Fit ARIMA: order=(0, 1, 1) seasonal_order=(0, 0, 1, 24); AIC=-19733.607, BIC=-19709.674, Fit time=7.392 seconds\n",
      "Fit ARIMA: order=(0, 1, 0) seasonal_order=(1, 0, 0, 24); AIC=-19735.695, BIC=-19717.745, Fit time=8.150 seconds\n",
      "Fit ARIMA: order=(0, 1, 0) seasonal_order=(0, 0, 1, 24); AIC=-19735.598, BIC=-19717.649, Fit time=17.604 seconds\n",
      "Fit ARIMA: order=(0, 1, 0) seasonal_order=(1, 0, 1, 24); AIC=-19733.660, BIC=-19709.728, Fit time=15.958 seconds\n",
      "Fit ARIMA: order=(1, 1, 0) seasonal_order=(0, 0, 0, 24); AIC=-19734.202, BIC=-19716.253, Fit time=0.888 seconds\n",
      "Fit ARIMA: order=(0, 1, 1) seasonal_order=(0, 0, 0, 24); AIC=-19734.202, BIC=-19716.253, Fit time=0.682 seconds\n",
      "Fit ARIMA: order=(1, 1, 1) seasonal_order=(0, 0, 0, 24); AIC=nan, BIC=nan, Fit time=nan seconds\n",
      "Total fit time: 85.282 seconds\n",
      "-19736.187961028892\n"
     ]
    }
   ],
   "source": [
    "train_step_model = auto_arima(train.Rate, seasonal=True,\n",
    "                           m = 24, trace=True,\n",
    "                           error_action='ignore',  \n",
    "                           suppress_warnings=True, \n",
    "                           stepwise=True)\n",
    "print(train_step_model.aic())"
   ]
  },
  {
   "cell_type": "code",
   "execution_count": null,
   "metadata": {},
   "outputs": [],
   "source": [
    "\n",
    "series = Series.from_csv('daily-total-female-births.csv', header=0)\n",
    "X = series.values\n",
    "result = adfuller(X)\n",
    "print('ADF Statistic: %f' % result[0])\n",
    "print('p-value: %f' % result[1])\n",
    "print('Critical Values:')\n",
    "for key, value in result[4].items():\n",
    "\tprint('\\t%s: %.3f' % (key, value))"
   ]
  },
  {
   "cell_type": "code",
   "execution_count": null,
   "metadata": {},
   "outputs": [],
   "source": []
  },
  {
   "cell_type": "code",
   "execution_count": null,
   "metadata": {},
   "outputs": [],
   "source": []
  },
  {
   "cell_type": "markdown",
   "metadata": {},
   "source": [
    "### Training the model and Testing"
   ]
  },
  {
   "cell_type": "code",
   "execution_count": 37,
   "metadata": {},
   "outputs": [
    {
     "name": "stdout",
     "output_type": "stream",
     "text": [
      "                             ARIMA Model Results                              \n",
      "==============================================================================\n",
      "Dep. Variable:                 D.Rate   No. Observations:                 2931\n",
      "Model:                 ARIMA(0, 1, 0)   Log Likelihood                9870.094\n",
      "Method:                           css   S.D. of innovations              0.008\n",
      "Date:                Thu, 13 Sep 2018   AIC                         -19736.188\n",
      "Time:                        08:42:00   BIC                         -19724.222\n",
      "Sample:                             1   HQIC                        -19731.879\n",
      "                                                                              \n",
      "==============================================================================\n",
      "                 coef    std err          z      P>|z|      [0.025      0.975]\n",
      "------------------------------------------------------------------------------\n",
      "const          0.0001      0.000      0.961      0.337      -0.000       0.000\n",
      "==============================================================================\n",
      "Residuals Description\n",
      "count    2.931000e+03\n",
      "mean     1.260109e-10\n",
      "std      8.343676e-03\n",
      "min     -4.244800e-02\n",
      "25%     -4.248004e-03\n",
      "50%      5.199603e-05\n",
      "75%      4.651996e-03\n",
      "max      6.185200e-02\n",
      "dtype: float64\n"
     ]
    },
    {
     "name": "stderr",
     "output_type": "stream",
     "text": [
      "/Library/Frameworks/Python.framework/Versions/3.6/lib/python3.6/site-packages/statsmodels/tsa/base/tsa_model.py:225: ValueWarning: A date index has been provided, but it has no associated frequency information and so will be ignored when e.g. forecasting.\n",
      "  ' ignored when e.g. forecasting.', ValueWarning)\n",
      "/Library/Frameworks/Python.framework/Versions/3.6/lib/python3.6/site-packages/statsmodels/tsa/base/tsa_model.py:225: ValueWarning: A date index has been provided, but it has no associated frequency information and so will be ignored when e.g. forecasting.\n",
      "  ' ignored when e.g. forecasting.', ValueWarning)\n"
     ]
    }
   ],
   "source": [
    "# fit the model\n",
    "model_010 = ARIMA(train.Rate, order=(0,1,0))\n",
    "model_010_fit = model_010.fit()\n",
    "print(model_010_fit.summary())\n",
    "print('Residuals Description')\n",
    "print(model_010_fit.resid.describe())"
   ]
  },
  {
   "cell_type": "code",
   "execution_count": null,
   "metadata": {},
   "outputs": [],
   "source": []
  },
  {
   "cell_type": "code",
   "execution_count": null,
   "metadata": {},
   "outputs": [],
   "source": []
  },
  {
   "cell_type": "code",
   "execution_count": null,
   "metadata": {},
   "outputs": [],
   "source": []
  },
  {
   "cell_type": "code",
   "execution_count": null,
   "metadata": {},
   "outputs": [],
   "source": []
  },
  {
   "cell_type": "code",
   "execution_count": null,
   "metadata": {},
   "outputs": [],
   "source": [
    "# https://machinelearningmastery.com/make-sample-forecasts-arima-python/"
   ]
  },
  {
   "cell_type": "code",
   "execution_count": null,
   "metadata": {},
   "outputs": [],
   "source": []
  },
  {
   "cell_type": "code",
   "execution_count": null,
   "metadata": {},
   "outputs": [],
   "source": []
  },
  {
   "cell_type": "code",
   "execution_count": null,
   "metadata": {},
   "outputs": [],
   "source": []
  },
  {
   "cell_type": "code",
   "execution_count": null,
   "metadata": {},
   "outputs": [],
   "source": []
  },
  {
   "cell_type": "code",
   "execution_count": null,
   "metadata": {},
   "outputs": [],
   "source": []
  }
 ],
 "metadata": {
  "kernelspec": {
   "display_name": "Python 3",
   "language": "python",
   "name": "python3"
  },
  "language_info": {
   "codemirror_mode": {
    "name": "ipython",
    "version": 3
   },
   "file_extension": ".py",
   "mimetype": "text/x-python",
   "name": "python",
   "nbconvert_exporter": "python",
   "pygments_lexer": "ipython3",
   "version": "3.6.1"
  }
 },
 "nbformat": 4,
 "nbformat_minor": 2
}
