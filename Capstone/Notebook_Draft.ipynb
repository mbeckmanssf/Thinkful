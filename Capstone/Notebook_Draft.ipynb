{
 "cells": [
  {
   "cell_type": "markdown",
   "metadata": {},
   "source": [
    "# Predicting Exchange Rates for US Dollar to Euro"
   ]
  },
  {
   "cell_type": "code",
   "execution_count": 1,
   "metadata": {},
   "outputs": [],
   "source": [
    "import numpy as np\n",
    "import pandas as pd\n",
    "import scipy\n",
    "from datetime import datetime\n",
    "import datetime as dt\n",
    "from statsmodels.tsa.arima_model import ARIMA\n",
    "from statsmodels.tsa.stattools import acf, pacf\n",
    "from statsmodels.tsa.stattools import adfuller\n",
    "from statsmodels.tsa.seasonal import seasonal_decompose\n",
    "import statsmodels.api as sm\n",
    "from pyramid.arima import auto_arima\n",
    "import seaborn as sns\n",
    "import matplotlib.pyplot as plt\n",
    "%matplotlib inline\n",
    "sns.set()"
   ]
  },
  {
   "cell_type": "markdown",
   "metadata": {},
   "source": [
    "### Exchange Rate Data\n",
    "Exchange rate for US Dollars to Euros from the initial use of the Euro in January 2002 through August 2018 as found at https://www.federalreserve.gov/data.htm"
   ]
  },
  {
   "cell_type": "code",
   "execution_count": 2,
   "metadata": {},
   "outputs": [
    {
     "data": {
      "text/html": [
       "<div>\n",
       "<style scoped>\n",
       "    .dataframe tbody tr th:only-of-type {\n",
       "        vertical-align: middle;\n",
       "    }\n",
       "\n",
       "    .dataframe tbody tr th {\n",
       "        vertical-align: top;\n",
       "    }\n",
       "\n",
       "    .dataframe thead th {\n",
       "        text-align: right;\n",
       "    }\n",
       "</style>\n",
       "<table border=\"1\" class=\"dataframe\">\n",
       "  <thead>\n",
       "    <tr style=\"text-align: right;\">\n",
       "      <th></th>\n",
       "      <th>Time Period</th>\n",
       "      <th>RXI$US_N.B.EU</th>\n",
       "    </tr>\n",
       "  </thead>\n",
       "  <tbody>\n",
       "    <tr>\n",
       "      <th>0</th>\n",
       "      <td>2002-01-01</td>\n",
       "      <td>ND</td>\n",
       "    </tr>\n",
       "    <tr>\n",
       "      <th>1</th>\n",
       "      <td>2002-01-02</td>\n",
       "      <td>0.9031</td>\n",
       "    </tr>\n",
       "    <tr>\n",
       "      <th>2</th>\n",
       "      <td>2002-01-03</td>\n",
       "      <td>0.8992</td>\n",
       "    </tr>\n",
       "    <tr>\n",
       "      <th>3</th>\n",
       "      <td>2002-01-04</td>\n",
       "      <td>0.8946</td>\n",
       "    </tr>\n",
       "    <tr>\n",
       "      <th>4</th>\n",
       "      <td>2002-01-07</td>\n",
       "      <td>0.8931</td>\n",
       "    </tr>\n",
       "  </tbody>\n",
       "</table>\n",
       "</div>"
      ],
      "text/plain": [
       "  Time Period RXI$US_N.B.EU\n",
       "0  2002-01-01            ND\n",
       "1  2002-01-02        0.9031\n",
       "2  2002-01-03        0.8992\n",
       "3  2002-01-04        0.8946\n",
       "4  2002-01-07        0.8931"
      ]
     },
     "execution_count": 2,
     "metadata": {},
     "output_type": "execute_result"
    }
   ],
   "source": [
    "# exchange rate data\n",
    "USEU_raw = pd.read_csv('USD_EU.csv', header=5)\n",
    "\n",
    "USEU_raw.head()"
   ]
  },
  {
   "cell_type": "markdown",
   "metadata": {},
   "source": [
    "The head of our dataset shows no data ('ND') is availabe for 2002-01-01.  Since the euro was first used on that date, there was no value for it.  Let's look at that first year of data."
   ]
  },
  {
   "cell_type": "code",
   "execution_count": 3,
   "metadata": {},
   "outputs": [
    {
     "data": {
      "text/plain": [
       "(251, 2)"
      ]
     },
     "execution_count": 3,
     "metadata": {},
     "output_type": "execute_result"
    }
   ],
   "source": [
    "USEU_2002 = USEU_raw.copy()\n",
    "\n",
    "# convert index to datetime\n",
    "USEU_2002['Date'] = USEU_raw['Time Period']\n",
    "\n",
    "# drop data from first year of euro use\n",
    "USEU_2002 = USEU_2002[USEU_2002.Date < '2003-01-01']\n",
    "\n",
    "# Convert exchange rate to a number, with coersion to throw NAs if conversion not possible\n",
    "USEU_2002['Rate'] = pd.to_numeric(USEU_2002['RXI$US_N.B.EU'], errors='coerce')\n",
    "\n",
    "# drop original columns\n",
    "USEU_2002 = USEU_2002.drop(columns=['Time Period', 'RXI$US_N.B.EU'])\n",
    "\n",
    "# Remove NAs and NDs\n",
    "USEU_2002.dropna(inplace=True)\n",
    "\n",
    "USEU_2002.shape"
   ]
  },
  {
   "cell_type": "code",
   "execution_count": 4,
   "metadata": {},
   "outputs": [
    {
     "data": {
      "image/png": "[encoded data removed]",
      "text/plain": [
       "<Figure size 1080x360 with 2 Axes>"
      ]
     },
     "metadata": {},
     "output_type": "display_data"
    }
   ],
   "source": [
    "plt.figure(figsize=(15, 5))\n",
    "\n",
    "plt.subplot(1, 2, 1)\n",
    "plt.boxplot(USEU_2002.Rate)\n",
    "plt.title('Boxplot of 2002 Exchange Rates')\n",
    "\n",
    "plt.subplot(1, 2, 2)\n",
    "plt.xlabel('Value of Euro in Dollars')\n",
    "plt.hist(USEU_2002.Rate, bins=20)\n",
    "plt.axvline(USEU_2002.Rate.mean(), color='c', linestyle='dashed', linewidth=2, label=\"Mean\")\n",
    "plt.legend(loc='upper left') \n",
    "plt.title('Histogram of 2002 Exchange Rates')\n",
    "plt.show()"
   ]
  },
  {
   "cell_type": "code",
   "execution_count": 5,
   "metadata": {},
   "outputs": [
    {
     "data": {
      "text/html": [
       "<div>\n",
       "<style scoped>\n",
       "    .dataframe tbody tr th:only-of-type {\n",
       "        vertical-align: middle;\n",
       "    }\n",
       "\n",
       "    .dataframe tbody tr th {\n",
       "        vertical-align: top;\n",
       "    }\n",
       "\n",
       "    .dataframe thead th {\n",
       "        text-align: right;\n",
       "    }\n",
       "</style>\n",
       "<table border=\"1\" class=\"dataframe\">\n",
       "  <thead>\n",
       "    <tr style=\"text-align: right;\">\n",
       "      <th></th>\n",
       "      <th>count</th>\n",
       "      <th>mean</th>\n",
       "      <th>std</th>\n",
       "      <th>min</th>\n",
       "      <th>25%</th>\n",
       "      <th>50%</th>\n",
       "      <th>75%</th>\n",
       "      <th>max</th>\n",
       "    </tr>\n",
       "  </thead>\n",
       "  <tbody>\n",
       "    <tr>\n",
       "      <th>Rate</th>\n",
       "      <td>251.0</td>\n",
       "      <td>0.945384</td>\n",
       "      <td>0.053321</td>\n",
       "      <td>0.8594</td>\n",
       "      <td>0.88605</td>\n",
       "      <td>0.9708</td>\n",
       "      <td>0.9875</td>\n",
       "      <td>1.0485</td>\n",
       "    </tr>\n",
       "  </tbody>\n",
       "</table>\n",
       "</div>"
      ],
      "text/plain": [
       "      count      mean       std     min      25%     50%     75%     max\n",
       "Rate  251.0  0.945384  0.053321  0.8594  0.88605  0.9708  0.9875  1.0485"
      ]
     },
     "execution_count": 5,
     "metadata": {},
     "output_type": "execute_result"
    }
   ],
   "source": [
    "USEU_2002.describe().transpose()"
   ]
  },
  {
   "cell_type": "markdown",
   "metadata": {},
   "source": [
    "The data from 2002 contains the lowest euro values, with a mean of about 95 cents.  We'll drop the first year of data to get a more established value of the exchange rate."
   ]
  },
  {
   "cell_type": "code",
   "execution_count": 6,
   "metadata": {},
   "outputs": [
    {
     "data": {
      "text/plain": [
       "(3938, 2)"
      ]
     },
     "execution_count": 6,
     "metadata": {},
     "output_type": "execute_result"
    }
   ],
   "source": [
    "USEU_data = USEU_raw.copy()\n",
    "\n",
    "# convert index to datetime\n",
    "USEU_data['Date'] = pd.to_datetime(USEU_raw['Time Period'])\n",
    "\n",
    "# drop data from first year of euro use\n",
    "USEU_data = USEU_data[USEU_data.Date >= '2003-01-01']\n",
    "\n",
    "# Convert exchange rate to a number, with coersion to throw NAs if conversion not possible\n",
    "USEU_data['Rate'] = pd.to_numeric(USEU_data['RXI$US_N.B.EU'], errors='coerce')\n",
    "\n",
    "# drop original columns\n",
    "USEU_data = USEU_data.drop(columns=['Time Period', 'RXI$US_N.B.EU'])\n",
    "\n",
    "# Remove NAs and NDs\n",
    "USEU_data.dropna(inplace=True)\n",
    "\n",
    "# reset index to sequential from 0\n",
    "USEU_data.reset_index(drop=True, inplace=True)\n",
    "\n",
    "USEU_data.shape"
   ]
  },
  {
   "cell_type": "code",
   "execution_count": 7,
   "metadata": {},
   "outputs": [
    {
     "data": {
      "text/html": [
       "<div>\n",
       "<style scoped>\n",
       "    .dataframe tbody tr th:only-of-type {\n",
       "        vertical-align: middle;\n",
       "    }\n",
       "\n",
       "    .dataframe tbody tr th {\n",
       "        vertical-align: top;\n",
       "    }\n",
       "\n",
       "    .dataframe thead th {\n",
       "        text-align: right;\n",
       "    }\n",
       "</style>\n",
       "<table border=\"1\" class=\"dataframe\">\n",
       "  <thead>\n",
       "    <tr style=\"text-align: right;\">\n",
       "      <th></th>\n",
       "      <th>Date</th>\n",
       "      <th>Rate</th>\n",
       "    </tr>\n",
       "  </thead>\n",
       "  <tbody>\n",
       "    <tr>\n",
       "      <th>0</th>\n",
       "      <td>2003-01-02</td>\n",
       "      <td>1.0361</td>\n",
       "    </tr>\n",
       "    <tr>\n",
       "      <th>1</th>\n",
       "      <td>2003-01-03</td>\n",
       "      <td>1.0418</td>\n",
       "    </tr>\n",
       "    <tr>\n",
       "      <th>2</th>\n",
       "      <td>2003-01-06</td>\n",
       "      <td>1.0469</td>\n",
       "    </tr>\n",
       "    <tr>\n",
       "      <th>3</th>\n",
       "      <td>2003-01-07</td>\n",
       "      <td>1.0419</td>\n",
       "    </tr>\n",
       "    <tr>\n",
       "      <th>4</th>\n",
       "      <td>2003-01-08</td>\n",
       "      <td>1.0447</td>\n",
       "    </tr>\n",
       "  </tbody>\n",
       "</table>\n",
       "</div>"
      ],
      "text/plain": [
       "        Date    Rate\n",
       "0 2003-01-02  1.0361\n",
       "1 2003-01-03  1.0418\n",
       "2 2003-01-06  1.0469\n",
       "3 2003-01-07  1.0419\n",
       "4 2003-01-08  1.0447"
      ]
     },
     "execution_count": 7,
     "metadata": {},
     "output_type": "execute_result"
    }
   ],
   "source": [
    "USEU_data.head()"
   ]
  },
  {
   "cell_type": "code",
   "execution_count": 8,
   "metadata": {},
   "outputs": [
    {
     "data": {
      "text/html": [
       "<div>\n",
       "<style scoped>\n",
       "    .dataframe tbody tr th:only-of-type {\n",
       "        vertical-align: middle;\n",
       "    }\n",
       "\n",
       "    .dataframe tbody tr th {\n",
       "        vertical-align: top;\n",
       "    }\n",
       "\n",
       "    .dataframe thead th {\n",
       "        text-align: right;\n",
       "    }\n",
       "</style>\n",
       "<table border=\"1\" class=\"dataframe\">\n",
       "  <thead>\n",
       "    <tr style=\"text-align: right;\">\n",
       "      <th></th>\n",
       "      <th>count</th>\n",
       "      <th>mean</th>\n",
       "      <th>std</th>\n",
       "      <th>min</th>\n",
       "      <th>25%</th>\n",
       "      <th>50%</th>\n",
       "      <th>75%</th>\n",
       "      <th>max</th>\n",
       "    </tr>\n",
       "  </thead>\n",
       "  <tbody>\n",
       "    <tr>\n",
       "      <th>Rate</th>\n",
       "      <td>3938.0</td>\n",
       "      <td>1.271777</td>\n",
       "      <td>0.121051</td>\n",
       "      <td>1.0361</td>\n",
       "      <td>1.178825</td>\n",
       "      <td>1.27795</td>\n",
       "      <td>1.353875</td>\n",
       "      <td>1.601</td>\n",
       "    </tr>\n",
       "  </tbody>\n",
       "</table>\n",
       "</div>"
      ],
      "text/plain": [
       "       count      mean       std     min       25%      50%       75%    max\n",
       "Rate  3938.0  1.271777  0.121051  1.0361  1.178825  1.27795  1.353875  1.601"
      ]
     },
     "execution_count": 8,
     "metadata": {},
     "output_type": "execute_result"
    }
   ],
   "source": [
    "USEU_data.describe().transpose()"
   ]
  },
  {
   "cell_type": "code",
   "execution_count": 9,
   "metadata": {},
   "outputs": [
    {
     "data": {
      "image/png": "[encoded data removed]",
      "text/plain": [
       "<Figure size 1080x360 with 2 Axes>"
      ]
     },
     "metadata": {},
     "output_type": "display_data"
    }
   ],
   "source": [
    "plt.figure(figsize=(15, 5))\n",
    "\n",
    "plt.subplot(1, 2, 1)\n",
    "plt.boxplot(USEU_data.Rate)\n",
    "plt.title('Boxplot of Exchange Rates')\n",
    "\n",
    "plt.subplot(1, 2, 2)\n",
    "plt.xlabel('Value of Euro in Dollars')\n",
    "plt.hist(USEU_data.Rate, bins=20)\n",
    "plt.axvline(USEU_data.Rate.mean(), color='c', linestyle='dashed', linewidth=2, label=\"Mean\")\n",
    "plt.legend(loc='upper left') \n",
    "plt.title('Histogram of Exchange Rates')\n",
    "plt.show()"
   ]
  },
  {
   "cell_type": "markdown",
   "metadata": {},
   "source": [
    "Looking at the data from 2003 forward, we see a mean of 1.27 with a range from 1.04 to 1.60 - the boxplot shws no outliers."
   ]
  },
  {
   "cell_type": "markdown",
   "metadata": {},
   "source": [
    "### Time Series Analysis\n",
    "The first step in working with our data is to look at the influence of time on the exchange rate.  We will create a time series, with the date as the index."
   ]
  },
  {
   "cell_type": "code",
   "execution_count": 10,
   "metadata": {},
   "outputs": [],
   "source": [
    "# set time series\n",
    "time_series = USEU_data.copy()\n",
    "time_series.index = pd.to_datetime(time_series['Date'])\n",
    "time_series = time_series.drop(columns=['Date'])"
   ]
  },
  {
   "cell_type": "code",
   "execution_count": 11,
   "metadata": {},
   "outputs": [
    {
     "data": {
      "image/png": "[encoded data removed]",
      "text/plain": [
       "<Figure size 1080x360 with 1 Axes>"
      ]
     },
     "metadata": {},
     "output_type": "display_data"
    }
   ],
   "source": [
    "# plot time series\n",
    "plt.figure(figsize=(15, 5))\n",
    "plt.xlabel('Date')\n",
    "plt.ylabel('Value of Euro in Dollars')\n",
    "plt.plot(time_series.Rate, label='Rate')\n",
    "plt.title('Time Series of Dollar to Euro Exchange Rate')\n",
    "plt.legend()\n",
    "plt.show()"
   ]
  },
  {
   "cell_type": "markdown",
   "metadata": {},
   "source": [
    "The value of the euro generally increased from 2003 through 2008.  There are then erratic rates that generally trend down through 2015.  There is a significant drop in relative value of the Euro from late 2009 to mid 2010, then again from 2014 to early 2015.\n",
    "\n",
    "This plot makes it clear visually that our data is not stationary, in that it is not clustered around a single value.  By plotting the difference of each data point from the prior value, we should be able to see stationality."
   ]
  },
  {
   "cell_type": "code",
   "execution_count": 12,
   "metadata": {},
   "outputs": [
    {
     "data": {
      "image/png": "[encoded data removed]",
      "text/plain": [
       "<Figure size 1080x360 with 1 Axes>"
      ]
     },
     "metadata": {},
     "output_type": "display_data"
    }
   ],
   "source": [
    "# difference of one record from previous\n",
    "time_series['diff_1'] = time_series.Rate - time_series.Rate.shift()\n",
    "\n",
    "plt.figure(figsize=(15, 5))\n",
    "plt.plot(time_series.index, time_series.diff_1, label=\"Rate Difference\")\n",
    "plt.axhline(0, color='grey', linestyle='solid', linewidth=1)\n",
    "plt.ylabel('Value Difference of Euro in Dollars')\n",
    "plt.title('Difference of Previous Value to Current Value')\n",
    "plt.legend()\n",
    "plt.show()"
   ]
  },
  {
   "cell_type": "markdown",
   "metadata": {},
   "source": [
    "That plot of difference shows the values custered around 0 - we have stationality in the data when taking a single difference.  This plot gives us insight into how our data values change from day to day.  We see greater volatility in the exchange rate in 2008 and 2009, with noticeable smaller extremes after 2009.  This reflects the economic instability of the time.  There is noticably more stability in the exchange rate in 2014 as less variation is seen from day to day.\n",
    "\n",
    "We can mathematically test the stationality of the difference data using a Dickey Fuller test."
   ]
  },
  {
   "cell_type": "code",
   "execution_count": 13,
   "metadata": {},
   "outputs": [
    {
     "name": "stdout",
     "output_type": "stream",
     "text": [
      "Exchange Rate Dickey Fuller Test\n",
      "Statistic: -2.403107\n",
      "p-value: 0.140861\n",
      "Critical Values:\n",
      "\t1%: -3.432\n",
      "\t5%: -2.862\n",
      "\t10%: -2.567\n"
     ]
    }
   ],
   "source": [
    "# Use statsmodel's augmented Diecky Fuller test\n",
    "series = time_series.Rate\n",
    "X = series.values\n",
    "result = adfuller(X)\n",
    "print('Exchange Rate Dickey Fuller Test')\n",
    "print('Statistic: %f' % result[0])\n",
    "print('p-value: %f' % result[1])\n",
    "print('Critical Values:')\n",
    "for key, value in result[4].items():\n",
    "\tprint('\\t%s: %.3f' % (key, value))"
   ]
  },
  {
   "cell_type": "code",
   "execution_count": 14,
   "metadata": {},
   "outputs": [
    {
     "name": "stdout",
     "output_type": "stream",
     "text": [
      "Exchange Rate Difference Dickey Fuller Test\n",
      "Statistic: -62.348214\n",
      "p-value: 0.000000\n",
      "Critical Values:\n",
      "\t1%: -3.432\n",
      "\t5%: -2.862\n",
      "\t10%: -2.567\n"
     ]
    }
   ],
   "source": [
    "# Dicky Fuller test on the difference data\n",
    "series = time_series.diff_1.dropna()\n",
    "X = series.values\n",
    "result = adfuller(X)\n",
    "print('Exchange Rate Difference Dickey Fuller Test')\n",
    "print('Statistic: %f' % result[0])\n",
    "print('p-value: %f' % result[1])\n",
    "print('Critical Values:')\n",
    "for key, value in result[4].items():\n",
    "\tprint('\\t%s: %.3f' % (key, value))"
   ]
  },
  {
   "cell_type": "markdown",
   "metadata": {},
   "source": [
    "The Dickey Fuller test results show a much lower Statistic value for the differenced data, along with a much smaller p-value, indicating that the differenced data is stationary.\n",
    "\n",
    "Now that we have some information about our time series, we'll separate out some training data and see what we can predict."
   ]
  },
  {
   "cell_type": "markdown",
   "metadata": {},
   "source": [
    "### Training and Test\n",
    "Separate data into train and test at 70/30 split."
   ]
  },
  {
   "cell_type": "code",
   "execution_count": 15,
   "metadata": {},
   "outputs": [
    {
     "name": "stdout",
     "output_type": "stream",
     "text": [
      "Observations: 3938\n",
      "Training Observations: 2756\n",
      "Testing Observations: 1182\n"
     ]
    }
   ],
   "source": [
    "# define training set from original data\n",
    "train_size = int(len(USEU_data) * 0.70)\n",
    "train, test = USEU_data[0:train_size], USEU_data[train_size:len(USEU_data)]\n",
    "\n",
    "# define training set from time series data\n",
    "series_train, series_test = time_series[0:train_size], time_series[train_size:len(USEU_data)]\n",
    "\n",
    "print('Observations: %d' % (len(USEU_data)))\n",
    "print('Training Observations: %d' % (len(train)))\n",
    "print('Testing Observations: %d' % (len(test)))"
   ]
  },
  {
   "cell_type": "code",
   "execution_count": 16,
   "metadata": {},
   "outputs": [
    {
     "data": {
      "text/html": [
       "<div>\n",
       "<style scoped>\n",
       "    .dataframe tbody tr th:only-of-type {\n",
       "        vertical-align: middle;\n",
       "    }\n",
       "\n",
       "    .dataframe tbody tr th {\n",
       "        vertical-align: top;\n",
       "    }\n",
       "\n",
       "    .dataframe thead th {\n",
       "        text-align: right;\n",
       "    }\n",
       "</style>\n",
       "<table border=\"1\" class=\"dataframe\">\n",
       "  <thead>\n",
       "    <tr style=\"text-align: right;\">\n",
       "      <th></th>\n",
       "      <th>Date</th>\n",
       "      <th>Rate</th>\n",
       "    </tr>\n",
       "  </thead>\n",
       "  <tbody>\n",
       "    <tr>\n",
       "      <th>2756</th>\n",
       "      <td>2013-12-16</td>\n",
       "      <td>1.3757</td>\n",
       "    </tr>\n",
       "    <tr>\n",
       "      <th>2757</th>\n",
       "      <td>2013-12-17</td>\n",
       "      <td>1.3748</td>\n",
       "    </tr>\n",
       "    <tr>\n",
       "      <th>2758</th>\n",
       "      <td>2013-12-18</td>\n",
       "      <td>1.3766</td>\n",
       "    </tr>\n",
       "    <tr>\n",
       "      <th>2759</th>\n",
       "      <td>2013-12-19</td>\n",
       "      <td>1.3666</td>\n",
       "    </tr>\n",
       "    <tr>\n",
       "      <th>2760</th>\n",
       "      <td>2013-12-20</td>\n",
       "      <td>1.3673</td>\n",
       "    </tr>\n",
       "  </tbody>\n",
       "</table>\n",
       "</div>"
      ],
      "text/plain": [
       "           Date    Rate\n",
       "2756 2013-12-16  1.3757\n",
       "2757 2013-12-17  1.3748\n",
       "2758 2013-12-18  1.3766\n",
       "2759 2013-12-19  1.3666\n",
       "2760 2013-12-20  1.3673"
      ]
     },
     "execution_count": 16,
     "metadata": {},
     "output_type": "execute_result"
    }
   ],
   "source": [
    "test.head()"
   ]
  },
  {
   "cell_type": "code",
   "execution_count": 17,
   "metadata": {},
   "outputs": [
    {
     "data": {
      "text/html": [
       "<div>\n",
       "<style scoped>\n",
       "    .dataframe tbody tr th:only-of-type {\n",
       "        vertical-align: middle;\n",
       "    }\n",
       "\n",
       "    .dataframe tbody tr th {\n",
       "        vertical-align: top;\n",
       "    }\n",
       "\n",
       "    .dataframe thead th {\n",
       "        text-align: right;\n",
       "    }\n",
       "</style>\n",
       "<table border=\"1\" class=\"dataframe\">\n",
       "  <thead>\n",
       "    <tr style=\"text-align: right;\">\n",
       "      <th></th>\n",
       "      <th>Date</th>\n",
       "      <th>Rate</th>\n",
       "    </tr>\n",
       "  </thead>\n",
       "  <tbody>\n",
       "    <tr>\n",
       "      <th>3933</th>\n",
       "      <td>2018-08-27</td>\n",
       "      <td>1.1676</td>\n",
       "    </tr>\n",
       "    <tr>\n",
       "      <th>3934</th>\n",
       "      <td>2018-08-28</td>\n",
       "      <td>1.1720</td>\n",
       "    </tr>\n",
       "    <tr>\n",
       "      <th>3935</th>\n",
       "      <td>2018-08-29</td>\n",
       "      <td>1.1699</td>\n",
       "    </tr>\n",
       "    <tr>\n",
       "      <th>3936</th>\n",
       "      <td>2018-08-30</td>\n",
       "      <td>1.1646</td>\n",
       "    </tr>\n",
       "    <tr>\n",
       "      <th>3937</th>\n",
       "      <td>2018-08-31</td>\n",
       "      <td>1.1596</td>\n",
       "    </tr>\n",
       "  </tbody>\n",
       "</table>\n",
       "</div>"
      ],
      "text/plain": [
       "           Date    Rate\n",
       "3933 2018-08-27  1.1676\n",
       "3934 2018-08-28  1.1720\n",
       "3935 2018-08-29  1.1699\n",
       "3936 2018-08-30  1.1646\n",
       "3937 2018-08-31  1.1596"
      ]
     },
     "execution_count": 17,
     "metadata": {},
     "output_type": "execute_result"
    }
   ],
   "source": [
    "test.tail()"
   ]
  },
  {
   "cell_type": "markdown",
   "metadata": {},
   "source": [
    "Our Training data cover almost eleven years, from January 2003 to December 2013.  The Test set is just under five years, from December 2013 to August 2018 (index 2756-3937)."
   ]
  },
  {
   "cell_type": "code",
   "execution_count": 18,
   "metadata": {},
   "outputs": [
    {
     "data": {
      "image/png": "[encoded data removed]",
      "text/plain": [
       "<Figure size 1080x360 with 2 Axes>"
      ]
     },
     "metadata": {},
     "output_type": "display_data"
    },
    {
     "name": "stdout",
     "output_type": "stream",
     "text": [
      "Training Mean Rate: $1.31\n",
      "Test Mean Rate: $1.18\n"
     ]
    }
   ],
   "source": [
    "plt.figure(figsize=(15, 5))\n",
    "\n",
    "plt.subplot(1, 2, 1)\n",
    "plt.boxplot(train.Rate.dropna(how = 'any'))\n",
    "plt.title('Training Exchange Rates')\n",
    "\n",
    "plt.subplot(1, 2, 2)\n",
    "plt.boxplot(test.Rate.dropna(how = 'any'))\n",
    "plt.title('Test Set Exchange Rates')\n",
    "\n",
    "plt.show()\n",
    "\n",
    "print('Training Mean Rate: $%.2f' % (train.Rate.mean()))\n",
    "print('Test Mean Rate: $%.2f' % (test.Rate.mean()))"
   ]
  },
  {
   "cell_type": "markdown",
   "metadata": {},
   "source": [
    "These individual box plots of the training and test data show greater variation in the training set - with Euro values raging from just over 1.00 to over 1.60.  The test fits within that range, from 1.05 to 1.40.  <br>\n",
    "This greater range of the training set includes several outliers on both the high and low ends, while the test set has no notable outliers.  The test set also shows a stronger value for the dollar, as the average Euro rate is notable lower than in the training set."
   ]
  },
  {
   "cell_type": "markdown",
   "metadata": {},
   "source": [
    "# Time Series Models\n",
    "The primary algorithm for time series is the ARIMA model.  The model takes three parameters: <br>\n",
    "AR for auto-regressive or how the data relates to it's prior values<br>\n",
    "I for integrated or the level of differencing required to make the data stationary<br>\n",
    "MA for moving average or how the data relates to prior errors\n",
    "\n",
    "Since we saw stationarity in our data by taking the first difference, we will start with an integrated parameter of 1."
   ]
  },
  {
   "cell_type": "markdown",
   "metadata": {},
   "source": [
    "### AutoCorrelation Function (ACF) & Partial AutoCorrelation Function (PACF)\n",
    "Comparing the exchange rate with a prior rates, testing for correlation.  Auto Correlation includes the impact of correlations between prior values, while the Partial Auto Correlation removes the impact of correlation to other prior values.  The values on the x-axis indicate the time-step shift."
   ]
  },
  {
   "cell_type": "code",
   "execution_count": 19,
   "metadata": {},
   "outputs": [
    {
     "data": {
      "image/png": "[encoded data removed]",
      "text/plain": [
       "<Figure size 1080x360 with 2 Axes>"
      ]
     },
     "metadata": {},
     "output_type": "display_data"
    }
   ],
   "source": [
    "plt.figure(figsize=(15, 5))\n",
    "\n",
    "plt.subplot(1, 2, 1)\n",
    "x_acf = pd.DataFrame(acf(series_train.Rate, nlags=20))\n",
    "sns.barplot(x=x_acf.index, y=x_acf[0])\n",
    "plt.title(\"Auto Correlation of Rate values\")\n",
    "\n",
    "plt.subplot(1, 2, 2)\n",
    "x_acf_diff = pd.DataFrame(acf(series_train.diff_1[1:], nlags=20))\n",
    "sns.barplot(x=x_acf_diff.index, y=x_acf_diff[0])\n",
    "plt.title(\"Auto Correlation of Differenced Rate values \")\n",
    "plt.show()"
   ]
  },
  {
   "cell_type": "code",
   "execution_count": 20,
   "metadata": {},
   "outputs": [
    {
     "data": {
      "image/png": "[encoded data removed]",
      "text/plain": [
       "<Figure size 1080x360 with 2 Axes>"
      ]
     },
     "metadata": {},
     "output_type": "display_data"
    }
   ],
   "source": [
    "plt.figure(figsize=(15, 5))\n",
    "\n",
    "plt.subplot(1, 2, 1)\n",
    "x_pacf = pd.DataFrame(pacf(series_train.Rate, nlags=20))\n",
    "sns.barplot(x=x_pacf.index, y=x_pacf[0])\n",
    "plt.title(\"Partial Auto Correlation of Rate values\")\n",
    "\n",
    "plt.subplot(1, 2, 2)\n",
    "x_pacf_diff = pd.DataFrame(pacf(series_train.diff_1[1:], nlags=20))\n",
    "sns.barplot(x=x_pacf_diff.index, y=x_pacf_diff[0])\n",
    "plt.title(\"Partial Auto Correlation of Differenced Rate values\")\n",
    "plt.show()"
   ]
  },
  {
   "cell_type": "markdown",
   "metadata": {},
   "source": [
    "The ACF of the original rates shows a gradual decline in correlations with increased time shifts.  The differenced data shows no auto correlation, although there is a slight elevation at 7 lags.<br>\n",
    "The PACF of the original exchange rate values shows strong auto-correlation at 1.  The PACF of the exchange rate difference values shows no notable correlation, although the lag-7 again shows a slight elevation.  <br>\n",
    "We'll run some additional tests to find the best parameters for our model, but 0 for the AR and MA elements will likely be well-suited."
   ]
  },
  {
   "cell_type": "code",
   "execution_count": null,
   "metadata": {},
   "outputs": [],
   "source": []
  },
  {
   "cell_type": "markdown",
   "metadata": {},
   "source": [
    "## ARIMA model"
   ]
  },
  {
   "cell_type": "markdown",
   "metadata": {},
   "source": [
    "### Using Auto Arima to for optimal test parameters\n",
    "We will use the Akaike Information Criterion (AIC) to evaluate our models.  The AIC measures how well our data is explained by the model, relative to how complex it is."
   ]
  },
  {
   "cell_type": "code",
   "execution_count": 21,
   "metadata": {},
   "outputs": [
    {
     "name": "stdout",
     "output_type": "stream",
     "text": [
      "Fit ARIMA: order=(1, 1, 1); AIC=nan, BIC=nan, Fit time=nan seconds\n",
      "Fit ARIMA: order=(0, 1, 0); AIC=-18441.104, BIC=-18429.261, Fit time=0.021 seconds\n",
      "Fit ARIMA: order=(1, 1, 0); AIC=-18439.164, BIC=-18421.401, Fit time=0.071 seconds\n",
      "Fit ARIMA: order=(0, 1, 1); AIC=-18439.166, BIC=-18421.402, Fit time=0.044 seconds\n",
      "Total fit time: 0.409 seconds\n",
      "-18441.103712277098\n"
     ]
    }
   ],
   "source": [
    "train_step_model = auto_arima(train.Rate, start_p=1, start_q=1,\n",
    "                           max_p=3, max_q=3, seasonal=False,\n",
    "                           d=1, trace=True,\n",
    "                           error_action='ignore',  \n",
    "                           suppress_warnings=True, \n",
    "                           stepwise=True)\n",
    "print(train_step_model.aic())"
   ]
  },
  {
   "cell_type": "markdown",
   "metadata": {},
   "source": [
    "As anticipated, an ARIMA model with 0,1,0 configuration has the lowest AIC score on our initial test.  It is worth noting that the (1, 1, 0) and (0, 1, 1) also show AIC values very close to the (0, 1, 0) model.  This means each of these models are capturing the data with similar accuracy and parsimony."
   ]
  },
  {
   "cell_type": "code",
   "execution_count": 22,
   "metadata": {},
   "outputs": [
    {
     "name": "stdout",
     "output_type": "stream",
     "text": [
      "Fit ARIMA: order=(2, 1, 2); AIC=nan, BIC=nan, Fit time=nan seconds\n",
      "Fit ARIMA: order=(2, 1, 3); AIC=nan, BIC=nan, Fit time=nan seconds\n",
      "Fit ARIMA: order=(3, 1, 2); AIC=-18437.215, BIC=-18395.767, Fit time=4.626 seconds\n",
      "Fit ARIMA: order=(3, 1, 3); AIC=nan, BIC=nan, Fit time=nan seconds\n",
      "Fit ARIMA: order=(4, 1, 2); AIC=-18435.327, BIC=-18387.957, Fit time=4.260 seconds\n",
      "Fit ARIMA: order=(4, 1, 3); AIC=-18433.663, BIC=-18380.372, Fit time=2.918 seconds\n",
      "Fit ARIMA: order=(5, 1, 2); AIC=-18433.351, BIC=-18380.060, Fit time=3.286 seconds\n",
      "Fit ARIMA: order=(5, 1, 3); AIC=-18431.381, BIC=-18372.169, Fit time=2.827 seconds\n",
      "Total fit time: 18.612 seconds\n",
      "-18437.21523242889\n"
     ]
    }
   ],
   "source": [
    "train_step_model = auto_arima(train.Rate, p=7, start_q=2,\n",
    "                           max_q=3, seasonal=False,\n",
    "                           d=1, trace=True,\n",
    "                           error_action='ignore',  \n",
    "                           suppress_warnings=True, \n",
    "                           stepwise=False)\n",
    "print(train_step_model.aic())"
   ]
  },
  {
   "cell_type": "code",
   "execution_count": 23,
   "metadata": {},
   "outputs": [
    {
     "name": "stdout",
     "output_type": "stream",
     "text": [
      "Fit ARIMA: order=(2, 1, 4); AIC=nan, BIC=nan, Fit time=nan seconds\n",
      "Fit ARIMA: order=(0, 1, 0); AIC=-18441.104, BIC=-18429.261, Fit time=0.014 seconds\n",
      "Fit ARIMA: order=(1, 1, 0); AIC=-18439.164, BIC=-18421.401, Fit time=0.044 seconds\n",
      "Fit ARIMA: order=(0, 1, 1); AIC=-18439.166, BIC=-18421.402, Fit time=0.049 seconds\n",
      "Fit ARIMA: order=(1, 1, 1); AIC=nan, BIC=nan, Fit time=nan seconds\n",
      "Total fit time: 0.644 seconds\n",
      "-18441.103712277098\n"
     ]
    }
   ],
   "source": [
    "train_step_model = auto_arima(train.Rate, start_q=4, max_q=5,\n",
    "                           p=7, seasonal=False,\n",
    "                           d=1, trace=True,\n",
    "                           error_action='ignore',  \n",
    "                           suppress_warnings=True, \n",
    "                           stepwise=True)\n",
    "print(train_step_model.aic())"
   ]
  },
  {
   "cell_type": "markdown",
   "metadata": {},
   "source": [
    "### Using Auto Arima with seasonality to test for optimal parameters"
   ]
  },
  {
   "cell_type": "code",
   "execution_count": null,
   "metadata": {},
   "outputs": [
    {
     "name": "stderr",
     "output_type": "stream",
     "text": [
      "/Library/Frameworks/Python.framework/Versions/3.6/lib/python3.6/site-packages/scipy/linalg/basic.py:1226: RuntimeWarning: internal gelsd driver lwork query error, required iwork dimension not returned. This is likely the result of LAPACK bug 0038, fixed in LAPACK 3.2.2 (released July 21, 2010). Falling back to 'gelss' driver.\n",
      "  warnings.warn(mesg, RuntimeWarning)\n"
     ]
    },
    {
     "name": "stdout",
     "output_type": "stream",
     "text": [
      "Fit ARIMA: order=(1, 1, 1) seasonal_order=(0, 0, 1, 365); AIC=nan, BIC=nan, Fit time=nan seconds\n",
      "Fit ARIMA: order=(0, 1, 0) seasonal_order=(0, 0, 0, 365); AIC=-18441.104, BIC=-18429.261, Fit time=0.315 seconds\n"
     ]
    }
   ],
   "source": [
    "train_step_model = auto_arima(train.Rate, start_p=1, start_q=1,\n",
    "                           max_p=3, max_q=3, m=365,\n",
    "                           start_P=0, seasonal=True,\n",
    "                           d=1, trace=True,\n",
    "                           error_action='ignore',  \n",
    "                           suppress_warnings=True, \n",
    "                           stepwise=True)\n",
    "print(train_step_model.aic())"
   ]
  },
  {
   "cell_type": "code",
   "execution_count": null,
   "metadata": {},
   "outputs": [],
   "source": [
    "train_step_model = auto_arima(train.Rate, seasonal=True,\n",
    "                           m = 730, trace=True,\n",
    "                           error_action='ignore',  \n",
    "                           suppress_warnings=True, \n",
    "                           stepwise=True)\n",
    "print(train_step_model.aic())"
   ]
  },
  {
   "cell_type": "code",
   "execution_count": null,
   "metadata": {},
   "outputs": [],
   "source": [
    "train_step_model = auto_arima(train.Rate, start_p=1, start_q=1,\n",
    "                           max_p=3, max_q=3, m=12,\n",
    "                           start_P=0, seasonal=True,\n",
    "                           d=2, trace=True,\n",
    "                           error_action='ignore',  \n",
    "                           suppress_warnings=True, \n",
    "                           stepwise=True)\n",
    "print(train_step_model.aic())"
   ]
  },
  {
   "cell_type": "code",
   "execution_count": null,
   "metadata": {},
   "outputs": [],
   "source": [
    "train_step_model = auto_arima(train.Rate, start_p=1, start_q=2,\n",
    "                           max_p=5, max_q=3, m=12,\n",
    "                           start_P=0, seasonal=True,\n",
    "                           d=2, trace=True,\n",
    "                           error_action='ignore',  \n",
    "                           suppress_warnings=True, \n",
    "                           stepwise=True)\n",
    "print(train_step_model.aic())"
   ]
  },
  {
   "cell_type": "code",
   "execution_count": null,
   "metadata": {},
   "outputs": [],
   "source": [
    "train_step_model = auto_arima(train.Rate, p=2, start_q=1,\n",
    "                           max_q=5, m=12,\n",
    "                           start_P=0, seasonal=True,\n",
    "                           d=2, trace=True,\n",
    "                           error_action='ignore',  \n",
    "                           suppress_warnings=True, \n",
    "                           stepwise=True)\n",
    "print(train_step_model.aic())"
   ]
  },
  {
   "cell_type": "code",
   "execution_count": null,
   "metadata": {},
   "outputs": [],
   "source": []
  },
  {
   "cell_type": "code",
   "execution_count": null,
   "metadata": {},
   "outputs": [],
   "source": []
  },
  {
   "cell_type": "markdown",
   "metadata": {},
   "source": [
    "### Training the model and Testing"
   ]
  },
  {
   "cell_type": "code",
   "execution_count": null,
   "metadata": {},
   "outputs": [],
   "source": [
    "# fit the model\n",
    "model_010 = ARIMA(train.Rate, order=(0,1,0))\n",
    "model_010_fit = model_010.fit()\n",
    "print(model_010_fit.summary())\n",
    "print('Residuals Description')\n",
    "print(model_010_fit.resid.describe())"
   ]
  },
  {
   "cell_type": "code",
   "execution_count": null,
   "metadata": {},
   "outputs": [],
   "source": [
    "# fit the model\n",
    "model_011 = ARIMA(train.Rate, order=(0,1,1))\n",
    "model_011_fit = model_011.fit()\n",
    "print(model_011_fit.summary())\n",
    "print('Residuals Description')\n",
    "print(model_011_fit.resid.describe())"
   ]
  },
  {
   "cell_type": "code",
   "execution_count": null,
   "metadata": {},
   "outputs": [],
   "source": [
    "# fit the model\n",
    "model_122 = ARIMA(train.Rate, order=(1,2,2))\n",
    "model_122_fit = model_122.fit()\n",
    "print(model_122_fit.summary())\n",
    "print('Residuals Description')\n",
    "print(model_122_fit.resid.describe())"
   ]
  },
  {
   "cell_type": "code",
   "execution_count": null,
   "metadata": {},
   "outputs": [],
   "source": [
    "# fit the model\n",
    "model_727 = ARIMA(train.Rate, order=(7,2,7))\n",
    "model_727_fit = model_727.fit()\n",
    "print(model_727_fit.summary())\n",
    "print('Residuals Description')\n",
    "print(model_727_fit.resid.describe())"
   ]
  },
  {
   "cell_type": "code",
   "execution_count": null,
   "metadata": {},
   "outputs": [],
   "source": [
    "# fit the model\n",
    "model_710 = ARIMA(train.Rate, order=(7,1,0))\n",
    "model_710_fit = model_710.fit()\n",
    "print(model_710_fit.summary())\n",
    "print('Residuals Description')\n",
    "print(model_710_fit.resid.describe())"
   ]
  },
  {
   "cell_type": "code",
   "execution_count": null,
   "metadata": {},
   "outputs": [],
   "source": []
  },
  {
   "cell_type": "code",
   "execution_count": null,
   "metadata": {},
   "outputs": [],
   "source": [
    "# https://www.analyticsvidhya.com/blog/2016/02/time-series-forecasting-codes-python/\n",
    "train['diff_1'] = train.Rate - train.Rate.shift()\n",
    "model = ARIMA(train.Rate, order=(0, 1, 0))  \n",
    "results_ARIMA = model.fit(disp=-1)  \n",
    "\n",
    "plt.figure(figsize=(15, 5))\n",
    "plt.plot(train.index, train.diff_1, label=\"Actual Rate Difference\")\n",
    "plt.plot(results_ARIMA.fittedvalues, color='red', label=\"Predicted Rate Difference\")\n",
    "plt.legend()\n",
    "plt.title('Actual Difference with Predicted Difference with ARIMA 0,1,0 model')"
   ]
  },
  {
   "cell_type": "code",
   "execution_count": null,
   "metadata": {},
   "outputs": [],
   "source": [
    "# https://www.analyticsvidhya.com/blog/2016/02/time-series-forecasting-codes-python/\n",
    "model = ARIMA(train.Rate, order=(7, 1, 0))  \n",
    "results_ARIMA = model.fit(disp=-1)  \n",
    "\n",
    "plt.figure(figsize=(15, 5))\n",
    "plt.plot(train.index, train.diff_1, label=\"Actual Rate Difference\")\n",
    "plt.plot(results_ARIMA.fittedvalues, color='red', label=\"Predicted Rate Difference\")\n",
    "plt.legend()\n",
    "plt.title('Actual Difference with Predicted Difference with ARIMA 7,1,0 model')"
   ]
  },
  {
   "cell_type": "code",
   "execution_count": null,
   "metadata": {},
   "outputs": [],
   "source": [
    "plt.figure(figsize=(15, 5))\n",
    "plt.plot(train.index, train.diff_1, label=\"Actual Rate Difference\")\n",
    "plt.plot(model_122_fit.fittedvalues, color='red', label=\"Predicted Rate Difference\")\n",
    "plt.legend()\n",
    "plt.title('Actual Difference with Predicted Difference with ARIMA 1,2,2 model')"
   ]
  },
  {
   "cell_type": "code",
   "execution_count": null,
   "metadata": {},
   "outputs": [],
   "source": [
    "\n",
    "plt.figure(figsize=(15, 5))\n",
    "plt.plot(train.index, train.diff_1, label=\"Actual Rate Difference\")\n",
    "plt.plot(model_011_fit.fittedvalues, color='red', label=\"Predicted Rate Difference\")\n",
    "plt.legend()\n",
    "plt.title('Actual Difference with Predicted Difference with ARIMA 0,1,1 model')"
   ]
  },
  {
   "cell_type": "markdown",
   "metadata": {},
   "source": [
    "# Prediction"
   ]
  },
  {
   "cell_type": "markdown",
   "metadata": {},
   "source": [
    "### Out of Sample Forecasting\n",
    "Predicting values for the test range and comparing to actual values"
   ]
  },
  {
   "cell_type": "code",
   "execution_count": null,
   "metadata": {},
   "outputs": [],
   "source": [
    "# prediction (test) index range\n",
    "start_index = 2756\n",
    "end_index = 3937"
   ]
  },
  {
   "cell_type": "markdown",
   "metadata": {},
   "source": [
    "Predicting values with the ARIMA (7, 1, 0) model."
   ]
  },
  {
   "cell_type": "code",
   "execution_count": null,
   "metadata": {},
   "outputs": [],
   "source": [
    "# add predictions to data in new dataframe\n",
    "future_forecast = model_710_fit.predict(start=start_index, end=end_index, dynamic=True)\n",
    "future_forecast = pd.DataFrame(future_forecast,index = test.index,columns=['predict_710'])\n",
    "test_predict = pd.concat([test, future_forecast], axis=1)\n",
    "test_predict.head()"
   ]
  },
  {
   "cell_type": "code",
   "execution_count": null,
   "metadata": {},
   "outputs": [],
   "source": [
    "# calculate first predicted value\n",
    "test_predict.loc[2756, ('Rate_710')] = train.loc[2755, ('Rate')] + test_predict.loc[2756, ('predict_710')]\n",
    "\n",
    "#calculate remaining values\n",
    "for i in range(start_index+1, end_index):\n",
    "    old_rate = test_predict.loc[(i-1), ('Rate_710')]\n",
    "    current_pred = test_predict.loc[i, ('predict_710')]\n",
    "    new_rate = old_rate + current_pred\n",
    "    test_predict.loc[i, ('Rate_710')] = new_rate\n",
    "test_predict.head()"
   ]
  },
  {
   "cell_type": "code",
   "execution_count": null,
   "metadata": {},
   "outputs": [],
   "source": [
    "test_predict.shape"
   ]
  },
  {
   "cell_type": "code",
   "execution_count": null,
   "metadata": {},
   "outputs": [],
   "source": [
    "predict_series = test_predict.copy()\n",
    "predict_series.index = pd.to_datetime(predict_series['Date'])\n",
    "predict_series.head()"
   ]
  },
  {
   "cell_type": "code",
   "execution_count": null,
   "metadata": {},
   "outputs": [],
   "source": [
    "predict_series.describe().transpose()"
   ]
  },
  {
   "cell_type": "code",
   "execution_count": null,
   "metadata": {},
   "outputs": [],
   "source": [
    "# plot time series\n",
    "plt.figure(figsize=(15, 5))\n",
    "plt.xlabel('Date')\n",
    "plt.ylabel('Value of Euro in Dollars')\n",
    "plt.plot(time_series.Rate, label='Actual')\n",
    "plt.plot(predict_series.Rate_710, label='Predicted', color='c')\n",
    "plt.axvline(series_test.index[0], color='k', linestyle='dashed', linewidth=2, label=\"Train/Test Break\")\n",
    "plt.grid(True)\n",
    "plt.title('Time Series of Dollar to Euro Exchange Rate')\n",
    "plt.legend()\n",
    "plt.show()"
   ]
  },
  {
   "cell_type": "markdown",
   "metadata": {},
   "source": [
    "Predicting values with ARIMA (0, 1, 0) model."
   ]
  },
  {
   "cell_type": "code",
   "execution_count": null,
   "metadata": {},
   "outputs": [],
   "source": [
    "# add predictions to data in new dataframe\n",
    "future_forecast = model_010_fit.predict(start=start_index, end=end_index, dynamic=True)\n",
    "future_forecast = pd.DataFrame(future_forecast,index = test.index,columns=['predict_010'])\n",
    "test_predict = pd.concat([test, future_forecast], axis=1)\n",
    "\n",
    "# calculate first predicted value\n",
    "test_predict.loc[2756, ('Rate_010')] = train.loc[2755, ('Rate')] + test_predict.loc[2756, ('predict_010')]\n",
    "\n",
    "#calculate remaining values\n",
    "for i in range(start_index+1, end_index):\n",
    "    old_rate = test_predict.loc[(i-1), ('Rate_010')]\n",
    "    current_pred = test_predict.loc[i, ('predict_010')]\n",
    "    new_rate = old_rate + current_pred\n",
    "    test_predict.loc[i, ('Rate_010')] = new_rate\n",
    "\n",
    "# creating time series of test and prediction\n",
    "predict_series = test_predict.copy()\n",
    "predict_series.index = pd.to_datetime(predict_series['Date'])\n",
    "\n",
    "# describe time series data\n",
    "predict_series.describe().transpose()"
   ]
  },
  {
   "cell_type": "code",
   "execution_count": null,
   "metadata": {},
   "outputs": [],
   "source": [
    "# plot time series\n",
    "plt.figure(figsize=(15, 5))\n",
    "plt.xlabel('Date')\n",
    "plt.ylabel('Value of Euro in Dollars')\n",
    "plt.plot(time_series.Rate, label='Actual')\n",
    "plt.plot(predict_series.Rate_010, label='Predicted (010)', color='c')\n",
    "plt.axvline(series_test.index[0], color='k', linestyle='dashed', linewidth=2, label=\"Train/Test Break\")\n",
    "plt.grid(True)\n",
    "plt.title('Time Series of Dollar to Euro Exchange Rate')\n",
    "plt.legend()\n",
    "plt.show()"
   ]
  },
  {
   "cell_type": "code",
   "execution_count": null,
   "metadata": {},
   "outputs": [],
   "source": [
    "# calculate residuals\n",
    "predict_series.resid_010 = 0\n",
    "predict_series.resid_010 = predict_series.Rate - predict_series.Rate_010"
   ]
  },
  {
   "cell_type": "code",
   "execution_count": null,
   "metadata": {},
   "outputs": [],
   "source": [
    "# plot residuals by date\n",
    "plt.figure(figsize=(15, 5))\n",
    "plt.xlabel('Date')\n",
    "plt.ylabel('Prediction Residuals')\n",
    "plt.plot(predict_series.resid_010)\n",
    "plt.title('ARIMA 010 Model Residuals')\n",
    "plt.show()"
   ]
  },
  {
   "cell_type": "code",
   "execution_count": null,
   "metadata": {},
   "outputs": [],
   "source": []
  },
  {
   "cell_type": "code",
   "execution_count": null,
   "metadata": {},
   "outputs": [],
   "source": [
    "# make predictions and compare to test\n",
    "\n",
    "# add predictions to data in new dataframe\n",
    "future_forecast = model_710_fit.predict(start=start_index, end=end_index, dynamic=True)\n",
    "future_forecast = pd.DataFrame(future_forecast,index = test.index,columns=['predict_710'])\n",
    "test_predict = pd.concat([test, future_forecast], axis=1)\n",
    "\n",
    "# calculate first predicted value\n",
    "test_predict.loc[2756, ('Rate_710')] = train.loc[2755, ('Rate')] + test_predict.loc[2756, ('predict_710')]\n",
    "\n",
    "#calculate remaining values\n",
    "for i in range(start_index+1, end_index):\n",
    "    old_rate = test_predict.loc[(i-1), ('Rate_710')]\n",
    "    current_pred = test_predict.loc[i, ('predict_710')]\n",
    "    new_rate = old_rate + current_pred\n",
    "    test_predict.loc[i, ('Rate_710')] = new_rate\n",
    "    \n",
    "# calculate residuals\n",
    "test_predict['resid_710'] = 0\n",
    "test_predict.resid_710 = test_predict.Rate - test_predict.Rate_710\n",
    "\n",
    "# create time series of predictions\n",
    "predict_series = test_predict.copy()\n",
    "predict_series.index = pd.to_datetime(predict_series['Date'])\n",
    "\n",
    "# describe time series data\n",
    "print(predict_series.describe())\n",
    "\n",
    "# plot time series\n",
    "plt.figure(figsize=(15, 5))\n",
    "plt.xlabel('Date')\n",
    "plt.ylabel('Value of Euro in Dollars')\n",
    "plt.plot(time_series.Rate, label='Actual')\n",
    "plt.plot(predict_series.Rate_710, label='Predicted', color='c')\n",
    "plt.axvline(series_test.index[0], color='k', linestyle='dashed', linewidth=2, label=\"Train/Test Break\")\n",
    "plt.grid(True)\n",
    "plt.title('Time Series of Dollar to Euro Exchange Rate')\n",
    "plt.legend()\n",
    "plt.show()\n",
    "\n",
    "# plot residuals by date\n",
    "plt.figure(figsize=(15, 5))\n",
    "plt.xlabel('Date')\n",
    "plt.ylabel('Prediction Residuals')\n",
    "plt.plot(predict_series.resid_710)\n",
    "plt.title('ARIMA 710 Model Residuals')\n",
    "plt.show()"
   ]
  },
  {
   "cell_type": "code",
   "execution_count": null,
   "metadata": {},
   "outputs": [],
   "source": []
  },
  {
   "cell_type": "code",
   "execution_count": null,
   "metadata": {},
   "outputs": [],
   "source": [
    "# define methods to make predictions and compare to test data\n",
    "\n",
    "def predict_test(p,d,q):\n",
    "    # define and fit model\n",
    "    model = ARIMA(train.Rate, order=(p, d, q))  \n",
    "    results_ARIMA = model.fit()  \n",
    "    \n",
    "    # add predictions to data in new dataframe\n",
    "    future_forecast = results_ARIMA.predict(start=start_index, end=end_index, dynamic=True)\n",
    "    future_forecast = pd.DataFrame(future_forecast,index = test.index,columns=['predict'])\n",
    "    test_predict = pd.concat([test, future_forecast], axis=1)\n",
    "\n",
    "    # calculate first predicted value\n",
    "    test_predict.loc[start_index, ('Predicted_Rate')] = train.loc[(start_index-1), ('Rate')] + test_predict.loc[start_index, ('predict')]\n",
    "\n",
    "    #calculate remaining values\n",
    "    for i in range(start_index+1, end_index):\n",
    "        old_rate = test_predict.loc[(i-1), ('Predicted_Rate')]\n",
    "        current_pred = test_predict.loc[i, ('predict')]\n",
    "        new_rate = old_rate + current_pred\n",
    "        test_predict.loc[i, ('Predicted_Rate')] = new_rate\n",
    "    \n",
    "    # calculate residuals\n",
    "    test_predict['Residual'] = 0\n",
    "    test_predict.Residual = test_predict.Rate - test_predict.Predicted_Rate\n",
    "\n",
    "    # create time series of predictions\n",
    "    predict_series = test_predict.copy()\n",
    "    predict_series.index = pd.to_datetime(predict_series['Date'])\n",
    "\n",
    "    # describe time series data\n",
    "    print(predict_series.describe())\n",
    "\n",
    "    # plot time series\n",
    "    plt.figure(figsize=(15, 5))\n",
    "    plt.xlabel('Date')\n",
    "    plt.ylabel('Value of Euro in Dollars')\n",
    "    plt.plot(time_series.Rate, label='Actual')\n",
    "    plt.plot(predict_series.Predicted_Rate, label='Predicted', color='c')\n",
    "    plt.axvline(series_test.index[0], color='k', linestyle='dashed', linewidth=2, label=\"Train/Test Break\")\n",
    "    plt.title('Predicted Test Range Rates from ARIMA ' + str(p) + str(d) + str(q))\n",
    "    plt.legend()\n",
    "    plt.show()\n",
    "\n",
    "    # plot residuals by date\n",
    "    plt.figure(figsize=(15, 5))\n",
    "    plt.xlabel('Date')\n",
    "    plt.ylabel('Prediction Residuals')\n",
    "    plt.plot(predict_series.Residual)\n",
    "    plt.title('Model Residuals from ARIMA ' + str(p) + str(d) + str(q))\n",
    "    plt.show()"
   ]
  },
  {
   "cell_type": "code",
   "execution_count": null,
   "metadata": {},
   "outputs": [],
   "source": [
    "predict_test(0,1,0)"
   ]
  },
  {
   "cell_type": "code",
   "execution_count": null,
   "metadata": {},
   "outputs": [],
   "source": [
    "predict_test(1,2,2)"
   ]
  },
  {
   "cell_type": "code",
   "execution_count": null,
   "metadata": {},
   "outputs": [],
   "source": []
  },
  {
   "cell_type": "code",
   "execution_count": null,
   "metadata": {},
   "outputs": [],
   "source": []
  },
  {
   "cell_type": "markdown",
   "metadata": {},
   "source": [
    "### test predictions with histogram of residuals"
   ]
  },
  {
   "cell_type": "code",
   "execution_count": null,
   "metadata": {},
   "outputs": [],
   "source": [
    "# define methods to make predictions and compare to test data\n",
    "\n",
    "def predict_test(p,d,q):\n",
    "    # define and fit model\n",
    "    model = ARIMA(train.Rate, order=(p, d, q))  \n",
    "    results_ARIMA = model.fit()  \n",
    "    \n",
    "    # add predictions to data in new dataframe\n",
    "    future_forecast = results_ARIMA.predict(start=start_index, end=end_index, dynamic=True)\n",
    "    future_forecast = pd.DataFrame(future_forecast,index = test.index,columns=['predict'])\n",
    "    test_predict = pd.concat([test, future_forecast], axis=1)\n",
    "\n",
    "    # calculate first predicted value\n",
    "    test_predict.loc[start_index, ('Predicted_Rate')] = train.loc[(start_index-1), ('Rate')] + test_predict.loc[start_index, ('predict')]\n",
    "\n",
    "    #calculate remaining values\n",
    "    for i in range(start_index+1, end_index):\n",
    "        old_rate = test_predict.loc[(i-1), ('Predicted_Rate')]\n",
    "        current_pred = test_predict.loc[i, ('predict')]\n",
    "        new_rate = old_rate + current_pred\n",
    "        test_predict.loc[i, ('Predicted_Rate')] = new_rate\n",
    "    \n",
    "    # calculate residuals\n",
    "    test_predict['Residual'] = 0\n",
    "    test_predict.Residual = test_predict.Rate - test_predict.Predicted_Rate\n",
    "\n",
    "    # create time series of predictions\n",
    "    predict_series = test_predict.copy()\n",
    "    predict_series.index = pd.to_datetime(predict_series['Date'])\n",
    "\n",
    "    # describe time series data\n",
    "    print(predict_series.describe())\n",
    "\n",
    "    # plot time series\n",
    "    plt.figure(figsize=(15, 5))\n",
    "    plt.xlabel('Date')\n",
    "    plt.ylabel('Value of Euro in Dollars')\n",
    "    plt.plot(time_series.Rate, label='Actual')\n",
    "    plt.plot(predict_series.Predicted_Rate, label='Predicted', color='c')\n",
    "    plt.axvline(series_test.index[0], color='k', linestyle='dashed', linewidth=2, label=\"Train/Test Break\")\n",
    "    plt.title('Predicted Test Range Rates from ARIMA ' + str(p) + str(d) + str(q))\n",
    "    plt.legend()\n",
    "    plt.show()\n",
    "\n",
    "    # plot residuals by date\n",
    "    plt.figure(figsize=(15, 5))\n",
    "    plt.xlabel('Date')\n",
    "    plt.ylabel('Prediction Residuals')\n",
    "    plt.plot(predict_series.Residual)\n",
    "    plt.title('Model Residuals from ARIMA ' + str(p) + str(d) + str(q))\n",
    "    plt.show()\n",
    "    \n",
    "    # residual plot\n",
    "    plt.figure(figsize=(15, 5))\n",
    "\n",
    "    plt.subplot(1, 3, 1)\n",
    "    plt.hist(predict_series.Residual)\n",
    "    plt.title('Residual counts')\n",
    "    plt.xlabel('Residual')\n",
    "    plt.ylabel('Count')\n",
    "    \n",
    "    plt.subplot(1, 3, 2)\n",
    "    plt.scatter(predicted, residual)\n",
    "    plt.xlabel('Predicted')\n",
    "    plt.ylabel('Residual')\n",
    "    plt.axhline(y=0)\n",
    "    plt.title('Residual vs. Predicted')\n",
    "    \n",
    "    plt.subplot(1, 3, 3)\n",
    "    plt.scatter(predicted, Y)\n",
    "    plt.xlabel('Predicted')\n",
    "    plt.ylabel('Actual')\n",
    "    plt.axhline(y=0)\n",
    "    plt.title('Actual vs. Predicted')\n",
    "    \n",
    "    plt.show()"
   ]
  },
  {
   "cell_type": "code",
   "execution_count": null,
   "metadata": {},
   "outputs": [],
   "source": [
    "# define methods to make predictions and compare to test data\n",
    "\n",
    "def predict_test(p,d,q):\n",
    "    # define and fit model\n",
    "    model = ARIMA(train.Rate, order=(p, d, q))  \n",
    "    results_ARIMA = model.fit()  \n",
    "    \n",
    "    # add predictions to data in new dataframe\n",
    "    future_forecast = results_ARIMA.predict(start=start_index, end=end_index, dynamic=True)\n",
    "    future_forecast = pd.DataFrame(future_forecast,index = test.index,columns=['predict'])\n",
    "    test_predict = pd.concat([test, future_forecast], axis=1)\n",
    "\n",
    "    # calculate first predicted value\n",
    "    test_predict.loc[start_index, ('Predicted_Rate')] = train.loc[(start_index-1), ('Rate')] + test_predict.loc[start_index, ('predict')]\n",
    "\n",
    "    #calculate remaining values\n",
    "    for i in range(start_index+1, end_index):\n",
    "        old_rate = test_predict.loc[(i-1), ('Predicted_Rate')]\n",
    "        current_pred = test_predict.loc[i, ('predict')]\n",
    "        new_rate = old_rate + current_pred\n",
    "        test_predict.loc[i, ('Predicted_Rate')] = new_rate\n",
    "    \n",
    "    # calculate residuals\n",
    "    test_predict['Residual'] = 0\n",
    "    test_predict.Residual = test_predict.Rate - test_predict.Predicted_Rate\n",
    "\n",
    "    # create time series of predictions\n",
    "    predict_series = test_predict.copy()\n",
    "    predict_series.index = pd.to_datetime(predict_series['Date'])\n",
    "\n",
    "    # describe time series data\n",
    "    print(predict_series.describe())\n",
    "\n",
    "    # plot time series\n",
    "    plt.figure(figsize=(15, 5))\n",
    "    plt.xlabel('Date')\n",
    "    plt.ylabel('Value of Euro in Dollars')\n",
    "    plt.plot(time_series.Rate, label='Actual')\n",
    "    plt.plot(predict_series.Predicted_Rate, label='Predicted', color='c')\n",
    "    plt.axvline(series_test.index[0], color='k', linestyle='dashed', linewidth=2, label=\"Train/Test Break\")\n",
    "    plt.title('Predicted Test Range Rates from ARIMA ' + str(p) + str(d) + str(q))\n",
    "    plt.legend()\n",
    "    plt.show()\n",
    "\n",
    "    # plot residuals by date\n",
    "    plt.figure(figsize=(15, 5))\n",
    "    plt.xlabel('Date')\n",
    "    plt.ylabel('Prediction Residuals')\n",
    "    plt.plot(predict_series.Residual)\n",
    "    plt.title('Model Residuals from ARIMA ' + str(p) + str(d) + str(q))\n",
    "    plt.show()\n",
    "    \n",
    "    # residual plot\n",
    "    plt.hist(predict_series.Residual)\n",
    "    plt.title('Residual counts')\n",
    "    plt.xlabel('Residual')\n",
    "    plt.ylabel('Count')\n",
    "    \n",
    "    plt.show()"
   ]
  },
  {
   "cell_type": "code",
   "execution_count": null,
   "metadata": {},
   "outputs": [],
   "source": [
    "predict_test(0,1,0)"
   ]
  },
  {
   "cell_type": "code",
   "execution_count": null,
   "metadata": {},
   "outputs": [],
   "source": []
  },
  {
   "cell_type": "code",
   "execution_count": null,
   "metadata": {},
   "outputs": [],
   "source": []
  },
  {
   "cell_type": "markdown",
   "metadata": {},
   "source": [
    "### test seasonal models"
   ]
  },
  {
   "cell_type": "code",
   "execution_count": null,
   "metadata": {},
   "outputs": [],
   "source": [
    "# define methods to make predictions and compare to test data\n",
    "\n",
    "def seasonal_predict_test(p,d,q,P,D,Q,m):\n",
    "    # define and fit model\n",
    "    model = sm.tsa.statespace.SARIMAX(train.Rate, order=(p,d,q), seasonal_order=(P,D,Q,m))\n",
    "    results_ARIMA = model.fit()  \n",
    "    \n",
    "    # add predictions to data in new dataframe\n",
    "    future_forecast = results_ARIMA.predict(start=start_index, end=end_index, dynamic=True)\n",
    "    future_forecast = pd.DataFrame(future_forecast,index = test.index,columns=['predict'])\n",
    "    test_predict = pd.concat([test, future_forecast], axis=1)\n",
    "\n",
    "    # calculate first predicted value\n",
    "    test_predict.loc[start_index, ('Predicted_Rate')] = train.loc[(start_index-1), ('Rate')] + test_predict.loc[start_index, ('predict')]\n",
    "\n",
    "    #calculate remaining values\n",
    "    for i in range(start_index+1, end_index):\n",
    "        old_rate = test_predict.loc[(i-1), ('Predicted_Rate')]\n",
    "        current_pred = test_predict.loc[i, ('predict')]\n",
    "        new_rate = old_rate + current_pred\n",
    "        test_predict.loc[i, ('Predicted_Rate')] = new_rate\n",
    "    \n",
    "    # calculate residuals\n",
    "    test_predict['Residual'] = 0\n",
    "    test_predict.Residual = test_predict.Rate - test_predict.Predicted_Rate\n",
    "\n",
    "    # create time series of predictions\n",
    "    predict_series = test_predict.copy()\n",
    "    predict_series.index = pd.to_datetime(predict_series['Date'])\n",
    "\n",
    "    # describe time series data\n",
    "    print(predict_series.describe())\n",
    "\n",
    "    # plot time series\n",
    "    plt.figure(figsize=(15, 5))\n",
    "    plt.xlabel('Date')\n",
    "    plt.ylabel('Value of Euro in Dollars')\n",
    "    plt.plot(time_series.Rate, label='Actual')\n",
    "    plt.plot(predict_series.Predicted_Rate, label='Predicted', color='c')\n",
    "    plt.axvline(series_test.index[0], color='k', linestyle='dashed', linewidth=2, label=\"Train/Test Break\")\n",
    "    plt.title('Predicted Test Range Rates from ARIMA ' + str(p) + str(d) + str(q))\n",
    "    plt.legend()\n",
    "    plt.show()\n",
    "\n",
    "    # plot residuals by date\n",
    "    plt.figure(figsize=(15, 5))\n",
    "    plt.xlabel('Date')\n",
    "    plt.ylabel('Prediction Residuals')\n",
    "    plt.plot(predict_series.Residual)\n",
    "    plt.title('Model Residuals from ARIMA ' + str(p) + str(d) + str(q))\n",
    "    plt.show()"
   ]
  },
  {
   "cell_type": "code",
   "execution_count": null,
   "metadata": {},
   "outputs": [],
   "source": [
    "seasonal_predict_test(0,1,0,0,1,0,365)"
   ]
  },
  {
   "cell_type": "code",
   "execution_count": null,
   "metadata": {},
   "outputs": [],
   "source": []
  },
  {
   "cell_type": "markdown",
   "metadata": {},
   "source": [
    "### test fitted models"
   ]
  },
  {
   "cell_type": "code",
   "execution_count": null,
   "metadata": {},
   "outputs": [],
   "source": [
    "# define methods to make predictions and compare to test data\n",
    "\n",
    "def model_test(model): \n",
    "    \n",
    "    # add predictions to data in new dataframe\n",
    "    future_forecast = model.predict(start=start_index, end=end_index, dynamic=True)\n",
    "    future_forecast = pd.DataFrame(future_forecast,index = test.index,columns=['predict'])\n",
    "    test_predict = pd.concat([test, future_forecast], axis=1)\n",
    "\n",
    "    # calculate first predicted value\n",
    "    test_predict.loc[start_index, ('Predicted_Rate')] = train.loc[(start_index-1), ('Rate')] + test_predict.loc[start_index, ('predict')]\n",
    "\n",
    "    #calculate remaining values\n",
    "    for i in range(start_index+1, end_index):\n",
    "        old_rate = test_predict.loc[(i-1), ('Predicted_Rate')]\n",
    "        current_pred = test_predict.loc[i, ('predict')]\n",
    "        new_rate = old_rate + current_pred\n",
    "        test_predict.loc[i, ('Predicted_Rate')] = new_rate\n",
    "    \n",
    "    # calculate residuals\n",
    "    test_predict['Residual'] = 0\n",
    "    test_predict.Residual = test_predict.Rate - test_predict.Predicted_Rate\n",
    "\n",
    "    # create time series of predictions\n",
    "    predict_series = test_predict.copy()\n",
    "    predict_series.index = pd.to_datetime(predict_series['Date'])\n",
    "\n",
    "    # describe time series data\n",
    "    print(predict_series.describe())\n",
    "\n",
    "    # plot time series\n",
    "    plt.figure(figsize=(15, 5))\n",
    "    plt.xlabel('Date')\n",
    "    plt.ylabel('Value of Euro in Dollars')\n",
    "    plt.plot(time_series.Rate, label='Actual')\n",
    "    plt.plot(predict_series.Predicted_Rate, label='Predicted', color='c')\n",
    "    plt.axvline(series_test.index[0], color='k', linestyle='dashed', linewidth=2, label=\"Train/Test Break\")\n",
    "    plt.title('Predicted Test Range Rates from ARIMA ' + str(model))\n",
    "    plt.legend()\n",
    "    plt.show()\n",
    "\n",
    "    # plot residuals by date\n",
    "    plt.figure(figsize=(15, 5))\n",
    "    plt.xlabel('Date')\n",
    "    plt.ylabel('Prediction Residuals')\n",
    "    plt.plot(predict_series.Residual)\n",
    "    plt.title('Model Residuals from ARIMA ' + str(model))\n",
    "    plt.show()"
   ]
  },
  {
   "cell_type": "code",
   "execution_count": null,
   "metadata": {},
   "outputs": [],
   "source": [
    "model_test(model_122_fit)"
   ]
  },
  {
   "cell_type": "code",
   "execution_count": null,
   "metadata": {},
   "outputs": [],
   "source": []
  },
  {
   "cell_type": "code",
   "execution_count": null,
   "metadata": {},
   "outputs": [],
   "source": [
    "model_test(model_122_fit)"
   ]
  },
  {
   "cell_type": "code",
   "execution_count": null,
   "metadata": {},
   "outputs": [],
   "source": []
  },
  {
   "cell_type": "code",
   "execution_count": null,
   "metadata": {},
   "outputs": [],
   "source": []
  },
  {
   "cell_type": "code",
   "execution_count": null,
   "metadata": {},
   "outputs": [],
   "source": []
  },
  {
   "cell_type": "code",
   "execution_count": null,
   "metadata": {},
   "outputs": [],
   "source": []
  },
  {
   "cell_type": "code",
   "execution_count": null,
   "metadata": {},
   "outputs": [],
   "source": []
  },
  {
   "cell_type": "code",
   "execution_count": null,
   "metadata": {},
   "outputs": [],
   "source": []
  },
  {
   "cell_type": "markdown",
   "metadata": {},
   "source": [
    "## Rolling Forecast\n",
    "Predicting exchange rate one day at a time, adding actual value for each day before predicting the next."
   ]
  },
  {
   "cell_type": "code",
   "execution_count": null,
   "metadata": {},
   "outputs": [],
   "source": [
    "# https://machinelearningmastery.com/arima-for-time-series-forecasting-with-python/"
   ]
  },
  {
   "cell_type": "code",
   "execution_count": null,
   "metadata": {},
   "outputs": [],
   "source": [
    "from pandas import read_csv\n",
    "from pandas import datetime\n",
    "from matplotlib import pyplot\n",
    "from statsmodels.tsa.arima_model import ARIMA\n",
    "from sklearn.metrics import mean_squared_error\n",
    "\n",
    "def parser(x):\n",
    "    return datetime.strptime('190'+x, '%Y-%m')\n",
    "\n",
    "history = [x for x in train]\n",
    "predictions = list()\n",
    "for t in range(len(test)):\n",
    "    model = ARIMA(history, order=(1,2,2))\n",
    "    model_fit = model.fit(disp=0)\n",
    "    output = model_fit.forecast()\n",
    "    yhat = output[0]\n",
    "    predictions.append(yhat)\n",
    "    obs = test[t]\n",
    "    history.append(obs)\n",
    "    print('predicted=%f, expected=%f' % (yhat, obs))\n",
    "error = mean_squared_error(test, predictions)\n",
    "print('Test MSE: %.3f' % error)"
   ]
  },
  {
   "cell_type": "code",
   "execution_count": null,
   "metadata": {},
   "outputs": [],
   "source": [
    "plt.figure(figsize=(15, 5))\n",
    "pyplot.plot(test)\n",
    "pyplot.plot(predictions, color='red')\n",
    "pyplot.show()"
   ]
  },
  {
   "cell_type": "code",
   "execution_count": null,
   "metadata": {},
   "outputs": [],
   "source": []
  },
  {
   "cell_type": "code",
   "execution_count": null,
   "metadata": {},
   "outputs": [],
   "source": []
  },
  {
   "cell_type": "markdown",
   "metadata": {},
   "source": [
    "## Dynamic Forecast"
   ]
  },
  {
   "cell_type": "code",
   "execution_count": null,
   "metadata": {},
   "outputs": [],
   "source": [
    "#pred_dynamic = model_011_fit.get_prediction(start=pd.to_datetime('2013-12-16'), dynamic=True, full_results=True)\n",
    "start_date = '2013-12-16'\n",
    "\n",
    "pred_dynamic = model_122_fit.predict(start=start_date, dynamic=True)\n",
    "pred_dynamic_ci = pred_dynamic.conf_int()\n",
    "\n",
    "ax = y[start_date:].plot(label='observed', figsize=(20, 15))\n",
    "pred_dynamic.predicted_mean.plot(label='Dynamic Forecast', ax=ax)\n",
    "\n",
    "ax.fill_between(pred_dynamic_ci.index,\n",
    "                pred_dynamic_ci.iloc[:, 0],\n",
    "                pred_dynamic_ci.iloc[:, 1], color='k', alpha=.25)\n",
    "\n",
    "ax.fill_betweenx(ax.get_ylim(), pd.to_datetime(start_date), y.index[-1],\n",
    "                 alpha=.1, zorder=-1)\n",
    "\n",
    "ax.set_xlabel('Date')\n",
    "ax.set_ylabel('Rate')\n",
    "\n",
    "plt.legend()\n",
    "plt.show()"
   ]
  },
  {
   "cell_type": "code",
   "execution_count": null,
   "metadata": {},
   "outputs": [],
   "source": []
  },
  {
   "cell_type": "code",
   "execution_count": null,
   "metadata": {},
   "outputs": [],
   "source": [
    "# https://www.analyticsvidhya.com/blog/2018/02/time-series-forecasting-methods/"
   ]
  },
  {
   "cell_type": "code",
   "execution_count": null,
   "metadata": {},
   "outputs": [],
   "source": [
    "y_hat_avg = test.copy()\n",
    "fit1 = sm.tsa.statespace.SARIMAX(train.Rate, order=(1, 2, 2),seasonal_order=(0,1,1,7)).fit()\n",
    "y_hat_avg['SARIMA'] = fit1.predict(start=\"2013-11-1\", end=\"2013-12-31\", dynamic=True)\n",
    "plt.figure(figsize=(16,8))\n",
    "plt.plot( train['Count'], label='Train')\n",
    "plt.plot(test['Count'], label='Test')\n",
    "plt.plot(y_hat_avg['SARIMA'], label='SARIMA')\n",
    "plt.legend(loc='best')\n",
    "plt.show()"
   ]
  },
  {
   "cell_type": "code",
   "execution_count": null,
   "metadata": {},
   "outputs": [],
   "source": []
  },
  {
   "cell_type": "code",
   "execution_count": null,
   "metadata": {},
   "outputs": [],
   "source": []
  },
  {
   "cell_type": "code",
   "execution_count": null,
   "metadata": {},
   "outputs": [],
   "source": []
  }
 ],
 "metadata": {
  "kernelspec": {
   "display_name": "Python 3",
   "language": "python",
   "name": "python3"
  },
  "language_info": {
   "codemirror_mode": {
    "name": "ipython",
    "version": 3
   },
   "file_extension": ".py",
   "mimetype": "text/x-python",
   "name": "python",
   "nbconvert_exporter": "python",
   "pygments_lexer": "ipython3",
   "version": "3.6.1"
  }
 },
 "nbformat": 4,
 "nbformat_minor": 2
}
