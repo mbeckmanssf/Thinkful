{
 "cells": [
  {
   "cell_type": "markdown",
   "metadata": {},
   "source": [
    "# Time Series Challenge\n",
    "1. Plot the time series, along with any logical or necessary differences to get a stationary dataset\n",
    "2. Generate and interpret a PACF for the time series (and/or its differences)\n",
    "3. Generate 5 ARIMA specifications and evaluate their efficacy at modeling your data\n",
    "4. Finally choose one specification and make the case for that as a logical model for your dataset."
   ]
  },
  {
   "cell_type": "code",
   "execution_count": 1,
   "metadata": {},
   "outputs": [],
   "source": [
    "import numpy as np\n",
    "import pandas as pd\n",
    "import scipy\n",
    "from datetime import datetime\n",
    "import datetime as dt\n",
    "from statsmodels.tsa.arima_model import ARIMA\n",
    "from statsmodels.tsa.stattools import pacf\n",
    "import seaborn as sns\n",
    "import matplotlib.pyplot as plt\n",
    "%matplotlib inline"
   ]
  },
  {
   "cell_type": "markdown",
   "metadata": {},
   "source": [
    "### Data\n",
    "Exchange rate for US Dollars to Euros from August 2008 through August 2018 as found at https://fred.stlouisfed.org/series/DEXUSEU"
   ]
  },
  {
   "cell_type": "code",
   "execution_count": 2,
   "metadata": {},
   "outputs": [
    {
     "data": {
      "text/html": [
       "<div>\n",
       "<style scoped>\n",
       "    .dataframe tbody tr th:only-of-type {\n",
       "        vertical-align: middle;\n",
       "    }\n",
       "\n",
       "    .dataframe tbody tr th {\n",
       "        vertical-align: top;\n",
       "    }\n",
       "\n",
       "    .dataframe thead th {\n",
       "        text-align: right;\n",
       "    }\n",
       "</style>\n",
       "<table border=\"1\" class=\"dataframe\">\n",
       "  <thead>\n",
       "    <tr style=\"text-align: right;\">\n",
       "      <th></th>\n",
       "      <th>DATE</th>\n",
       "      <th>DEXUSEU</th>\n",
       "    </tr>\n",
       "  </thead>\n",
       "  <tbody>\n",
       "    <tr>\n",
       "      <th>0</th>\n",
       "      <td>2008-08-11</td>\n",
       "      <td>1.4958</td>\n",
       "    </tr>\n",
       "    <tr>\n",
       "      <th>1</th>\n",
       "      <td>2008-08-12</td>\n",
       "      <td>1.4905</td>\n",
       "    </tr>\n",
       "    <tr>\n",
       "      <th>2</th>\n",
       "      <td>2008-08-13</td>\n",
       "      <td>1.4895</td>\n",
       "    </tr>\n",
       "    <tr>\n",
       "      <th>3</th>\n",
       "      <td>2008-08-14</td>\n",
       "      <td>1.4856</td>\n",
       "    </tr>\n",
       "    <tr>\n",
       "      <th>4</th>\n",
       "      <td>2008-08-15</td>\n",
       "      <td>1.4695</td>\n",
       "    </tr>\n",
       "  </tbody>\n",
       "</table>\n",
       "</div>"
      ],
      "text/plain": [
       "         DATE DEXUSEU\n",
       "0  2008-08-11  1.4958\n",
       "1  2008-08-12  1.4905\n",
       "2  2008-08-13  1.4895\n",
       "3  2008-08-14  1.4856\n",
       "4  2008-08-15  1.4695"
      ]
     },
     "execution_count": 2,
     "metadata": {},
     "output_type": "execute_result"
    }
   ],
   "source": [
    "# exchange rate data\n",
    "USEU_data = pd.read_csv('~/Desktop/Data_Science/DEXUSEU.csv')\n",
    "\n",
    "USEU_data.head()"
   ]
  },
  {
   "cell_type": "code",
   "execution_count": 3,
   "metadata": {},
   "outputs": [
    {
     "data": {
      "text/plain": [
       "(2610, 3)"
      ]
     },
     "execution_count": 3,
     "metadata": {},
     "output_type": "execute_result"
    }
   ],
   "source": [
    "# Convert exchange rate to a number, with coersion to throw NAs if conversion not possible\n",
    "USEU_data['rate'] = pd.to_numeric(USEU_data.DEXUSEU, errors='coerce')\n",
    "\n",
    "USEU_data.shape"
   ]
  },
  {
   "cell_type": "code",
   "execution_count": 4,
   "metadata": {},
   "outputs": [
    {
     "data": {
      "text/plain": [
       "(2509, 3)"
      ]
     },
     "execution_count": 4,
     "metadata": {},
     "output_type": "execute_result"
    }
   ],
   "source": [
    "# Remove NAs\n",
    "USEU_data.dropna(inplace=True)\n",
    "\n",
    "USEU_data.shape"
   ]
  },
  {
   "cell_type": "code",
   "execution_count": 5,
   "metadata": {},
   "outputs": [
    {
     "data": {
      "text/html": [
       "<div>\n",
       "<style scoped>\n",
       "    .dataframe tbody tr th:only-of-type {\n",
       "        vertical-align: middle;\n",
       "    }\n",
       "\n",
       "    .dataframe tbody tr th {\n",
       "        vertical-align: top;\n",
       "    }\n",
       "\n",
       "    .dataframe thead th {\n",
       "        text-align: right;\n",
       "    }\n",
       "</style>\n",
       "<table border=\"1\" class=\"dataframe\">\n",
       "  <thead>\n",
       "    <tr style=\"text-align: right;\">\n",
       "      <th></th>\n",
       "      <th>DATE</th>\n",
       "      <th>DEXUSEU</th>\n",
       "      <th>rate</th>\n",
       "    </tr>\n",
       "  </thead>\n",
       "  <tbody>\n",
       "    <tr>\n",
       "      <th>0</th>\n",
       "      <td>2008-08-11</td>\n",
       "      <td>1.4958</td>\n",
       "      <td>1.4958</td>\n",
       "    </tr>\n",
       "    <tr>\n",
       "      <th>1</th>\n",
       "      <td>2008-08-12</td>\n",
       "      <td>1.4905</td>\n",
       "      <td>1.4905</td>\n",
       "    </tr>\n",
       "    <tr>\n",
       "      <th>2</th>\n",
       "      <td>2008-08-13</td>\n",
       "      <td>1.4895</td>\n",
       "      <td>1.4895</td>\n",
       "    </tr>\n",
       "    <tr>\n",
       "      <th>3</th>\n",
       "      <td>2008-08-14</td>\n",
       "      <td>1.4856</td>\n",
       "      <td>1.4856</td>\n",
       "    </tr>\n",
       "    <tr>\n",
       "      <th>4</th>\n",
       "      <td>2008-08-15</td>\n",
       "      <td>1.4695</td>\n",
       "      <td>1.4695</td>\n",
       "    </tr>\n",
       "  </tbody>\n",
       "</table>\n",
       "</div>"
      ],
      "text/plain": [
       "         DATE DEXUSEU    rate\n",
       "0  2008-08-11  1.4958  1.4958\n",
       "1  2008-08-12  1.4905  1.4905\n",
       "2  2008-08-13  1.4895  1.4895\n",
       "3  2008-08-14  1.4856  1.4856\n",
       "4  2008-08-15  1.4695  1.4695"
      ]
     },
     "execution_count": 5,
     "metadata": {},
     "output_type": "execute_result"
    }
   ],
   "source": [
    "USEU_data.head()"
   ]
  },
  {
   "cell_type": "code",
   "execution_count": 20,
   "metadata": {},
   "outputs": [
    {
     "data": {
      "text/html": [
       "<div>\n",
       "<style scoped>\n",
       "    .dataframe tbody tr th:only-of-type {\n",
       "        vertical-align: middle;\n",
       "    }\n",
       "\n",
       "    .dataframe tbody tr th {\n",
       "        vertical-align: top;\n",
       "    }\n",
       "\n",
       "    .dataframe thead th {\n",
       "        text-align: right;\n",
       "    }\n",
       "</style>\n",
       "<table border=\"1\" class=\"dataframe\">\n",
       "  <thead>\n",
       "    <tr style=\"text-align: right;\">\n",
       "      <th></th>\n",
       "      <th>rate</th>\n",
       "      <th>diff_1</th>\n",
       "    </tr>\n",
       "  </thead>\n",
       "  <tbody>\n",
       "    <tr>\n",
       "      <th>count</th>\n",
       "      <td>2509.000000</td>\n",
       "      <td>2508.000000</td>\n",
       "    </tr>\n",
       "    <tr>\n",
       "      <th>mean</th>\n",
       "      <td>1.267092</td>\n",
       "      <td>-0.000142</td>\n",
       "    </tr>\n",
       "    <tr>\n",
       "      <th>std</th>\n",
       "      <td>0.119001</td>\n",
       "      <td>0.008304</td>\n",
       "    </tr>\n",
       "    <tr>\n",
       "      <th>min</th>\n",
       "      <td>1.037500</td>\n",
       "      <td>-0.042300</td>\n",
       "    </tr>\n",
       "    <tr>\n",
       "      <th>25%</th>\n",
       "      <td>1.155900</td>\n",
       "      <td>-0.004500</td>\n",
       "    </tr>\n",
       "    <tr>\n",
       "      <th>50%</th>\n",
       "      <td>1.292600</td>\n",
       "      <td>-0.000100</td>\n",
       "    </tr>\n",
       "    <tr>\n",
       "      <th>75%</th>\n",
       "      <td>1.360000</td>\n",
       "      <td>0.004200</td>\n",
       "    </tr>\n",
       "    <tr>\n",
       "      <th>max</th>\n",
       "      <td>1.510000</td>\n",
       "      <td>0.062000</td>\n",
       "    </tr>\n",
       "  </tbody>\n",
       "</table>\n",
       "</div>"
      ],
      "text/plain": [
       "              rate       diff_1\n",
       "count  2509.000000  2508.000000\n",
       "mean      1.267092    -0.000142\n",
       "std       0.119001     0.008304\n",
       "min       1.037500    -0.042300\n",
       "25%       1.155900    -0.004500\n",
       "50%       1.292600    -0.000100\n",
       "75%       1.360000     0.004200\n",
       "max       1.510000     0.062000"
      ]
     },
     "execution_count": 20,
     "metadata": {},
     "output_type": "execute_result"
    }
   ],
   "source": [
    "USEU_data.describe()"
   ]
  },
  {
   "cell_type": "code",
   "execution_count": 6,
   "metadata": {},
   "outputs": [
    {
     "data": {
      "text/plain": [
       "Text(0.5,1,'Histogram of Exchange Rates')"
      ]
     },
     "execution_count": 6,
     "metadata": {},
     "output_type": "execute_result"
    },
    {
     "data": {
      "image/png": "[encoded data removed]",
      "text/plain": [
       "<Figure size 1080x360 with 2 Axes>"
      ]
     },
     "metadata": {},
     "output_type": "display_data"
    }
   ],
   "source": [
    "plt.figure(figsize=(15, 5))\n",
    "\n",
    "plt.subplot(1, 2, 1)\n",
    "plt.boxplot(USEU_data.rate.dropna(how = 'any'))\n",
    "plt.title('Boxplot of Exchange Rates')\n",
    "\n",
    "plt.subplot(1, 2, 2)\n",
    "plt.hist(USEU_data.rate.dropna(how = 'any'), bins=20)\n",
    "plt.axvline(USEU_data.rate.mean(), color='c', linestyle='solid', linewidth=2, label=\"Mean\")\n",
    "plt.legend(loc='upper left') \n",
    "plt.title('Histogram of Exchange Rates')"
   ]
  },
  {
   "cell_type": "markdown",
   "metadata": {},
   "source": [
    "The exchange shows an average over the ten-year period of about $1.27 to the Euro.  The exchange rate values are not normally distributed."
   ]
  },
  {
   "cell_type": "markdown",
   "metadata": {},
   "source": [
    "## 1. Plot the time series, along with any logical or necessary differences to get a stationary dataset"
   ]
  },
  {
   "cell_type": "code",
   "execution_count": 8,
   "metadata": {},
   "outputs": [
    {
     "data": {
      "image/png": "[encoded data removed]",
      "text/plain": [
       "<Figure size 432x288 with 1 Axes>"
      ]
     },
     "metadata": {},
     "output_type": "display_data"
    }
   ],
   "source": [
    "# convert index to datetime\n",
    "USEU_data.index = pd.to_datetime(USEU_data.DATE)\n",
    "USEU_data.plot()\n",
    "plt.title('Dollar to Euro Exchange Time Series')\n",
    "plt.show()"
   ]
  },
  {
   "cell_type": "code",
   "execution_count": 9,
   "metadata": {},
   "outputs": [
    {
     "data": {
      "image/png": "[encoded data removed]",
      "text/plain": [
       "<Figure size 432x288 with 1 Axes>"
      ]
     },
     "metadata": {},
     "output_type": "display_data"
    }
   ],
   "source": [
    "USEU_data['diff_1'] = USEU_data.rate - USEU_data.rate.shift()\n",
    "USEU_data.plot(y='diff_1')\n",
    "plt.title('Dollar to Euro Exchange Time Series - Difference')\n",
    "plt.show()"
   ]
  },
  {
   "cell_type": "markdown",
   "metadata": {},
   "source": [
    "Plotting the difference in the exchange rate from one day to the previous shows a stationary dataset.  Greater volatility is observed in the exchange rate in 2008 and 2009, with noticeable smaller extremes after 2009.  There is a significant drop in the exchange rate in 2014."
   ]
  },
  {
   "cell_type": "markdown",
   "metadata": {},
   "source": [
    "## 2. Generate and interpret a PACF for the time series (and/or its differences)"
   ]
  },
  {
   "cell_type": "code",
   "execution_count": 10,
   "metadata": {},
   "outputs": [
    {
     "data": {
      "text/plain": [
       "Text(0.5,1,'Dollar to Euro Exchange PACF')"
      ]
     },
     "execution_count": 10,
     "metadata": {},
     "output_type": "execute_result"
    },
    {
     "data": {
      "image/png": "[encoded data removed]",
      "text/plain": [
       "<Figure size 432x288 with 1 Axes>"
      ]
     },
     "metadata": {},
     "output_type": "display_data"
    }
   ],
   "source": [
    "x_acf = pd.DataFrame(pacf(USEU_data.rate))\n",
    "x_acf.plot(kind='bar')\n",
    "plt.title(\"Dollar to Euro Exchange PACF\")"
   ]
  },
  {
   "cell_type": "code",
   "execution_count": 11,
   "metadata": {},
   "outputs": [
    {
     "data": {
      "image/png": "[encoded data removed]",
      "text/plain": [
       "<Figure size 432x288 with 1 Axes>"
      ]
     },
     "metadata": {},
     "output_type": "display_data"
    }
   ],
   "source": [
    "x_acf = pd.DataFrame(pacf(USEU_data.diff_1[1:]))\n",
    "x_acf.plot(kind='bar')\n",
    "plt.title(\"Dollar to Euro Exchange Diff PACF\")\n",
    "plt.legend(['difference'])\n",
    "plt.show()"
   ]
  },
  {
   "cell_type": "markdown",
   "metadata": {},
   "source": [
    "Running a PACF of the original exchange rate values shows strong auto-correlation at 1.  The PACF of the exchange rate difference values shows no notable auto-correlation."
   ]
  },
  {
   "cell_type": "markdown",
   "metadata": {},
   "source": [
    "## 3. Generate 5 ARIMA specifications and evaluate their efficacy at modeling your data"
   ]
  },
  {
   "cell_type": "markdown",
   "metadata": {},
   "source": [
    "### Models"
   ]
  },
  {
   "cell_type": "code",
   "execution_count": 12,
   "metadata": {},
   "outputs": [
    {
     "name": "stdout",
     "output_type": "stream",
     "text": [
      "                             ARIMA Model Results                              \n",
      "==============================================================================\n",
      "Dep. Variable:                 D.rate   No. Observations:                 2508\n",
      "Model:                 ARIMA(0, 1, 0)   Log Likelihood                8457.588\n",
      "Method:                           css   S.D. of innovations              0.008\n",
      "Date:                Wed, 22 Aug 2018   AIC                         -16911.176\n",
      "Time:                        19:43:56   BIC                         -16899.522\n",
      "Sample:                             1   HQIC                        -16906.946\n",
      "                                                                              \n",
      "==============================================================================\n",
      "                 coef    std err          z      P>|z|      [0.025      0.975]\n",
      "------------------------------------------------------------------------------\n",
      "const         -0.0001      0.000     -0.856      0.392      -0.000       0.000\n",
      "==============================================================================\n",
      "Residuals Description\n",
      "count    2.508000e+03\n",
      "mean     2.637813e-10\n",
      "std      8.304288e-03\n",
      "min     -4.215809e-02\n",
      "25%     -4.358094e-03\n",
      "50%      4.190616e-05\n",
      "75%      4.341906e-03\n",
      "max      6.214191e-02\n",
      "dtype: float64\n"
     ]
    },
    {
     "name": "stderr",
     "output_type": "stream",
     "text": [
      "/Library/Frameworks/Python.framework/Versions/3.6/lib/python3.6/site-packages/statsmodels/tsa/base/tsa_model.py:225: ValueWarning: A date index has been provided, but it has no associated frequency information and so will be ignored when e.g. forecasting.\n",
      "  ' ignored when e.g. forecasting.', ValueWarning)\n",
      "/Library/Frameworks/Python.framework/Versions/3.6/lib/python3.6/site-packages/statsmodels/tsa/base/tsa_model.py:225: ValueWarning: A date index has been provided, but it has no associated frequency information and so will be ignored when e.g. forecasting.\n",
      "  ' ignored when e.g. forecasting.', ValueWarning)\n"
     ]
    }
   ],
   "source": [
    "model_010 = ARIMA(USEU_data.rate, order=(0,1,0))\n",
    "model_010_fit = model_010.fit()\n",
    "print(model_010_fit.summary())\n",
    "print('Residuals Description')\n",
    "print(model_010_fit.resid.describe())"
   ]
  },
  {
   "cell_type": "code",
   "execution_count": 28,
   "metadata": {},
   "outputs": [
    {
     "name": "stdout",
     "output_type": "stream",
     "text": [
      "                              ARMA Model Results                              \n",
      "==============================================================================\n",
      "Dep. Variable:                   rate   No. Observations:                 2509\n",
      "Model:                     ARMA(1, 0)   Log Likelihood                8458.841\n",
      "Method:                       css-mle   S.D. of innovations              0.008\n",
      "Date:                Wed, 22 Aug 2018   AIC                         -16911.683\n",
      "Time:                        21:13:21   BIC                         -16894.200\n",
      "Sample:                             0   HQIC                        -16905.337\n",
      "                                                                              \n",
      "==============================================================================\n",
      "                 coef    std err          z      P>|z|      [0.025      0.975]\n",
      "------------------------------------------------------------------------------\n",
      "const          1.2817      0.071     17.989      0.000       1.142       1.421\n",
      "ar.L1.rate     0.9980      0.001    801.730      0.000       0.996       1.000\n",
      "                                    Roots                                    \n",
      "=============================================================================\n",
      "                  Real          Imaginary           Modulus         Frequency\n",
      "-----------------------------------------------------------------------------\n",
      "AR.1            1.0020           +0.0000j            1.0020            0.0000\n",
      "-----------------------------------------------------------------------------\n",
      "Residuals Description\n",
      "count    2509.000000\n",
      "mean       -0.000085\n",
      "std         0.009334\n",
      "min        -0.042008\n",
      "25%        -0.004508\n",
      "50%        -0.000114\n",
      "75%         0.004100\n",
      "max         0.214114\n",
      "dtype: float64\n"
     ]
    },
    {
     "name": "stderr",
     "output_type": "stream",
     "text": [
      "/Library/Frameworks/Python.framework/Versions/3.6/lib/python3.6/site-packages/statsmodels/tsa/base/tsa_model.py:225: ValueWarning: A date index has been provided, but it has no associated frequency information and so will be ignored when e.g. forecasting.\n",
      "  ' ignored when e.g. forecasting.', ValueWarning)\n"
     ]
    }
   ],
   "source": [
    "from statsmodels.tsa.arima_model import ARIMA\n",
    "model_100 = ARIMA(USEU_data.rate, order=(1,0,0))\n",
    "model_100_fit = model_100.fit()\n",
    "print(model_100_fit.summary())\n",
    "print('Residuals Description')\n",
    "print(model_100_fit.resid.describe())"
   ]
  },
  {
   "cell_type": "code",
   "execution_count": 30,
   "metadata": {},
   "outputs": [
    {
     "name": "stdout",
     "output_type": "stream",
     "text": [
      "                              ARMA Model Results                              \n",
      "==============================================================================\n",
      "Dep. Variable:                   rate   No. Observations:                 2509\n",
      "Model:                     ARMA(2, 0)   Log Likelihood                8459.032\n",
      "Method:                       css-mle   S.D. of innovations              0.008\n",
      "Date:                Wed, 22 Aug 2018   AIC                         -16910.064\n",
      "Time:                        21:14:39   BIC                         -16886.753\n",
      "Sample:                             0   HQIC                        -16901.602\n",
      "                                                                              \n",
      "==============================================================================\n",
      "                 coef    std err          z      P>|z|      [0.025      0.975]\n",
      "------------------------------------------------------------------------------\n",
      "const          1.2814      0.070     18.209      0.000       1.143       1.419\n",
      "ar.L1.rate     1.0103      0.020     50.605      0.000       0.971       1.049\n",
      "ar.L2.rate    -0.0123      0.020     -0.618      0.537      -0.051       0.027\n",
      "                                    Roots                                    \n",
      "=============================================================================\n",
      "                  Real          Imaginary           Modulus         Frequency\n",
      "-----------------------------------------------------------------------------\n",
      "AR.1            1.0020           +0.0000j            1.0020            0.0000\n",
      "AR.2           80.8712           +0.0000j           80.8712            0.0000\n",
      "-----------------------------------------------------------------------------\n",
      "Residuals Description\n",
      "count    2509.000000\n",
      "mean       -0.000083\n",
      "std         0.009336\n",
      "min        -0.041928\n",
      "25%        -0.004534\n",
      "50%        -0.000148\n",
      "75%         0.004110\n",
      "max         0.214433\n",
      "dtype: float64\n"
     ]
    },
    {
     "name": "stderr",
     "output_type": "stream",
     "text": [
      "/Library/Frameworks/Python.framework/Versions/3.6/lib/python3.6/site-packages/statsmodels/tsa/base/tsa_model.py:225: ValueWarning: A date index has been provided, but it has no associated frequency information and so will be ignored when e.g. forecasting.\n",
      "  ' ignored when e.g. forecasting.', ValueWarning)\n"
     ]
    }
   ],
   "source": [
    "from statsmodels.tsa.arima_model import ARIMA\n",
    "model_200 = ARIMA(USEU_data.rate, order=(2,0,0))\n",
    "model_200_fit = model_200.fit()\n",
    "print(model_200_fit.summary())\n",
    "print('Residuals Description')\n",
    "print(model_200_fit.resid.describe())"
   ]
  },
  {
   "cell_type": "code",
   "execution_count": 14,
   "metadata": {},
   "outputs": [
    {
     "name": "stderr",
     "output_type": "stream",
     "text": [
      "/Library/Frameworks/Python.framework/Versions/3.6/lib/python3.6/site-packages/statsmodels/tsa/base/tsa_model.py:225: ValueWarning: A date index has been provided, but it has no associated frequency information and so will be ignored when e.g. forecasting.\n",
      "  ' ignored when e.g. forecasting.', ValueWarning)\n"
     ]
    },
    {
     "name": "stdout",
     "output_type": "stream",
     "text": [
      "                              ARMA Model Results                              \n",
      "==============================================================================\n",
      "Dep. Variable:                   rate   No. Observations:                 2509\n",
      "Model:                     ARMA(1, 1)   Log Likelihood                8459.041\n",
      "Method:                       css-mle   S.D. of innovations              0.008\n",
      "Date:                Wed, 22 Aug 2018   AIC                         -16910.082\n",
      "Time:                        19:43:56   BIC                         -16886.772\n",
      "Sample:                             0   HQIC                        -16901.621\n",
      "                                                                              \n",
      "==============================================================================\n",
      "                 coef    std err          z      P>|z|      [0.025      0.975]\n",
      "------------------------------------------------------------------------------\n",
      "const          1.2814      0.070     18.217      0.000       1.143       1.419\n",
      "ar.L1.rate     0.9980      0.001    786.533      0.000       0.995       1.000\n",
      "ma.L1.rate     0.0130      0.021      0.632      0.527      -0.027       0.053\n",
      "                                    Roots                                    \n",
      "=============================================================================\n",
      "                  Real          Imaginary           Modulus         Frequency\n",
      "-----------------------------------------------------------------------------\n",
      "AR.1            1.0020           +0.0000j            1.0020            0.0000\n",
      "MA.1          -77.1169           +0.0000j           77.1169            0.5000\n",
      "-----------------------------------------------------------------------------\n",
      "Residuals Description\n",
      "count    2509.000000\n",
      "mean       -0.000083\n",
      "std         0.009337\n",
      "min        -0.041916\n",
      "25%        -0.004536\n",
      "50%        -0.000153\n",
      "75%         0.004115\n",
      "max         0.214447\n",
      "dtype: float64\n"
     ]
    }
   ],
   "source": [
    "from statsmodels.tsa.arima_model import ARIMA\n",
    "model_101 = ARIMA(USEU_data.rate, order=(1,0,1))\n",
    "model_fit = model_101.fit(disp=0)\n",
    "print(model_fit.summary())\n",
    "print('Residuals Description')\n",
    "print(model_fit.resid.describe())"
   ]
  },
  {
   "cell_type": "code",
   "execution_count": 15,
   "metadata": {},
   "outputs": [
    {
     "name": "stderr",
     "output_type": "stream",
     "text": [
      "/Library/Frameworks/Python.framework/Versions/3.6/lib/python3.6/site-packages/statsmodels/tsa/base/tsa_model.py:225: ValueWarning: A date index has been provided, but it has no associated frequency information and so will be ignored when e.g. forecasting.\n",
      "  ' ignored when e.g. forecasting.', ValueWarning)\n",
      "/Library/Frameworks/Python.framework/Versions/3.6/lib/python3.6/site-packages/statsmodels/tsa/base/tsa_model.py:225: ValueWarning: A date index has been provided, but it has no associated frequency information and so will be ignored when e.g. forecasting.\n",
      "  ' ignored when e.g. forecasting.', ValueWarning)\n"
     ]
    },
    {
     "name": "stdout",
     "output_type": "stream",
     "text": [
      "                             ARIMA Model Results                              \n",
      "==============================================================================\n",
      "Dep. Variable:                 D.rate   No. Observations:                 2508\n",
      "Model:                 ARIMA(2, 1, 1)   Log Likelihood                8458.624\n",
      "Method:                       css-mle   S.D. of innovations              0.008\n",
      "Date:                Wed, 22 Aug 2018   AIC                         -16907.249\n",
      "Time:                        19:43:57   BIC                         -16878.112\n",
      "Sample:                             1   HQIC                        -16896.673\n",
      "                                                                              \n",
      "================================================================================\n",
      "                   coef    std err          z      P>|z|      [0.025      0.975]\n",
      "--------------------------------------------------------------------------------\n",
      "const           -0.0001      0.000     -0.863      0.388      -0.000       0.000\n",
      "ar.L1.D.rate    -0.2492      0.404     -0.617      0.537      -1.041       0.542\n",
      "ar.L2.D.rate    -0.0228      0.021     -1.068      0.286      -0.065       0.019\n",
      "ma.L1.D.rate     0.2606      0.404      0.646      0.519      -0.531       1.052\n",
      "                                    Roots                                    \n",
      "=============================================================================\n",
      "                  Real          Imaginary           Modulus         Frequency\n",
      "-----------------------------------------------------------------------------\n",
      "AR.1           -5.4565           -3.7445j            6.6178           -0.4043\n",
      "AR.2           -5.4565           +3.7445j            6.6178            0.4043\n",
      "MA.1           -3.8378           +0.0000j            3.8378            0.5000\n",
      "-----------------------------------------------------------------------------\n",
      "Residuals Description\n",
      "count    2.508000e+03\n",
      "mean    -2.325196e-08\n",
      "std      8.300856e-03\n",
      "min     -4.071741e-02\n",
      "25%     -4.396983e-03\n",
      "50%      2.773438e-05\n",
      "75%      4.373059e-03\n",
      "max      6.186507e-02\n",
      "dtype: float64\n"
     ]
    }
   ],
   "source": [
    "from statsmodels.tsa.arima_model import ARIMA\n",
    "model_211 = ARIMA(USEU_data.rate, order=(2,1,1))\n",
    "model_211_fit = model_211.fit()\n",
    "print(model_211_fit.summary())\n",
    "print('Residuals Description')\n",
    "print(model_211_fit.resid.describe())"
   ]
  },
  {
   "cell_type": "code",
   "execution_count": 25,
   "metadata": {},
   "outputs": [
    {
     "name": "stderr",
     "output_type": "stream",
     "text": [
      "/Library/Frameworks/Python.framework/Versions/3.6/lib/python3.6/site-packages/statsmodels/tsa/base/tsa_model.py:225: ValueWarning: A date index has been provided, but it has no associated frequency information and so will be ignored when e.g. forecasting.\n",
      "  ' ignored when e.g. forecasting.', ValueWarning)\n",
      "/Library/Frameworks/Python.framework/Versions/3.6/lib/python3.6/site-packages/statsmodels/tsa/base/tsa_model.py:225: ValueWarning: A date index has been provided, but it has no associated frequency information and so will be ignored when e.g. forecasting.\n",
      "  ' ignored when e.g. forecasting.', ValueWarning)\n"
     ]
    },
    {
     "name": "stdout",
     "output_type": "stream",
     "text": [
      "                             ARIMA Model Results                              \n",
      "==============================================================================\n",
      "Dep. Variable:                 D.rate   No. Observations:                 2508\n",
      "Model:                 ARIMA(4, 1, 1)   Log Likelihood                8459.244\n",
      "Method:                       css-mle   S.D. of innovations              0.008\n",
      "Date:                Wed, 22 Aug 2018   AIC                         -16904.488\n",
      "Time:                        20:53:35   BIC                         -16863.698\n",
      "Sample:                             1   HQIC                        -16889.682\n",
      "                                                                              \n",
      "================================================================================\n",
      "                   coef    std err          z      P>|z|      [0.025      0.975]\n",
      "--------------------------------------------------------------------------------\n",
      "const           -0.0001      0.000     -0.847      0.397      -0.000       0.000\n",
      "ar.L1.D.rate    -0.5960      0.356     -1.675      0.094      -1.294       0.102\n",
      "ar.L2.D.rate    -0.0171      0.024     -0.724      0.469      -0.063       0.029\n",
      "ar.L3.D.rate     0.0009      0.025      0.038      0.970      -0.048       0.050\n",
      "ar.L4.D.rate     0.0247      0.020      1.236      0.216      -0.014       0.064\n",
      "ma.L1.D.rate     0.6076      0.356      1.709      0.088      -0.089       1.304\n",
      "                                    Roots                                    \n",
      "=============================================================================\n",
      "                  Real          Imaginary           Modulus         Frequency\n",
      "-----------------------------------------------------------------------------\n",
      "AR.1           -1.5256           -0.0000j            1.5256           -0.5000\n",
      "AR.2           -0.9381           -2.6474j            2.8087           -0.3042\n",
      "AR.3           -0.9381           +2.6474j            2.8087            0.3042\n",
      "AR.4            3.3637           -0.0000j            3.3637           -0.0000\n",
      "MA.1           -1.6459           +0.0000j            1.6459            0.5000\n",
      "-----------------------------------------------------------------------------\n",
      "Residuals Description\n",
      "count    2.508000e+03\n",
      "mean     1.180270e-07\n",
      "std      8.298804e-03\n",
      "min     -4.148558e-02\n",
      "25%     -4.396670e-03\n",
      "50%      2.229438e-05\n",
      "75%      4.370270e-03\n",
      "max      6.169408e-02\n",
      "dtype: float64\n"
     ]
    }
   ],
   "source": [
    "model_411 = ARIMA(USEU_data.rate, order=(4,1,1))\n",
    "model_411_fit = model_411.fit()\n",
    "print(model_411_fit.summary())\n",
    "print('Residuals Description')\n",
    "print(model_411_fit.resid.describe())"
   ]
  },
  {
   "cell_type": "code",
   "execution_count": 16,
   "metadata": {},
   "outputs": [
    {
     "name": "stderr",
     "output_type": "stream",
     "text": [
      "/Library/Frameworks/Python.framework/Versions/3.6/lib/python3.6/site-packages/statsmodels/tsa/base/tsa_model.py:225: ValueWarning: A date index has been provided, but it has no associated frequency information and so will be ignored when e.g. forecasting.\n",
      "  ' ignored when e.g. forecasting.', ValueWarning)\n"
     ]
    },
    {
     "name": "stdout",
     "output_type": "stream",
     "text": [
      "                              ARMA Model Results                              \n",
      "==============================================================================\n",
      "Dep. Variable:                   rate   No. Observations:                 2509\n",
      "Model:                     ARMA(2, 1)   Log Likelihood                8459.450\n",
      "Method:                       css-mle   S.D. of innovations              0.008\n",
      "Date:                Wed, 22 Aug 2018   AIC                         -16908.899\n",
      "Time:                        19:43:58   BIC                         -16879.761\n",
      "Sample:                             0   HQIC                        -16898.323\n",
      "                                                                              \n",
      "==============================================================================\n",
      "                 coef    std err          z      P>|z|      [0.025      0.975]\n",
      "------------------------------------------------------------------------------\n",
      "const          1.2814      0.070     18.210      0.000       1.143       1.419\n",
      "ar.L1.rate     0.4940      0.379      1.303      0.193      -0.249       1.237\n",
      "ar.L2.rate     0.5029      0.378      1.329      0.184      -0.239       1.245\n",
      "ma.L1.rate     0.5230      0.374      1.399      0.162      -0.210       1.256\n",
      "                                    Roots                                    \n",
      "=============================================================================\n",
      "                  Real          Imaginary           Modulus         Frequency\n",
      "-----------------------------------------------------------------------------\n",
      "AR.1            1.0020           +0.0000j            1.0020            0.0000\n",
      "AR.2           -1.9842           +0.0000j            1.9842            0.5000\n",
      "MA.1           -1.9120           +0.0000j            1.9120            0.5000\n",
      "-----------------------------------------------------------------------------\n",
      "Residuals Description\n",
      "count    2509.000000\n",
      "mean       -0.000083\n",
      "std         0.009335\n",
      "min        -0.041329\n",
      "25%        -0.004555\n",
      "50%        -0.000177\n",
      "75%         0.004147\n",
      "max         0.214434\n",
      "dtype: float64\n"
     ]
    }
   ],
   "source": [
    "model_201 = ARIMA(USEU_data.rate, order=(2,0,1))\n",
    "model_201_fit = model_201.fit()\n",
    "print(model_201_fit.summary())\n",
    "print('Residuals Description')\n",
    "print(model_201_fit.resid.describe())"
   ]
  },
  {
   "cell_type": "code",
   "execution_count": 17,
   "metadata": {},
   "outputs": [
    {
     "name": "stderr",
     "output_type": "stream",
     "text": [
      "/Library/Frameworks/Python.framework/Versions/3.6/lib/python3.6/site-packages/statsmodels/tsa/base/tsa_model.py:225: ValueWarning: A date index has been provided, but it has no associated frequency information and so will be ignored when e.g. forecasting.\n",
      "  ' ignored when e.g. forecasting.', ValueWarning)\n"
     ]
    },
    {
     "name": "stdout",
     "output_type": "stream",
     "text": [
      "                              ARMA Model Results                              \n",
      "==============================================================================\n",
      "Dep. Variable:                   rate   No. Observations:                 2509\n",
      "Model:                     ARMA(1, 2)   Log Likelihood                8459.703\n",
      "Method:                       css-mle   S.D. of innovations              0.008\n",
      "Date:                Wed, 22 Aug 2018   AIC                         -16909.405\n",
      "Time:                        19:43:58   BIC                         -16880.267\n",
      "Sample:                             0   HQIC                        -16898.829\n",
      "                                                                              \n",
      "==============================================================================\n",
      "                 coef    std err          z      P>|z|      [0.025      0.975]\n",
      "------------------------------------------------------------------------------\n",
      "const          1.2819      0.072     17.817      0.000       1.141       1.423\n",
      "ar.L1.rate     0.9981      0.001    807.590      0.000       0.996       1.000\n",
      "ma.L1.rate     0.0133      0.020      0.663      0.507      -0.026       0.053\n",
      "ma.L2.rate    -0.0228      0.020     -1.151      0.250      -0.062       0.016\n",
      "                                    Roots                                    \n",
      "=============================================================================\n",
      "                  Real          Imaginary           Modulus         Frequency\n",
      "-----------------------------------------------------------------------------\n",
      "AR.1            1.0019           +0.0000j            1.0019            0.0000\n",
      "MA.1           -6.3362           +0.0000j            6.3362            0.5000\n",
      "MA.2            6.9182           +0.0000j            6.9182            0.0000\n",
      "-----------------------------------------------------------------------------\n",
      "Residuals Description\n",
      "count    2509.000000\n",
      "mean       -0.000087\n",
      "std         0.009329\n",
      "min        -0.040667\n",
      "25%        -0.004554\n",
      "50%        -0.000135\n",
      "75%         0.004142\n",
      "max         0.213855\n",
      "dtype: float64\n"
     ]
    }
   ],
   "source": [
    "from statsmodels.tsa.arima_model import ARIMA\n",
    "model_102 = ARIMA(USEU_data.rate, order=(1,0,2))\n",
    "model_102_fit = model_102.fit()\n",
    "print(model_102_fit.summary())\n",
    "print('Residuals Description')\n",
    "print(model_102_fit.resid.describe())"
   ]
  },
  {
   "cell_type": "code",
   "execution_count": 32,
   "metadata": {},
   "outputs": [
    {
     "name": "stdout",
     "output_type": "stream",
     "text": [
      "                             ARIMA Model Results                              \n",
      "==============================================================================\n",
      "Dep. Variable:                D2.rate   No. Observations:                 2507\n",
      "Model:                 ARIMA(1, 2, 0)   Log Likelihood                7931.174\n",
      "Method:                       css-mle   S.D. of innovations              0.010\n",
      "Date:                Wed, 22 Aug 2018   AIC                         -15856.348\n",
      "Time:                        21:20:39   BIC                         -15838.868\n",
      "Sample:                             2   HQIC                        -15850.003\n",
      "                                                                              \n",
      "=================================================================================\n",
      "                    coef    std err          z      P>|z|      [0.025      0.975]\n",
      "---------------------------------------------------------------------------------\n",
      "const         -3.359e-06      0.000     -0.024      0.981      -0.000       0.000\n",
      "ar.L1.D2.rate    -0.4821      0.017    -27.551      0.000      -0.516      -0.448\n",
      "                                    Roots                                    \n",
      "=============================================================================\n",
      "                  Real          Imaginary           Modulus         Frequency\n",
      "-----------------------------------------------------------------------------\n",
      "AR.1           -2.0744           +0.0000j            2.0744            0.5000\n",
      "-----------------------------------------------------------------------------\n",
      "Residuals Description\n",
      "count    2.507000e+03\n",
      "mean     8.348111e-07\n",
      "std      1.023036e-02\n",
      "min     -6.560475e-02\n",
      "25%     -5.767541e-03\n",
      "50%     -1.136986e-05\n",
      "75%      5.874284e-03\n",
      "max      5.606269e-02\n",
      "dtype: float64\n"
     ]
    },
    {
     "name": "stderr",
     "output_type": "stream",
     "text": [
      "/Library/Frameworks/Python.framework/Versions/3.6/lib/python3.6/site-packages/statsmodels/tsa/base/tsa_model.py:225: ValueWarning: A date index has been provided, but it has no associated frequency information and so will be ignored when e.g. forecasting.\n",
      "  ' ignored when e.g. forecasting.', ValueWarning)\n",
      "/Library/Frameworks/Python.framework/Versions/3.6/lib/python3.6/site-packages/statsmodels/tsa/base/tsa_model.py:225: ValueWarning: A date index has been provided, but it has no associated frequency information and so will be ignored when e.g. forecasting.\n",
      "  ' ignored when e.g. forecasting.', ValueWarning)\n"
     ]
    }
   ],
   "source": [
    "model_120 = ARIMA(USEU_data.rate, order=(1,2,0))\n",
    "model_120_fit = model_120.fit()\n",
    "print(model_120_fit.summary())\n",
    "print('Residuals Description')\n",
    "print(model_120_fit.resid.describe())"
   ]
  },
  {
   "cell_type": "markdown",
   "metadata": {},
   "source": [
    "### Results"
   ]
  },
  {
   "cell_type": "code",
   "execution_count": 26,
   "metadata": {},
   "outputs": [
    {
     "data": {
      "text/html": [
       "<div>\n",
       "<style scoped>\n",
       "    .dataframe tbody tr th:only-of-type {\n",
       "        vertical-align: middle;\n",
       "    }\n",
       "\n",
       "    .dataframe tbody tr th {\n",
       "        vertical-align: top;\n",
       "    }\n",
       "\n",
       "    .dataframe thead th {\n",
       "        text-align: right;\n",
       "    }\n",
       "</style>\n",
       "<table border=\"1\" class=\"dataframe\">\n",
       "  <thead>\n",
       "    <tr style=\"text-align: right;\">\n",
       "      <th></th>\n",
       "      <th>parameters</th>\n",
       "      <th>AIC</th>\n",
       "      <th>BIC</th>\n",
       "    </tr>\n",
       "  </thead>\n",
       "  <tbody>\n",
       "    <tr>\n",
       "      <th>0</th>\n",
       "      <td>0,1,0</td>\n",
       "      <td>-16911.176</td>\n",
       "      <td>-16899.522</td>\n",
       "    </tr>\n",
       "    <tr>\n",
       "      <th>1</th>\n",
       "      <td>1,0,0</td>\n",
       "      <td>-16911.683</td>\n",
       "      <td>-16894.200</td>\n",
       "    </tr>\n",
       "    <tr>\n",
       "      <th>2</th>\n",
       "      <td>1,0,1</td>\n",
       "      <td>-16910.082</td>\n",
       "      <td>-16886.772</td>\n",
       "    </tr>\n",
       "    <tr>\n",
       "      <th>3</th>\n",
       "      <td>2,1,1</td>\n",
       "      <td>-16907.249</td>\n",
       "      <td>-16878.112</td>\n",
       "    </tr>\n",
       "    <tr>\n",
       "      <th>4</th>\n",
       "      <td>2,0,1</td>\n",
       "      <td>-16908.899</td>\n",
       "      <td>-16879.761</td>\n",
       "    </tr>\n",
       "    <tr>\n",
       "      <th>5</th>\n",
       "      <td>1,0,2</td>\n",
       "      <td>-16909.405</td>\n",
       "      <td>-16880.267</td>\n",
       "    </tr>\n",
       "    <tr>\n",
       "      <th>6</th>\n",
       "      <td>3,1,1</td>\n",
       "      <td>-16904.981</td>\n",
       "      <td>-16870.017</td>\n",
       "    </tr>\n",
       "  </tbody>\n",
       "</table>\n",
       "</div>"
      ],
      "text/plain": [
       "  parameters        AIC        BIC\n",
       "0      0,1,0 -16911.176 -16899.522\n",
       "1      1,0,0 -16911.683 -16894.200\n",
       "2      1,0,1 -16910.082 -16886.772\n",
       "3      2,1,1 -16907.249 -16878.112\n",
       "4      2,0,1 -16908.899 -16879.761\n",
       "5      1,0,2 -16909.405 -16880.267\n",
       "6      3,1,1 -16904.981 -16870.017"
      ]
     },
     "execution_count": 26,
     "metadata": {},
     "output_type": "execute_result"
    }
   ],
   "source": [
    "model_summary = pd.DataFrame()\n",
    "model_summary['parameters'] = ['0,1,0','1,0,0','1,0,1','2,1,1','2,0,1', '1,0,2', '3,1,1']\n",
    "model_summary['AIC'] = [-16911.176, -16911.683, -16910.082, -16907.249, -16908.899, -16909.405, -16904.981]\n",
    "model_summary['BIC'] = [-16899.522, -16894.200, -16886.772, -16878.112, -16879.761, -16880.267, -16870.017]\n",
    "model_summary"
   ]
  },
  {
   "cell_type": "markdown",
   "metadata": {},
   "source": [
    "With each of our models resulting in a negative AIC value, the best result is with the 1, 0, 0 ARIMA model, or an AR1 model.  The next lowest AIC value is with the 0, 1, 0 ARIMA model - this one has the lowest BIC value.  The highest AIC value came from the 2, 1, 1 ARIMA model."
   ]
  },
  {
   "cell_type": "markdown",
   "metadata": {},
   "source": [
    "### Residuals"
   ]
  },
  {
   "cell_type": "markdown",
   "metadata": {},
   "source": [
    "ARIMA(2,1,1) model residuals"
   ]
  },
  {
   "cell_type": "code",
   "execution_count": 19,
   "metadata": {},
   "outputs": [
    {
     "data": {
      "text/plain": [
       "Text(0.5,1,'Histogram of Residuals')"
      ]
     },
     "execution_count": 19,
     "metadata": {},
     "output_type": "execute_result"
    },
    {
     "data": {
      "image/png": "[encoded data removed]",
      "text/plain": [
       "<Figure size 432x288 with 1 Axes>"
      ]
     },
     "metadata": {},
     "output_type": "display_data"
    },
    {
     "data": {
      "image/png": "[encoded data removed]",
      "text/plain": [
       "<Figure size 432x288 with 1 Axes>"
      ]
     },
     "metadata": {},
     "output_type": "display_data"
    }
   ],
   "source": [
    "residuals = pd.DataFrame(model_211_fit.resid)\n",
    "\n",
    "residuals.plot(legend=False)\n",
    "plt.title('Time Series of Residuals')\n",
    "\n",
    "residuals.hist(bins=20)\n",
    "plt.title('Histogram of Residuals')"
   ]
  },
  {
   "cell_type": "markdown",
   "metadata": {},
   "source": [
    "Here we see more extreme residuals during the period of high volitility in 2008 and 2009.  This could likely be explained with further modeling using additional features to reflect the instability of that period.\n",
    "\n",
    "The residuals appear to be normally distributed."
   ]
  },
  {
   "cell_type": "markdown",
   "metadata": {},
   "source": [
    "ARIMA(1,0,0) model residuals"
   ]
  },
  {
   "cell_type": "code",
   "execution_count": 34,
   "metadata": {},
   "outputs": [
    {
     "data": {
      "text/plain": [
       "Text(0.5,1,'Histogram of Residuals')"
      ]
     },
     "execution_count": 34,
     "metadata": {},
     "output_type": "execute_result"
    },
    {
     "data": {
      "image/png": "[encoded data removed]",
      "text/plain": [
       "<Figure size 432x288 with 1 Axes>"
      ]
     },
     "metadata": {},
     "output_type": "display_data"
    },
    {
     "data": {
      "image/png": "[encoded data removed]",
      "text/plain": [
       "<Figure size 432x288 with 1 Axes>"
      ]
     },
     "metadata": {},
     "output_type": "display_data"
    }
   ],
   "source": [
    "residuals = pd.DataFrame(model_100_fit.resid)\n",
    "\n",
    "residuals.plot(legend=False)\n",
    "plt.title('Time Series of Residuals')\n",
    "\n",
    "residuals.hist(bins=20)\n",
    "plt.title('Histogram of Residuals')"
   ]
  },
  {
   "cell_type": "markdown",
   "metadata": {},
   "source": [
    "By visualizing the AR1 model residuals, we can see how it improves on the ARIMA (2, 1, 1).  Although the volitility of 2008 and 2009 is not captured as well, the residuals are overall more frequently very close to 0 and still normally distributed."
   ]
  },
  {
   "cell_type": "markdown",
   "metadata": {},
   "source": [
    "ARIMA (0,1,0) Residuals"
   ]
  },
  {
   "cell_type": "code",
   "execution_count": 35,
   "metadata": {},
   "outputs": [
    {
     "data": {
      "text/plain": [
       "Text(0.5,1,'Histogram of Residuals')"
      ]
     },
     "execution_count": 35,
     "metadata": {},
     "output_type": "execute_result"
    },
    {
     "data": {
      "image/png": "[encoded data removed]",
      "text/plain": [
       "<Figure size 432x288 with 1 Axes>"
      ]
     },
     "metadata": {},
     "output_type": "display_data"
    },
    {
     "data": {
      "image/png": "[encoded data removed]",
      "text/plain": [
       "<Figure size 432x288 with 1 Axes>"
      ]
     },
     "metadata": {},
     "output_type": "display_data"
    }
   ],
   "source": [
    "residuals = pd.DataFrame(model_010_fit.resid)\n",
    "\n",
    "residuals.plot(legend=False)\n",
    "plt.title('Time Series of Residuals')\n",
    "\n",
    "residuals.hist(bins=20)\n",
    "plt.title('Histogram of Residuals')"
   ]
  },
  {
   "cell_type": "markdown",
   "metadata": {},
   "source": [
    "By plotting the residuals of the ARIMA (0,1,0) model we see that the 2008-2009 volitility is more accurately captured than with the AR1 model.  The distribution of residuals is still normal."
   ]
  },
  {
   "cell_type": "markdown",
   "metadata": {},
   "source": [
    "## 4. Finally choose one specification and make the case for that as a logical model for your dataset."
   ]
  },
  {
   "cell_type": "markdown",
   "metadata": {},
   "source": [
    "Our testing shows that the ARIMA (0,1,0) model appears to best capture the exchange values, as reflected by the lowest AIC value of -16911.176 and the lowest BIC value at -1689.994."
   ]
  },
  {
   "cell_type": "markdown",
   "metadata": {},
   "source": [
    "### Pyramid ARIMA\n",
    "https://libraries.io/pypi/pyramid-arima"
   ]
  },
  {
   "cell_type": "code",
   "execution_count": 38,
   "metadata": {},
   "outputs": [
    {
     "name": "stdout",
     "output_type": "stream",
     "text": [
      "Fit ARIMA: order=(1, 1, 1); AIC=nan, BIC=nan, Fit time=nan seconds\n",
      "Fit ARIMA: order=(0, 1, 0); AIC=-16911.176, BIC=-16899.522, Fit time=0.013 seconds\n",
      "Fit ARIMA: order=(1, 1, 0); AIC=-16909.475, BIC=-16891.994, Fit time=0.103 seconds\n",
      "Fit ARIMA: order=(0, 1, 1); AIC=-16909.491, BIC=-16892.009, Fit time=0.030 seconds\n",
      "Total fit time: 0.430 seconds\n",
      "-16911.17632420599\n"
     ]
    }
   ],
   "source": [
    "from pyramid.arima import auto_arima\n",
    "stepwise_model = auto_arima(USEU_data.rate, start_p=1, start_q=1,\n",
    "                           max_p=3, max_q=3, m=12,\n",
    "                           start_P=0, seasonal=False,\n",
    "                           d=1, D=1, trace=True,\n",
    "                           error_action='ignore',  \n",
    "                           suppress_warnings=True, \n",
    "                           stepwise=True)\n",
    "print(stepwise_model.aic())"
   ]
  },
  {
   "cell_type": "markdown",
   "metadata": {},
   "source": [
    "Using the Pyramid ARIMA grid search we find the same results - the ARIMA 0,1,0 has the lowest AIC value and is therefore the logical choice for our exchange rate data."
   ]
  }
 ],
 "metadata": {
  "hide_input": false,
  "kernelspec": {
   "display_name": "Python 3",
   "language": "python",
   "name": "python3"
  },
  "language_info": {
   "codemirror_mode": {
    "name": "ipython",
    "version": 3
   },
   "file_extension": ".py",
   "mimetype": "text/x-python",
   "name": "python",
   "nbconvert_exporter": "python",
   "pygments_lexer": "ipython3",
   "version": "3.6.1"
  }
 },
 "nbformat": 4,
 "nbformat_minor": 2
}
