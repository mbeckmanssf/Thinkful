{
 "cells": [
  {
   "cell_type": "markdown",
   "metadata": {},
   "source": [
    "# Challenge Questions\n",
    "Using selected questions from the 2012 and 2014 editions of the European Social Survey, address the following questions. \n",
    "In this dataset, the same participants answered questions in 2012 and again 2014.\n",
    "\n",
    "1. Did people become less trusting from 2012 to 2014? Compute results for each country in the sample.<br>\n",
    "2. Did people become happier from 2012 to 2014? Compute results for each country in the sample.<br>\n",
    "3. Who reported watching more TV in 2012, men or women?<br>\n",
    "4. Who was more likely to believe people were fair in 2012, people living with a partner or people living alone?<br>\n",
    "5. Pick three or four of the countries in the sample and compare how often people met socially in 2014. Are there differences, and if so, which countries stand out?<br>\n",
    "6. Pick three or four of the countries in the sample and compare how often people took part in social activities, relative to others their age, in 2014. Are there differences, and if so, which countries stand out?"
   ]
  },
  {
   "cell_type": "code",
   "execution_count": 1,
   "metadata": {},
   "outputs": [],
   "source": [
    "%matplotlib inline\n",
    "import numpy as np\n",
    "import pandas as pd\n",
    "import seaborn as sns\n",
    "import scipy\n",
    "import sklearn\n",
    "import matplotlib.pyplot as plt\n",
    "import scipy.stats as stats"
   ]
  },
  {
   "cell_type": "markdown",
   "metadata": {},
   "source": [
    "## Data"
   ]
  },
  {
   "cell_type": "code",
   "execution_count": 2,
   "metadata": {},
   "outputs": [],
   "source": [
    "ess = pd.read_csv('/Users/marenbeckman/Desktop/Data_Science/ESSdata_Thinkful.csv')"
   ]
  },
  {
   "cell_type": "code",
   "execution_count": 3,
   "metadata": {},
   "outputs": [
    {
     "data": {
      "text/html": [
       "<div>\n",
       "<style scoped>\n",
       "    .dataframe tbody tr th:only-of-type {\n",
       "        vertical-align: middle;\n",
       "    }\n",
       "\n",
       "    .dataframe tbody tr th {\n",
       "        vertical-align: top;\n",
       "    }\n",
       "\n",
       "    .dataframe thead th {\n",
       "        text-align: right;\n",
       "    }\n",
       "</style>\n",
       "<table border=\"1\" class=\"dataframe\">\n",
       "  <thead>\n",
       "    <tr style=\"text-align: right;\">\n",
       "      <th></th>\n",
       "      <th>cntry</th>\n",
       "      <th>idno</th>\n",
       "      <th>year</th>\n",
       "      <th>tvtot</th>\n",
       "      <th>ppltrst</th>\n",
       "      <th>pplfair</th>\n",
       "      <th>pplhlp</th>\n",
       "      <th>happy</th>\n",
       "      <th>sclmeet</th>\n",
       "      <th>sclact</th>\n",
       "      <th>gndr</th>\n",
       "      <th>agea</th>\n",
       "      <th>partner</th>\n",
       "    </tr>\n",
       "  </thead>\n",
       "  <tbody>\n",
       "    <tr>\n",
       "      <th>0</th>\n",
       "      <td>CH</td>\n",
       "      <td>5.0</td>\n",
       "      <td>6</td>\n",
       "      <td>3.0</td>\n",
       "      <td>3.0</td>\n",
       "      <td>10.0</td>\n",
       "      <td>5.0</td>\n",
       "      <td>8.0</td>\n",
       "      <td>5.0</td>\n",
       "      <td>4.0</td>\n",
       "      <td>2.0</td>\n",
       "      <td>60.0</td>\n",
       "      <td>1.0</td>\n",
       "    </tr>\n",
       "    <tr>\n",
       "      <th>1</th>\n",
       "      <td>CH</td>\n",
       "      <td>25.0</td>\n",
       "      <td>6</td>\n",
       "      <td>6.0</td>\n",
       "      <td>5.0</td>\n",
       "      <td>7.0</td>\n",
       "      <td>5.0</td>\n",
       "      <td>9.0</td>\n",
       "      <td>3.0</td>\n",
       "      <td>2.0</td>\n",
       "      <td>2.0</td>\n",
       "      <td>59.0</td>\n",
       "      <td>1.0</td>\n",
       "    </tr>\n",
       "    <tr>\n",
       "      <th>2</th>\n",
       "      <td>CH</td>\n",
       "      <td>26.0</td>\n",
       "      <td>6</td>\n",
       "      <td>1.0</td>\n",
       "      <td>8.0</td>\n",
       "      <td>8.0</td>\n",
       "      <td>8.0</td>\n",
       "      <td>7.0</td>\n",
       "      <td>6.0</td>\n",
       "      <td>3.0</td>\n",
       "      <td>1.0</td>\n",
       "      <td>24.0</td>\n",
       "      <td>2.0</td>\n",
       "    </tr>\n",
       "    <tr>\n",
       "      <th>3</th>\n",
       "      <td>CH</td>\n",
       "      <td>28.0</td>\n",
       "      <td>6</td>\n",
       "      <td>4.0</td>\n",
       "      <td>6.0</td>\n",
       "      <td>6.0</td>\n",
       "      <td>7.0</td>\n",
       "      <td>10.0</td>\n",
       "      <td>6.0</td>\n",
       "      <td>2.0</td>\n",
       "      <td>2.0</td>\n",
       "      <td>64.0</td>\n",
       "      <td>1.0</td>\n",
       "    </tr>\n",
       "    <tr>\n",
       "      <th>4</th>\n",
       "      <td>CH</td>\n",
       "      <td>29.0</td>\n",
       "      <td>6</td>\n",
       "      <td>5.0</td>\n",
       "      <td>6.0</td>\n",
       "      <td>7.0</td>\n",
       "      <td>5.0</td>\n",
       "      <td>8.0</td>\n",
       "      <td>7.0</td>\n",
       "      <td>2.0</td>\n",
       "      <td>2.0</td>\n",
       "      <td>55.0</td>\n",
       "      <td>1.0</td>\n",
       "    </tr>\n",
       "  </tbody>\n",
       "</table>\n",
       "</div>"
      ],
      "text/plain": [
       "  cntry  idno  year  tvtot  ppltrst  pplfair  pplhlp  happy  sclmeet  sclact  \\\n",
       "0    CH   5.0     6    3.0      3.0     10.0     5.0    8.0      5.0     4.0   \n",
       "1    CH  25.0     6    6.0      5.0      7.0     5.0    9.0      3.0     2.0   \n",
       "2    CH  26.0     6    1.0      8.0      8.0     8.0    7.0      6.0     3.0   \n",
       "3    CH  28.0     6    4.0      6.0      6.0     7.0   10.0      6.0     2.0   \n",
       "4    CH  29.0     6    5.0      6.0      7.0     5.0    8.0      7.0     2.0   \n",
       "\n",
       "   gndr  agea  partner  \n",
       "0   2.0  60.0      1.0  \n",
       "1   2.0  59.0      1.0  \n",
       "2   1.0  24.0      2.0  \n",
       "3   2.0  64.0      1.0  \n",
       "4   2.0  55.0      1.0  "
      ]
     },
     "execution_count": 3,
     "metadata": {},
     "output_type": "execute_result"
    }
   ],
   "source": [
    "ess.head()"
   ]
  },
  {
   "cell_type": "code",
   "execution_count": 4,
   "metadata": {},
   "outputs": [
    {
     "data": {
      "text/plain": [
       "(8594, 13)"
      ]
     },
     "execution_count": 4,
     "metadata": {},
     "output_type": "execute_result"
    }
   ],
   "source": [
    "ess.shape"
   ]
  },
  {
   "cell_type": "code",
   "execution_count": 5,
   "metadata": {},
   "outputs": [
    {
     "data": {
      "text/plain": [
       "(8594, 13)"
      ]
     },
     "execution_count": 5,
     "metadata": {},
     "output_type": "execute_result"
    }
   ],
   "source": [
    "ess.dropna()\n",
    "ess.shape"
   ]
  },
  {
   "cell_type": "code",
   "execution_count": 6,
   "metadata": {},
   "outputs": [
    {
     "data": {
      "text/html": [
       "<div>\n",
       "<style scoped>\n",
       "    .dataframe tbody tr th:only-of-type {\n",
       "        vertical-align: middle;\n",
       "    }\n",
       "\n",
       "    .dataframe tbody tr th {\n",
       "        vertical-align: top;\n",
       "    }\n",
       "\n",
       "    .dataframe thead th {\n",
       "        text-align: right;\n",
       "    }\n",
       "</style>\n",
       "<table border=\"1\" class=\"dataframe\">\n",
       "  <thead>\n",
       "    <tr style=\"text-align: right;\">\n",
       "      <th></th>\n",
       "      <th>idno</th>\n",
       "      <th>year</th>\n",
       "      <th>tvtot</th>\n",
       "      <th>ppltrst</th>\n",
       "      <th>pplfair</th>\n",
       "      <th>pplhlp</th>\n",
       "      <th>happy</th>\n",
       "      <th>sclmeet</th>\n",
       "      <th>sclact</th>\n",
       "      <th>gndr</th>\n",
       "      <th>agea</th>\n",
       "      <th>partner</th>\n",
       "    </tr>\n",
       "  </thead>\n",
       "  <tbody>\n",
       "    <tr>\n",
       "      <th>count</th>\n",
       "      <td>8.594000e+03</td>\n",
       "      <td>8594.000000</td>\n",
       "      <td>8586.000000</td>\n",
       "      <td>8580.000000</td>\n",
       "      <td>8555.000000</td>\n",
       "      <td>8569.000000</td>\n",
       "      <td>8563.000000</td>\n",
       "      <td>8579.000000</td>\n",
       "      <td>8500.000000</td>\n",
       "      <td>8584.000000</td>\n",
       "      <td>8355.000000</td>\n",
       "      <td>8577.000000</td>\n",
       "    </tr>\n",
       "    <tr>\n",
       "      <th>mean</th>\n",
       "      <td>3.954938e+04</td>\n",
       "      <td>6.500000</td>\n",
       "      <td>3.861985</td>\n",
       "      <td>5.559907</td>\n",
       "      <td>6.005143</td>\n",
       "      <td>5.319874</td>\n",
       "      <td>7.694616</td>\n",
       "      <td>5.192563</td>\n",
       "      <td>2.748941</td>\n",
       "      <td>1.497204</td>\n",
       "      <td>47.470736</td>\n",
       "      <td>1.384867</td>\n",
       "    </tr>\n",
       "    <tr>\n",
       "      <th>std</th>\n",
       "      <td>6.267259e+05</td>\n",
       "      <td>0.500029</td>\n",
       "      <td>2.019689</td>\n",
       "      <td>2.233700</td>\n",
       "      <td>2.129866</td>\n",
       "      <td>2.173449</td>\n",
       "      <td>1.735904</td>\n",
       "      <td>1.457643</td>\n",
       "      <td>0.905477</td>\n",
       "      <td>0.500021</td>\n",
       "      <td>18.397369</td>\n",
       "      <td>0.486592</td>\n",
       "    </tr>\n",
       "    <tr>\n",
       "      <th>min</th>\n",
       "      <td>1.000000e+00</td>\n",
       "      <td>6.000000</td>\n",
       "      <td>0.000000</td>\n",
       "      <td>0.000000</td>\n",
       "      <td>0.000000</td>\n",
       "      <td>0.000000</td>\n",
       "      <td>0.000000</td>\n",
       "      <td>1.000000</td>\n",
       "      <td>1.000000</td>\n",
       "      <td>1.000000</td>\n",
       "      <td>15.000000</td>\n",
       "      <td>1.000000</td>\n",
       "    </tr>\n",
       "    <tr>\n",
       "      <th>25%</th>\n",
       "      <td>1.052000e+03</td>\n",
       "      <td>6.000000</td>\n",
       "      <td>2.000000</td>\n",
       "      <td>4.000000</td>\n",
       "      <td>5.000000</td>\n",
       "      <td>4.000000</td>\n",
       "      <td>7.000000</td>\n",
       "      <td>4.000000</td>\n",
       "      <td>2.000000</td>\n",
       "      <td>1.000000</td>\n",
       "      <td>33.000000</td>\n",
       "      <td>1.000000</td>\n",
       "    </tr>\n",
       "    <tr>\n",
       "      <th>50%</th>\n",
       "      <td>1.714000e+03</td>\n",
       "      <td>6.500000</td>\n",
       "      <td>4.000000</td>\n",
       "      <td>6.000000</td>\n",
       "      <td>6.000000</td>\n",
       "      <td>5.000000</td>\n",
       "      <td>8.000000</td>\n",
       "      <td>6.000000</td>\n",
       "      <td>3.000000</td>\n",
       "      <td>1.000000</td>\n",
       "      <td>47.000000</td>\n",
       "      <td>1.000000</td>\n",
       "    </tr>\n",
       "    <tr>\n",
       "      <th>75%</th>\n",
       "      <td>2.745000e+03</td>\n",
       "      <td>7.000000</td>\n",
       "      <td>5.000000</td>\n",
       "      <td>7.000000</td>\n",
       "      <td>8.000000</td>\n",
       "      <td>7.000000</td>\n",
       "      <td>9.000000</td>\n",
       "      <td>6.000000</td>\n",
       "      <td>3.000000</td>\n",
       "      <td>2.000000</td>\n",
       "      <td>62.000000</td>\n",
       "      <td>2.000000</td>\n",
       "    </tr>\n",
       "    <tr>\n",
       "      <th>max</th>\n",
       "      <td>1.100143e+07</td>\n",
       "      <td>7.000000</td>\n",
       "      <td>7.000000</td>\n",
       "      <td>10.000000</td>\n",
       "      <td>10.000000</td>\n",
       "      <td>10.000000</td>\n",
       "      <td>10.000000</td>\n",
       "      <td>7.000000</td>\n",
       "      <td>5.000000</td>\n",
       "      <td>2.000000</td>\n",
       "      <td>114.000000</td>\n",
       "      <td>2.000000</td>\n",
       "    </tr>\n",
       "  </tbody>\n",
       "</table>\n",
       "</div>"
      ],
      "text/plain": [
       "               idno         year        tvtot      ppltrst      pplfair  \\\n",
       "count  8.594000e+03  8594.000000  8586.000000  8580.000000  8555.000000   \n",
       "mean   3.954938e+04     6.500000     3.861985     5.559907     6.005143   \n",
       "std    6.267259e+05     0.500029     2.019689     2.233700     2.129866   \n",
       "min    1.000000e+00     6.000000     0.000000     0.000000     0.000000   \n",
       "25%    1.052000e+03     6.000000     2.000000     4.000000     5.000000   \n",
       "50%    1.714000e+03     6.500000     4.000000     6.000000     6.000000   \n",
       "75%    2.745000e+03     7.000000     5.000000     7.000000     8.000000   \n",
       "max    1.100143e+07     7.000000     7.000000    10.000000    10.000000   \n",
       "\n",
       "            pplhlp        happy      sclmeet       sclact         gndr  \\\n",
       "count  8569.000000  8563.000000  8579.000000  8500.000000  8584.000000   \n",
       "mean      5.319874     7.694616     5.192563     2.748941     1.497204   \n",
       "std       2.173449     1.735904     1.457643     0.905477     0.500021   \n",
       "min       0.000000     0.000000     1.000000     1.000000     1.000000   \n",
       "25%       4.000000     7.000000     4.000000     2.000000     1.000000   \n",
       "50%       5.000000     8.000000     6.000000     3.000000     1.000000   \n",
       "75%       7.000000     9.000000     6.000000     3.000000     2.000000   \n",
       "max      10.000000    10.000000     7.000000     5.000000     2.000000   \n",
       "\n",
       "              agea      partner  \n",
       "count  8355.000000  8577.000000  \n",
       "mean     47.470736     1.384867  \n",
       "std      18.397369     0.486592  \n",
       "min      15.000000     1.000000  \n",
       "25%      33.000000     1.000000  \n",
       "50%      47.000000     1.000000  \n",
       "75%      62.000000     2.000000  \n",
       "max     114.000000     2.000000  "
      ]
     },
     "execution_count": 6,
     "metadata": {},
     "output_type": "execute_result"
    }
   ],
   "source": [
    "ess.describe()"
   ]
  },
  {
   "cell_type": "code",
   "execution_count": 7,
   "metadata": {},
   "outputs": [
    {
     "data": {
      "image/png": "[encoded data removed]",
      "text/plain": [
       "<Figure size 360x360 with 1 Axes>"
      ]
     },
     "metadata": {},
     "output_type": "display_data"
    },
    {
     "data": {
      "image/png": "[encoded data removed]",
      "text/plain": [
       "<Figure size 360x360 with 1 Axes>"
      ]
     },
     "metadata": {},
     "output_type": "display_data"
    },
    {
     "data": {
      "image/png": "[encoded data removed]",
      "text/plain": [
       "<Figure size 360x360 with 1 Axes>"
      ]
     },
     "metadata": {},
     "output_type": "display_data"
    },
    {
     "data": {
      "image/png": "[encoded data removed]",
      "text/plain": [
       "<Figure size 360x360 with 1 Axes>"
      ]
     },
     "metadata": {},
     "output_type": "display_data"
    },
    {
     "data": {
      "image/png": "[encoded data removed]",
      "text/plain": [
       "<Figure size 360x360 with 1 Axes>"
      ]
     },
     "metadata": {},
     "output_type": "display_data"
    },
    {
     "data": {
      "image/png": "[encoded data removed]",
      "text/plain": [
       "<Figure size 360x360 with 1 Axes>"
      ]
     },
     "metadata": {},
     "output_type": "display_data"
    },
    {
     "data": {
      "image/png": "[encoded data removed]",
      "text/plain": [
       "<Figure size 360x360 with 1 Axes>"
      ]
     },
     "metadata": {},
     "output_type": "display_data"
    },
    {
     "data": {
      "image/png": "[encoded data removed]",
      "text/plain": [
       "<Figure size 360x360 with 1 Axes>"
      ]
     },
     "metadata": {},
     "output_type": "display_data"
    },
    {
     "data": {
      "image/png": "[encoded data removed]",
      "text/plain": [
       "<Figure size 360x360 with 1 Axes>"
      ]
     },
     "metadata": {},
     "output_type": "display_data"
    },
    {
     "data": {
      "image/png": "[encoded data removed]",
      "text/plain": [
       "<Figure size 360x360 with 1 Axes>"
      ]
     },
     "metadata": {},
     "output_type": "display_data"
    },
    {
     "data": {
      "image/png": "[encoded data removed]",
      "text/plain": [
       "<Figure size 360x360 with 1 Axes>"
      ]
     },
     "metadata": {},
     "output_type": "display_data"
    },
    {
     "data": {
      "image/png": "[encoded data removed]",
      "text/plain": [
       "<Figure size 360x360 with 1 Axes>"
      ]
     },
     "metadata": {},
     "output_type": "display_data"
    }
   ],
   "source": [
    "from pandas.api.types import is_numeric_dtype\n",
    "\n",
    "# Visualize distributions of each column\n",
    "for column in ess:\n",
    "    \n",
    "    if is_numeric_dtype(ess[column]):\n",
    "    \n",
    "        plt.figure(figsize=(5, 5))\n",
    "\n",
    "        plt.hist(ess[column].dropna(how = 'any'), bins=20)\n",
    "        plt.axvline(ess[column].mean(), color='c', linestyle='solid', linewidth=2, label=\"Mean\")\n",
    "        plt.legend(loc='upper left') \n",
    "        plt.title(column + ' Histogram')\n",
    "\n",
    "        plt.show()\n"
   ]
  },
  {
   "cell_type": "code",
   "execution_count": 8,
   "metadata": {},
   "outputs": [
    {
     "data": {
      "text/html": [
       "<div>\n",
       "<style scoped>\n",
       "    .dataframe tbody tr th:only-of-type {\n",
       "        vertical-align: middle;\n",
       "    }\n",
       "\n",
       "    .dataframe tbody tr th {\n",
       "        vertical-align: top;\n",
       "    }\n",
       "\n",
       "    .dataframe thead tr th {\n",
       "        text-align: left;\n",
       "    }\n",
       "\n",
       "    .dataframe thead tr:last-of-type th {\n",
       "        text-align: right;\n",
       "    }\n",
       "</style>\n",
       "<table border=\"1\" class=\"dataframe\">\n",
       "  <thead>\n",
       "    <tr>\n",
       "      <th></th>\n",
       "      <th colspan=\"8\" halign=\"left\">agea</th>\n",
       "      <th colspan=\"2\" halign=\"left\">gndr</th>\n",
       "      <th>...</th>\n",
       "      <th colspan=\"2\" halign=\"left\">tvtot</th>\n",
       "      <th colspan=\"8\" halign=\"left\">year</th>\n",
       "    </tr>\n",
       "    <tr>\n",
       "      <th></th>\n",
       "      <th>count</th>\n",
       "      <th>mean</th>\n",
       "      <th>std</th>\n",
       "      <th>min</th>\n",
       "      <th>25%</th>\n",
       "      <th>50%</th>\n",
       "      <th>75%</th>\n",
       "      <th>max</th>\n",
       "      <th>count</th>\n",
       "      <th>mean</th>\n",
       "      <th>...</th>\n",
       "      <th>75%</th>\n",
       "      <th>max</th>\n",
       "      <th>count</th>\n",
       "      <th>mean</th>\n",
       "      <th>std</th>\n",
       "      <th>min</th>\n",
       "      <th>25%</th>\n",
       "      <th>50%</th>\n",
       "      <th>75%</th>\n",
       "      <th>max</th>\n",
       "    </tr>\n",
       "    <tr>\n",
       "      <th>cntry</th>\n",
       "      <th></th>\n",
       "      <th></th>\n",
       "      <th></th>\n",
       "      <th></th>\n",
       "      <th></th>\n",
       "      <th></th>\n",
       "      <th></th>\n",
       "      <th></th>\n",
       "      <th></th>\n",
       "      <th></th>\n",
       "      <th></th>\n",
       "      <th></th>\n",
       "      <th></th>\n",
       "      <th></th>\n",
       "      <th></th>\n",
       "      <th></th>\n",
       "      <th></th>\n",
       "      <th></th>\n",
       "      <th></th>\n",
       "      <th></th>\n",
       "      <th></th>\n",
       "    </tr>\n",
       "  </thead>\n",
       "  <tbody>\n",
       "    <tr>\n",
       "      <th>CH</th>\n",
       "      <td>1503.0</td>\n",
       "      <td>46.743180</td>\n",
       "      <td>18.632669</td>\n",
       "      <td>16.0</td>\n",
       "      <td>32.0</td>\n",
       "      <td>46.0</td>\n",
       "      <td>61.0</td>\n",
       "      <td>94.0</td>\n",
       "      <td>1546.0</td>\n",
       "      <td>1.513583</td>\n",
       "      <td>...</td>\n",
       "      <td>4.0</td>\n",
       "      <td>7.0</td>\n",
       "      <td>1546.0</td>\n",
       "      <td>6.5</td>\n",
       "      <td>0.500162</td>\n",
       "      <td>6.0</td>\n",
       "      <td>6.0</td>\n",
       "      <td>6.5</td>\n",
       "      <td>7.0</td>\n",
       "      <td>7.0</td>\n",
       "    </tr>\n",
       "    <tr>\n",
       "      <th>CZ</th>\n",
       "      <td>1280.0</td>\n",
       "      <td>46.301563</td>\n",
       "      <td>16.888995</td>\n",
       "      <td>15.0</td>\n",
       "      <td>34.0</td>\n",
       "      <td>46.0</td>\n",
       "      <td>59.0</td>\n",
       "      <td>91.0</td>\n",
       "      <td>1306.0</td>\n",
       "      <td>1.525268</td>\n",
       "      <td>...</td>\n",
       "      <td>7.0</td>\n",
       "      <td>7.0</td>\n",
       "      <td>1316.0</td>\n",
       "      <td>6.5</td>\n",
       "      <td>0.500190</td>\n",
       "      <td>6.0</td>\n",
       "      <td>6.0</td>\n",
       "      <td>6.5</td>\n",
       "      <td>7.0</td>\n",
       "      <td>7.0</td>\n",
       "    </tr>\n",
       "    <tr>\n",
       "      <th>DE</th>\n",
       "      <td>28.0</td>\n",
       "      <td>55.892857</td>\n",
       "      <td>16.067771</td>\n",
       "      <td>26.0</td>\n",
       "      <td>49.0</td>\n",
       "      <td>55.5</td>\n",
       "      <td>65.5</td>\n",
       "      <td>89.0</td>\n",
       "      <td>28.0</td>\n",
       "      <td>1.571429</td>\n",
       "      <td>...</td>\n",
       "      <td>6.0</td>\n",
       "      <td>7.0</td>\n",
       "      <td>28.0</td>\n",
       "      <td>6.5</td>\n",
       "      <td>0.509175</td>\n",
       "      <td>6.0</td>\n",
       "      <td>6.0</td>\n",
       "      <td>6.5</td>\n",
       "      <td>7.0</td>\n",
       "      <td>7.0</td>\n",
       "    </tr>\n",
       "    <tr>\n",
       "      <th>ES</th>\n",
       "      <td>2360.0</td>\n",
       "      <td>47.874576</td>\n",
       "      <td>18.200719</td>\n",
       "      <td>16.0</td>\n",
       "      <td>34.0</td>\n",
       "      <td>47.0</td>\n",
       "      <td>61.0</td>\n",
       "      <td>103.0</td>\n",
       "      <td>2426.0</td>\n",
       "      <td>1.504534</td>\n",
       "      <td>...</td>\n",
       "      <td>6.0</td>\n",
       "      <td>7.0</td>\n",
       "      <td>2426.0</td>\n",
       "      <td>6.5</td>\n",
       "      <td>0.500103</td>\n",
       "      <td>6.0</td>\n",
       "      <td>6.0</td>\n",
       "      <td>6.5</td>\n",
       "      <td>7.0</td>\n",
       "      <td>7.0</td>\n",
       "    </tr>\n",
       "    <tr>\n",
       "      <th>NO</th>\n",
       "      <td>1436.0</td>\n",
       "      <td>46.536212</td>\n",
       "      <td>18.203938</td>\n",
       "      <td>15.0</td>\n",
       "      <td>32.0</td>\n",
       "      <td>46.0</td>\n",
       "      <td>60.0</td>\n",
       "      <td>94.0</td>\n",
       "      <td>1462.0</td>\n",
       "      <td>1.466484</td>\n",
       "      <td>...</td>\n",
       "      <td>5.0</td>\n",
       "      <td>7.0</td>\n",
       "      <td>1462.0</td>\n",
       "      <td>6.5</td>\n",
       "      <td>0.500171</td>\n",
       "      <td>6.0</td>\n",
       "      <td>6.0</td>\n",
       "      <td>6.5</td>\n",
       "      <td>7.0</td>\n",
       "      <td>7.0</td>\n",
       "    </tr>\n",
       "    <tr>\n",
       "      <th>SE</th>\n",
       "      <td>1748.0</td>\n",
       "      <td>49.040046</td>\n",
       "      <td>19.536782</td>\n",
       "      <td>15.0</td>\n",
       "      <td>32.0</td>\n",
       "      <td>50.0</td>\n",
       "      <td>65.0</td>\n",
       "      <td>114.0</td>\n",
       "      <td>1816.0</td>\n",
       "      <td>1.476872</td>\n",
       "      <td>...</td>\n",
       "      <td>5.0</td>\n",
       "      <td>7.0</td>\n",
       "      <td>1816.0</td>\n",
       "      <td>6.5</td>\n",
       "      <td>0.500138</td>\n",
       "      <td>6.0</td>\n",
       "      <td>6.0</td>\n",
       "      <td>6.5</td>\n",
       "      <td>7.0</td>\n",
       "      <td>7.0</td>\n",
       "    </tr>\n",
       "  </tbody>\n",
       "</table>\n",
       "<p>6 rows × 96 columns</p>\n",
       "</div>"
      ],
      "text/plain": [
       "         agea                                                         gndr  \\\n",
       "        count       mean        std   min   25%   50%   75%    max   count   \n",
       "cntry                                                                        \n",
       "CH     1503.0  46.743180  18.632669  16.0  32.0  46.0  61.0   94.0  1546.0   \n",
       "CZ     1280.0  46.301563  16.888995  15.0  34.0  46.0  59.0   91.0  1306.0   \n",
       "DE       28.0  55.892857  16.067771  26.0  49.0  55.5  65.5   89.0    28.0   \n",
       "ES     2360.0  47.874576  18.200719  16.0  34.0  47.0  61.0  103.0  2426.0   \n",
       "NO     1436.0  46.536212  18.203938  15.0  32.0  46.0  60.0   94.0  1462.0   \n",
       "SE     1748.0  49.040046  19.536782  15.0  32.0  50.0  65.0  114.0  1816.0   \n",
       "\n",
       "                ...  tvtot         year                                     \\\n",
       "           mean ...    75%  max   count mean       std  min  25%  50%  75%   \n",
       "cntry           ...                                                          \n",
       "CH     1.513583 ...    4.0  7.0  1546.0  6.5  0.500162  6.0  6.0  6.5  7.0   \n",
       "CZ     1.525268 ...    7.0  7.0  1316.0  6.5  0.500190  6.0  6.0  6.5  7.0   \n",
       "DE     1.571429 ...    6.0  7.0    28.0  6.5  0.509175  6.0  6.0  6.5  7.0   \n",
       "ES     1.504534 ...    6.0  7.0  2426.0  6.5  0.500103  6.0  6.0  6.5  7.0   \n",
       "NO     1.466484 ...    5.0  7.0  1462.0  6.5  0.500171  6.0  6.0  6.5  7.0   \n",
       "SE     1.476872 ...    5.0  7.0  1816.0  6.5  0.500138  6.0  6.0  6.5  7.0   \n",
       "\n",
       "            \n",
       "       max  \n",
       "cntry       \n",
       "CH     7.0  \n",
       "CZ     7.0  \n",
       "DE     7.0  \n",
       "ES     7.0  \n",
       "NO     7.0  \n",
       "SE     7.0  \n",
       "\n",
       "[6 rows x 96 columns]"
      ]
     },
     "execution_count": 8,
     "metadata": {},
     "output_type": "execute_result"
    }
   ],
   "source": [
    "ess.groupby('cntry').describe()"
   ]
  },
  {
   "cell_type": "code",
   "execution_count": 9,
   "metadata": {},
   "outputs": [],
   "source": [
    "ess['age'] = 0\n",
    "ess.loc[ess['agea'] > 10, 'age'] = 10\n",
    "ess.loc[ess['agea'] > 20, 'age'] = 20\n",
    "ess.loc[ess['agea'] > 30, 'age'] = 30\n",
    "ess.loc[ess['agea'] > 40, 'age'] = 40\n",
    "ess.loc[ess['agea'] > 50, 'age'] = 50\n",
    "ess.loc[ess['agea'] > 60, 'age'] = 60\n",
    "ess.loc[ess['agea'] > 70, 'age'] = 70\n",
    "ess.loc[ess['agea'] > 80, 'age'] = 80\n",
    "ess.loc[ess['agea'] > 90, 'age'] = 90\n",
    "ess.loc[ess['agea'] > 100, 'age'] = 100"
   ]
  },
  {
   "cell_type": "code",
   "execution_count": 10,
   "metadata": {},
   "outputs": [],
   "source": [
    "Switzerland = ess.loc[ess.cntry == 'CH']\n",
    "Czech = ess.loc[ess.cntry == 'CZ']\n",
    "Germany = ess.loc[ess.cntry == 'DE']\n",
    "Spain = ess.loc[ess.cntry == 'ES']\n",
    "Norway = ess.loc[ess.cntry == 'NO']\n",
    "Sweden = ess.loc[ess.cntry == 'SE']"
   ]
  },
  {
   "cell_type": "markdown",
   "metadata": {},
   "source": [
    "## 1. Did people become less trusting from 2012 to 2014? Compute results for each country in the sample."
   ]
  },
  {
   "cell_type": "code",
   "execution_count": 11,
   "metadata": {},
   "outputs": [],
   "source": [
    "# break up country data by year\n",
    "Switzerland2012 = Switzerland.loc[Switzerland.year == 6]\n",
    "Switzerland2014 = Switzerland.loc[Switzerland.year == 7]\n",
    "\n",
    "Czech2012 = Czech.loc[Czech.year == 6]\n",
    "Czech2014 = Czech.loc[Czech.year == 7]\n",
    "\n",
    "Germany2012 = Germany.loc[Germany.year == 6]\n",
    "Germany2014 = Germany.loc[Germany.year == 7]\n",
    "\n",
    "Spain2012 = Spain.loc[Spain.year == 6]\n",
    "Spain2014 = Spain.loc[Spain.year == 7]\n",
    "\n",
    "Norway2012 = Norway.loc[Norway.year == 6]\n",
    "Norway2014 = Norway.loc[Norway.year == 7]\n",
    "\n",
    "Sweden2012 = Sweden.loc[Sweden.year == 6]\n",
    "Sweden2014 = Sweden.loc[Sweden.year == 7]"
   ]
  },
  {
   "cell_type": "code",
   "execution_count": 12,
   "metadata": {},
   "outputs": [
    {
     "name": "stdout",
     "output_type": "stream",
     "text": [
      "Switzerland\n",
      "Ttest_relResult(statistic=-0.6586851756725737, pvalue=0.5102943511301135)\n",
      "\n",
      "Czech Republic\n",
      "Ttest_relResult(statistic=nan, pvalue=nan)\n",
      "\n",
      "Germany\n",
      "Ttest_relResult(statistic=-0.18399501804849683, pvalue=0.8568563797095805)\n",
      "\n",
      "Spain\n",
      "Ttest_relResult(statistic=nan, pvalue=nan)\n",
      "\n",
      "Norway\n",
      "Ttest_relResult(statistic=nan, pvalue=nan)\n",
      "\n",
      "Sweden\n",
      "Ttest_relResult(statistic=nan, pvalue=nan)\n"
     ]
    }
   ],
   "source": [
    "print('Switzerland')\n",
    "print(stats.ttest_rel(Switzerland2012['ppltrst'],Switzerland2014['ppltrst']))\n",
    "\n",
    "print('\\nCzech Republic')\n",
    "print(stats.ttest_rel(Czech2012['ppltrst'],Czech2014['ppltrst']))\n",
    "\n",
    "print('\\nGermany')\n",
    "print(stats.ttest_rel(Germany2012['ppltrst'],Germany2014['ppltrst']))\n",
    "\n",
    "print('\\nSpain')\n",
    "print(stats.ttest_rel(Spain2012['ppltrst'],Spain2014['ppltrst']))\n",
    "\n",
    "print('\\nNorway')\n",
    "print(stats.ttest_rel(Norway2012['ppltrst'],Norway2014['ppltrst']))\n",
    "\n",
    "print('\\nSweden')\n",
    "print(stats.ttest_rel(Sweden2012['ppltrst'],Sweden2014['ppltrst']))"
   ]
  },
  {
   "cell_type": "code",
   "execution_count": 13,
   "metadata": {},
   "outputs": [
    {
     "name": "stdout",
     "output_type": "stream",
     "text": [
      "Switzerland\n",
      "(773, 14) (773, 14)\n",
      "\n",
      "Czech Republic\n",
      "(658, 14) (658, 14)\n",
      "\n",
      "Germany\n",
      "(14, 14) (14, 14)\n",
      "\n",
      "Spain\n",
      "(1213, 14) (1213, 14)\n",
      "\n",
      "Norway\n",
      "(731, 14) (731, 14)\n",
      "\n",
      "Sweden\n",
      "(908, 14) (908, 14)\n"
     ]
    }
   ],
   "source": [
    "# responses per year by country\n",
    "print('Switzerland')\n",
    "print(Switzerland2012.shape, Switzerland2014.shape)\n",
    "\n",
    "print('\\nCzech Republic')\n",
    "print(Czech2012.shape, Czech2014.shape)\n",
    "\n",
    "print('\\nGermany')\n",
    "print(Germany2012.shape, Germany2014.shape)\n",
    "\n",
    "print('\\nSpain')\n",
    "print(Spain2012.shape, Spain2014.shape)\n",
    "\n",
    "print('\\nNorway')\n",
    "print(Norway2012.shape, Norway2014.shape)\n",
    "\n",
    "print('\\nSweden')\n",
    "print(Sweden2012.shape, Sweden2014.shape)"
   ]
  },
  {
   "cell_type": "code",
   "execution_count": 14,
   "metadata": {},
   "outputs": [
    {
     "name": "stdout",
     "output_type": "stream",
     "text": [
      "Switzerland 2012\n",
      "5.677878395860285\n",
      "\n",
      "Switzerland 2014\n",
      "5.751617076326003\n"
     ]
    }
   ],
   "source": [
    "print('Switzerland 2012')\n",
    "print(Switzerland2012['ppltrst'].mean())\n",
    "print('\\nSwitzerland 2014')\n",
    "print(Switzerland2014['ppltrst'].mean())"
   ]
  },
  {
   "cell_type": "code",
   "execution_count": 15,
   "metadata": {},
   "outputs": [
    {
     "name": "stdout",
     "output_type": "stream",
     "text": [
      "Czech Republic 2012\n",
      "4.362519201228879\n",
      "\n",
      "Czech Republic 2014\n",
      "4.424657534246576\n"
     ]
    }
   ],
   "source": [
    "print('Czech Republic 2012')\n",
    "print(Czech2012['ppltrst'].mean())\n",
    "print('\\nCzech Republic 2014')\n",
    "print(Czech2014['ppltrst'].mean())"
   ]
  },
  {
   "cell_type": "code",
   "execution_count": 16,
   "metadata": {},
   "outputs": [
    {
     "name": "stdout",
     "output_type": "stream",
     "text": [
      "Germany 2012\n",
      "5.214285714285714\n",
      "\n",
      "Germany 2014\n",
      "5.357142857142857\n"
     ]
    }
   ],
   "source": [
    "print('Germany 2012')\n",
    "print(Germany2012['ppltrst'].mean())\n",
    "print('\\nGermany 2014')\n",
    "print(Germany2014['ppltrst'].mean())"
   ]
  },
  {
   "cell_type": "code",
   "execution_count": 17,
   "metadata": {},
   "outputs": [
    {
     "name": "stdout",
     "output_type": "stream",
     "text": [
      "Spain 2012\n",
      "5.114591920857379\n",
      "\n",
      "Spain 2014\n",
      "4.895127993393889\n"
     ]
    }
   ],
   "source": [
    "print('Spain 2012')\n",
    "print(Spain2012['ppltrst'].mean())\n",
    "print('\\nSpain 2014')\n",
    "print(Spain2014['ppltrst'].mean())"
   ]
  },
  {
   "cell_type": "code",
   "execution_count": 18,
   "metadata": {},
   "outputs": [
    {
     "name": "stdout",
     "output_type": "stream",
     "text": [
      "Norway 2012\n",
      "6.64931506849315\n",
      "\n",
      "Norway 2014\n",
      "6.598630136986301\n"
     ]
    }
   ],
   "source": [
    "print('Norway 2012')\n",
    "print(Norway2012['ppltrst'].mean())\n",
    "print('\\nNorway 2014')\n",
    "print(Norway2014['ppltrst'].mean())"
   ]
  },
  {
   "cell_type": "code",
   "execution_count": 19,
   "metadata": {},
   "outputs": [
    {
     "name": "stdout",
     "output_type": "stream",
     "text": [
      "Sweden 2012\n",
      "6.058498896247241\n",
      "\n",
      "Sweden 2014\n",
      "6.257709251101321\n"
     ]
    }
   ],
   "source": [
    "print('Sweden 2012')\n",
    "print(Sweden2012['ppltrst'].mean())\n",
    "print('\\nSweden 2014')\n",
    "print(Sweden2014['ppltrst'].mean())"
   ]
  },
  {
   "cell_type": "markdown",
   "metadata": {},
   "source": [
    "I broke down the data by country and year, initially attempting to run t-tests comparing the two years for each country.  This proved challenging as all but Switzerland and Germany produced 'nan' results.  From there, I computed the mean of the trust category of each year by country.  This shows that each country showed an increase in average trust rating except Spain and Norway."
   ]
  },
  {
   "cell_type": "markdown",
   "metadata": {},
   "source": [
    "## 2. Did people become happier from 2012 to 2014? Compute results for each country in the sample."
   ]
  },
  {
   "cell_type": "code",
   "execution_count": 20,
   "metadata": {},
   "outputs": [
    {
     "name": "stdout",
     "output_type": "stream",
     "text": [
      "Switzerland\n",
      "Ttest_relResult(statistic=nan, pvalue=nan)\n",
      "\n",
      "Czech Republic\n",
      "Ttest_relResult(statistic=nan, pvalue=nan)\n",
      "\n",
      "Germany\n",
      "Ttest_relResult(statistic=-0.8062257748298549, pvalue=0.4346138707734991)\n",
      "\n",
      "Spain\n",
      "Ttest_relResult(statistic=nan, pvalue=nan)\n",
      "\n",
      "Norway\n",
      "Ttest_relResult(statistic=nan, pvalue=nan)\n",
      "\n",
      "Sweden\n",
      "Ttest_relResult(statistic=nan, pvalue=nan)\n"
     ]
    }
   ],
   "source": [
    "print('Switzerland')\n",
    "print(stats.ttest_rel(Switzerland2012['happy'],Switzerland2014['happy']))\n",
    "\n",
    "print('\\nCzech Republic')\n",
    "print(stats.ttest_rel(Czech2012['happy'],Czech2014['happy']))\n",
    "\n",
    "print('\\nGermany')\n",
    "print(stats.ttest_rel(Germany2012['happy'],Germany2014['happy']))\n",
    "\n",
    "print('\\nSpain')\n",
    "print(stats.ttest_rel(Spain2012['happy'],Spain2014['happy']))\n",
    "\n",
    "print('\\nNorway')\n",
    "print(stats.ttest_rel(Norway2012['happy'],Norway2014['happy']))\n",
    "\n",
    "print('\\nSweden')\n",
    "print(stats.ttest_rel(Sweden2012['happy'],Sweden2014['happy']))"
   ]
  },
  {
   "cell_type": "code",
   "execution_count": 21,
   "metadata": {},
   "outputs": [
    {
     "data": {
      "text/plain": [
       "8.0     272\n",
       "9.0     183\n",
       "10.0    119\n",
       "7.0     115\n",
       "6.0      36\n",
       "5.0      31\n",
       "3.0       6\n",
       "4.0       4\n",
       "2.0       2\n",
       "1.0       1\n",
       "0.0       1\n",
       "Name: happy, dtype: int64"
      ]
     },
     "execution_count": 21,
     "metadata": {},
     "output_type": "execute_result"
    }
   ],
   "source": [
    "Switzerland2012['happy'].value_counts()"
   ]
  },
  {
   "cell_type": "code",
   "execution_count": 22,
   "metadata": {},
   "outputs": [
    {
     "data": {
      "text/plain": [
       "8.0     254\n",
       "9.0     210\n",
       "10.0    114\n",
       "7.0     109\n",
       "6.0      43\n",
       "5.0      29\n",
       "4.0       8\n",
       "3.0       4\n",
       "2.0       1\n",
       "0.0       1\n",
       "Name: happy, dtype: int64"
      ]
     },
     "execution_count": 22,
     "metadata": {},
     "output_type": "execute_result"
    }
   ],
   "source": [
    "Switzerland2014['happy'].value_counts()"
   ]
  },
  {
   "cell_type": "code",
   "execution_count": 23,
   "metadata": {},
   "outputs": [],
   "source": [
    "# creat new dataframe of change by respondent\n",
    "Swi2012Happy = pd.DataFrame()\n",
    "Swi2012Happy['idno'] = Switzerland2012['idno']\n",
    "Swi2012Happy['happy2012'] = Switzerland2012['happy']\n",
    "\n",
    "Swi2014Happy = pd.DataFrame()\n",
    "Swi2014Happy['idno'] = Switzerland2014['idno']\n",
    "Swi2014Happy['happy2014'] = Switzerland2014['happy']"
   ]
  },
  {
   "cell_type": "code",
   "execution_count": 24,
   "metadata": {},
   "outputs": [
    {
     "data": {
      "text/html": [
       "<div>\n",
       "<style scoped>\n",
       "    .dataframe tbody tr th:only-of-type {\n",
       "        vertical-align: middle;\n",
       "    }\n",
       "\n",
       "    .dataframe tbody tr th {\n",
       "        vertical-align: top;\n",
       "    }\n",
       "\n",
       "    .dataframe thead th {\n",
       "        text-align: right;\n",
       "    }\n",
       "</style>\n",
       "<table border=\"1\" class=\"dataframe\">\n",
       "  <thead>\n",
       "    <tr style=\"text-align: right;\">\n",
       "      <th></th>\n",
       "      <th>idno</th>\n",
       "      <th>happy2012</th>\n",
       "      <th>happy2014</th>\n",
       "    </tr>\n",
       "  </thead>\n",
       "  <tbody>\n",
       "    <tr>\n",
       "      <th>0</th>\n",
       "      <td>5.0</td>\n",
       "      <td>8.0</td>\n",
       "      <td>9.0</td>\n",
       "    </tr>\n",
       "    <tr>\n",
       "      <th>1</th>\n",
       "      <td>25.0</td>\n",
       "      <td>9.0</td>\n",
       "      <td>6.0</td>\n",
       "    </tr>\n",
       "    <tr>\n",
       "      <th>2</th>\n",
       "      <td>26.0</td>\n",
       "      <td>7.0</td>\n",
       "      <td>8.0</td>\n",
       "    </tr>\n",
       "    <tr>\n",
       "      <th>3</th>\n",
       "      <td>28.0</td>\n",
       "      <td>10.0</td>\n",
       "      <td>9.0</td>\n",
       "    </tr>\n",
       "    <tr>\n",
       "      <th>4</th>\n",
       "      <td>29.0</td>\n",
       "      <td>8.0</td>\n",
       "      <td>8.0</td>\n",
       "    </tr>\n",
       "  </tbody>\n",
       "</table>\n",
       "</div>"
      ],
      "text/plain": [
       "   idno  happy2012  happy2014\n",
       "0   5.0        8.0        9.0\n",
       "1  25.0        9.0        6.0\n",
       "2  26.0        7.0        8.0\n",
       "3  28.0       10.0        9.0\n",
       "4  29.0        8.0        8.0"
      ]
     },
     "execution_count": 24,
     "metadata": {},
     "output_type": "execute_result"
    }
   ],
   "source": [
    "SwitzerlandHappy = pd.merge(left=Swi2012Happy,right=Swi2014Happy, left_on='idno', right_on='idno')\n",
    "SwitzerlandHappy.head()"
   ]
  },
  {
   "cell_type": "code",
   "execution_count": 25,
   "metadata": {},
   "outputs": [],
   "source": [
    "SwitzerlandHappy['change'] = SwitzerlandHappy['happy2014'] - SwitzerlandHappy['happy2012']"
   ]
  },
  {
   "cell_type": "code",
   "execution_count": 26,
   "metadata": {},
   "outputs": [
    {
     "data": {
      "text/html": [
       "<div>\n",
       "<style scoped>\n",
       "    .dataframe tbody tr th:only-of-type {\n",
       "        vertical-align: middle;\n",
       "    }\n",
       "\n",
       "    .dataframe tbody tr th {\n",
       "        vertical-align: top;\n",
       "    }\n",
       "\n",
       "    .dataframe thead th {\n",
       "        text-align: right;\n",
       "    }\n",
       "</style>\n",
       "<table border=\"1\" class=\"dataframe\">\n",
       "  <thead>\n",
       "    <tr style=\"text-align: right;\">\n",
       "      <th></th>\n",
       "      <th>idno</th>\n",
       "      <th>happy2012</th>\n",
       "      <th>happy2014</th>\n",
       "      <th>change</th>\n",
       "    </tr>\n",
       "  </thead>\n",
       "  <tbody>\n",
       "    <tr>\n",
       "      <th>count</th>\n",
       "      <td>773.000000</td>\n",
       "      <td>770.000000</td>\n",
       "      <td>773.000000</td>\n",
       "      <td>770.000000</td>\n",
       "    </tr>\n",
       "    <tr>\n",
       "      <th>mean</th>\n",
       "      <td>1480.680466</td>\n",
       "      <td>8.088312</td>\n",
       "      <td>8.116429</td>\n",
       "      <td>0.023377</td>\n",
       "    </tr>\n",
       "    <tr>\n",
       "      <th>std</th>\n",
       "      <td>837.085069</td>\n",
       "      <td>1.437920</td>\n",
       "      <td>1.405725</td>\n",
       "      <td>2.030835</td>\n",
       "    </tr>\n",
       "    <tr>\n",
       "      <th>min</th>\n",
       "      <td>5.000000</td>\n",
       "      <td>0.000000</td>\n",
       "      <td>0.000000</td>\n",
       "      <td>-8.000000</td>\n",
       "    </tr>\n",
       "    <tr>\n",
       "      <th>25%</th>\n",
       "      <td>761.000000</td>\n",
       "      <td>7.000000</td>\n",
       "      <td>7.000000</td>\n",
       "      <td>-1.000000</td>\n",
       "    </tr>\n",
       "    <tr>\n",
       "      <th>50%</th>\n",
       "      <td>1432.000000</td>\n",
       "      <td>8.000000</td>\n",
       "      <td>8.000000</td>\n",
       "      <td>0.000000</td>\n",
       "    </tr>\n",
       "    <tr>\n",
       "      <th>75%</th>\n",
       "      <td>2243.000000</td>\n",
       "      <td>9.000000</td>\n",
       "      <td>9.000000</td>\n",
       "      <td>1.000000</td>\n",
       "    </tr>\n",
       "    <tr>\n",
       "      <th>max</th>\n",
       "      <td>2905.000000</td>\n",
       "      <td>10.000000</td>\n",
       "      <td>10.000000</td>\n",
       "      <td>10.000000</td>\n",
       "    </tr>\n",
       "  </tbody>\n",
       "</table>\n",
       "</div>"
      ],
      "text/plain": [
       "              idno   happy2012   happy2014      change\n",
       "count   773.000000  770.000000  773.000000  770.000000\n",
       "mean   1480.680466    8.088312    8.116429    0.023377\n",
       "std     837.085069    1.437920    1.405725    2.030835\n",
       "min       5.000000    0.000000    0.000000   -8.000000\n",
       "25%     761.000000    7.000000    7.000000   -1.000000\n",
       "50%    1432.000000    8.000000    8.000000    0.000000\n",
       "75%    2243.000000    9.000000    9.000000    1.000000\n",
       "max    2905.000000   10.000000   10.000000   10.000000"
      ]
     },
     "execution_count": 26,
     "metadata": {},
     "output_type": "execute_result"
    }
   ],
   "source": [
    "SwitzerlandHappy.describe()"
   ]
  },
  {
   "cell_type": "code",
   "execution_count": 27,
   "metadata": {},
   "outputs": [
    {
     "data": {
      "text/plain": [
       "<matplotlib.collections.PathCollection at 0x1152bcd30>"
      ]
     },
     "execution_count": 27,
     "metadata": {},
     "output_type": "execute_result"
    },
    {
     "data": {
      "image/png": "[encoded data removed]",
      "text/plain": [
       "<Figure size 432x288 with 1 Axes>"
      ]
     },
     "metadata": {},
     "output_type": "display_data"
    }
   ],
   "source": [
    "plt.scatter(SwitzerlandHappy['happy2012'], SwitzerlandHappy['change'])"
   ]
  },
  {
   "cell_type": "code",
   "execution_count": 28,
   "metadata": {},
   "outputs": [
    {
     "name": "stdout",
     "output_type": "stream",
     "text": [
      "Switzerland\n"
     ]
    },
    {
     "data": {
      "text/plain": [
       "count    770.000000\n",
       "mean       0.023377\n",
       "std        2.030835\n",
       "min       -8.000000\n",
       "25%       -1.000000\n",
       "50%        0.000000\n",
       "75%        1.000000\n",
       "max       10.000000\n",
       "Name: change, dtype: float64"
      ]
     },
     "execution_count": 28,
     "metadata": {},
     "output_type": "execute_result"
    }
   ],
   "source": [
    "print('Switzerland')\n",
    "SwitzerlandHappy['change'].describe()"
   ]
  },
  {
   "cell_type": "code",
   "execution_count": 29,
   "metadata": {},
   "outputs": [
    {
     "name": "stdout",
     "output_type": "stream",
     "text": [
      "Czech Republic\n"
     ]
    },
    {
     "data": {
      "text/plain": [
       "count    640.000000\n",
       "mean       0.162500\n",
       "std        2.823194\n",
       "min       -9.000000\n",
       "25%       -2.000000\n",
       "50%        0.000000\n",
       "75%        2.000000\n",
       "max       10.000000\n",
       "Name: change, dtype: float64"
      ]
     },
     "execution_count": 29,
     "metadata": {},
     "output_type": "execute_result"
    }
   ],
   "source": [
    "# creat new dataframe of change by respondent\n",
    "Czech2012Happy = pd.DataFrame()\n",
    "Czech2012Happy['idno'] = Czech2012['idno']\n",
    "Czech2012Happy['happy2012'] = Czech2012['happy']\n",
    "\n",
    "Czech2014Happy = pd.DataFrame()\n",
    "Czech2014Happy['idno'] = Czech2014['idno']\n",
    "Czech2014Happy['happy2014'] = Czech2014['happy']\n",
    "\n",
    "CzechHappy = pd.merge(left=Czech2012Happy,right=Czech2014Happy, left_on='idno', right_on='idno')\n",
    "\n",
    "CzechHappy['change'] = CzechHappy['happy2014'] - CzechHappy['happy2012']\n",
    "\n",
    "print('Czech Republic')\n",
    "CzechHappy['change'].describe()"
   ]
  },
  {
   "cell_type": "code",
   "execution_count": 30,
   "metadata": {},
   "outputs": [
    {
     "name": "stdout",
     "output_type": "stream",
     "text": [
      "Germany\n"
     ]
    },
    {
     "data": {
      "text/plain": [
       "count    14.000000\n",
       "mean      0.428571\n",
       "std       1.988981\n",
       "min      -3.000000\n",
       "25%      -1.000000\n",
       "50%       0.000000\n",
       "75%       2.000000\n",
       "max       4.000000\n",
       "Name: change, dtype: float64"
      ]
     },
     "execution_count": 30,
     "metadata": {},
     "output_type": "execute_result"
    }
   ],
   "source": [
    "# creat new dataframe of change by respondent\n",
    "Germany2012Happy = pd.DataFrame()\n",
    "Germany2012Happy['idno'] = Germany2012['idno']\n",
    "Germany2012Happy['happy2012'] = Germany2012['happy']\n",
    "\n",
    "Germany2014Happy = pd.DataFrame()\n",
    "Germany2014Happy['idno'] = Germany2014['idno']\n",
    "Germany2014Happy['happy2014'] = Germany2014['happy']\n",
    "\n",
    "GermanyHappy = pd.merge(left=Germany2012Happy,right=Germany2014Happy, left_on='idno', right_on='idno')\n",
    "\n",
    "GermanyHappy['change'] = GermanyHappy['happy2014'] - GermanyHappy['happy2012']\n",
    "\n",
    "print('Germany')\n",
    "GermanyHappy['change'].describe()"
   ]
  },
  {
   "cell_type": "code",
   "execution_count": 31,
   "metadata": {},
   "outputs": [
    {
     "name": "stdout",
     "output_type": "stream",
     "text": [
      "Spain\n"
     ]
    },
    {
     "data": {
      "text/plain": [
       "count    1211.000000\n",
       "mean       -0.127168\n",
       "std         2.742144\n",
       "min        -9.000000\n",
       "25%        -2.000000\n",
       "50%         0.000000\n",
       "75%         1.000000\n",
       "max         9.000000\n",
       "Name: change, dtype: float64"
      ]
     },
     "execution_count": 31,
     "metadata": {},
     "output_type": "execute_result"
    }
   ],
   "source": [
    "# creat new dataframe of change by respondent\n",
    "Spain2012Happy = pd.DataFrame()\n",
    "Spain2012Happy['idno'] = Spain2012['idno']\n",
    "Spain2012Happy['happy2012'] = Spain2012['happy']\n",
    "\n",
    "Spain2014Happy = pd.DataFrame()\n",
    "Spain2014Happy['idno'] = Spain2014['idno']\n",
    "Spain2014Happy['happy2014'] = Spain2014['happy']\n",
    "\n",
    "SpainHappy = pd.merge(left=Spain2012Happy,right=Spain2014Happy, left_on='idno', right_on='idno')\n",
    "\n",
    "SpainHappy['change'] = SpainHappy['happy2014'] - SpainHappy['happy2012']\n",
    "\n",
    "print('Spain')\n",
    "SpainHappy['change'].describe()"
   ]
  },
  {
   "cell_type": "code",
   "execution_count": 32,
   "metadata": {},
   "outputs": [
    {
     "name": "stdout",
     "output_type": "stream",
     "text": [
      "Norway\n"
     ]
    },
    {
     "data": {
      "text/plain": [
       "count    727.000000\n",
       "mean      -0.339752\n",
       "std        2.137518\n",
       "min      -10.000000\n",
       "25%       -2.000000\n",
       "50%        0.000000\n",
       "75%        1.000000\n",
       "max        9.000000\n",
       "Name: change, dtype: float64"
      ]
     },
     "execution_count": 32,
     "metadata": {},
     "output_type": "execute_result"
    }
   ],
   "source": [
    "# creat new dataframe of change by respondent\n",
    "Norway2012Happy = pd.DataFrame()\n",
    "Norway2012Happy['idno'] = Norway2012['idno']\n",
    "Norway2012Happy['happy2012'] = Norway2012['happy']\n",
    "\n",
    "Norway2014Happy = pd.DataFrame()\n",
    "Norway2014Happy['idno'] = Norway2014['idno']\n",
    "Norway2014Happy['happy2014'] = Norway2014['happy']\n",
    "\n",
    "NorwayHappy = pd.merge(left=Norway2012Happy,right=Norway2014Happy, left_on='idno', right_on='idno')\n",
    "\n",
    "NorwayHappy['change'] = NorwayHappy['happy2014'] - NorwayHappy['happy2012']\n",
    "\n",
    "print('Norway')\n",
    "NorwayHappy['change'].describe()"
   ]
  },
  {
   "cell_type": "code",
   "execution_count": 33,
   "metadata": {},
   "outputs": [
    {
     "name": "stdout",
     "output_type": "stream",
     "text": [
      "Sweden\n"
     ]
    },
    {
     "data": {
      "text/plain": [
       "count    904.000000\n",
       "mean       0.038717\n",
       "std        2.085558\n",
       "min       -7.000000\n",
       "25%       -1.000000\n",
       "50%        0.000000\n",
       "75%        1.000000\n",
       "max        7.000000\n",
       "Name: change, dtype: float64"
      ]
     },
     "execution_count": 33,
     "metadata": {},
     "output_type": "execute_result"
    }
   ],
   "source": [
    "# creat new dataframe of change by respondent\n",
    "Sweden2012Happy = pd.DataFrame()\n",
    "Sweden2012Happy['idno'] = Sweden2012['idno']\n",
    "Sweden2012Happy['happy2012'] = Sweden2012['happy']\n",
    "\n",
    "Sweden2014Happy = pd.DataFrame()\n",
    "Sweden2014Happy['idno'] = Sweden2014['idno']\n",
    "Sweden2014Happy['happy2014'] = Sweden2014['happy']\n",
    "\n",
    "SwedenHappy = pd.merge(left=Sweden2012Happy,right=Sweden2014Happy, left_on='idno', right_on='idno')\n",
    "\n",
    "SwedenHappy['change'] = SwedenHappy['happy2014'] - SwedenHappy['happy2012']\n",
    "\n",
    "print('Sweden')\n",
    "SwedenHappy['change'].describe()"
   ]
  },
  {
   "cell_type": "markdown",
   "metadata": {},
   "source": [
    "The median change in happy rating for each country is 0, but there is change in the mean change of each respondant from each country - Spain and Norway show a decrease, while Switzerland, Czech Republic, Germany and Sweden show increases."
   ]
  },
  {
   "cell_type": "markdown",
   "metadata": {},
   "source": [
    "## 3. Who reported watching more TV in 2012, men or women?"
   ]
  },
  {
   "cell_type": "code",
   "execution_count": 34,
   "metadata": {},
   "outputs": [],
   "source": [
    "year2012 = ess.loc[ess.year == 6]"
   ]
  },
  {
   "cell_type": "code",
   "execution_count": 35,
   "metadata": {},
   "outputs": [],
   "source": [
    "women2012 = year2012.loc[year2012.gndr == 2]\n",
    "men2012 = year2012.loc[year2012.gndr == 1]"
   ]
  },
  {
   "cell_type": "code",
   "execution_count": 36,
   "metadata": {},
   "outputs": [
    {
     "data": {
      "text/plain": [
       "Ttest_indResult(statistic=nan, pvalue=nan)"
      ]
     },
     "execution_count": 36,
     "metadata": {},
     "output_type": "execute_result"
    }
   ],
   "source": [
    "stats.ttest_ind(women2012['tvtot'], men2012['tvtot'])"
   ]
  },
  {
   "cell_type": "code",
   "execution_count": 37,
   "metadata": {},
   "outputs": [
    {
     "name": "stdout",
     "output_type": "stream",
     "text": [
      "Women\n"
     ]
    },
    {
     "data": {
      "text/plain": [
       "count    2140.000000\n",
       "mean        3.944393\n",
       "std         2.049457\n",
       "min         0.000000\n",
       "25%         2.000000\n",
       "50%         4.000000\n",
       "75%         6.000000\n",
       "max         7.000000\n",
       "Name: tvtot, dtype: float64"
      ]
     },
     "execution_count": 37,
     "metadata": {},
     "output_type": "execute_result"
    }
   ],
   "source": [
    "print('Women')\n",
    "women2012['tvtot'].describe()"
   ]
  },
  {
   "cell_type": "code",
   "execution_count": 38,
   "metadata": {},
   "outputs": [
    {
     "name": "stdout",
     "output_type": "stream",
     "text": [
      "Men\n"
     ]
    },
    {
     "data": {
      "text/plain": [
       "count    2151.000000\n",
       "mean        3.901906\n",
       "std         1.983690\n",
       "min         0.000000\n",
       "25%         2.000000\n",
       "50%         4.000000\n",
       "75%         5.000000\n",
       "max         7.000000\n",
       "Name: tvtot, dtype: float64"
      ]
     },
     "execution_count": 38,
     "metadata": {},
     "output_type": "execute_result"
    }
   ],
   "source": [
    "print('Men')\n",
    "men2012['tvtot'].describe()"
   ]
  },
  {
   "cell_type": "markdown",
   "metadata": {},
   "source": [
    "Women's reporting on tv watching shows a higher mean than men's reporting of tv watching."
   ]
  },
  {
   "cell_type": "markdown",
   "metadata": {},
   "source": [
    "## 4. Who was more likely to believe people were fair in 2012, people living with a partner or people living alone?"
   ]
  },
  {
   "cell_type": "code",
   "execution_count": 39,
   "metadata": {},
   "outputs": [],
   "source": [
    "partner2012 = year2012.loc[year2012.partner == 1]\n",
    "alone2012 = year2012.loc[year2012.partner == 2]"
   ]
  },
  {
   "cell_type": "code",
   "execution_count": 40,
   "metadata": {},
   "outputs": [
    {
     "name": "stdout",
     "output_type": "stream",
     "text": [
      "Percentage of people living with partner who believe people are mostly fair:  0.6271122793841533\n"
     ]
    }
   ],
   "source": [
    "partner_fair = partner2012['pplfair'][partner2012['pplfair'] > 5].count() / partner2012['pplfair'].count()\n",
    "print('Percentage of people living with partner who believe people are mostly fair: ', partner_fair)"
   ]
  },
  {
   "cell_type": "code",
   "execution_count": 41,
   "metadata": {},
   "outputs": [
    {
     "name": "stdout",
     "output_type": "stream",
     "text": [
      "Percentage of people living with partner who believe people are mostly fair:  0.5677860696517413\n"
     ]
    }
   ],
   "source": [
    "alone_fair = alone2012['pplfair'][alone2012['pplfair'] > 5].count() / alone2012['pplfair'].count()\n",
    "print('Percentage of people living with partner who believe people are mostly fair: ', alone_fair)"
   ]
  },
  {
   "cell_type": "markdown",
   "metadata": {},
   "source": [
    "People living with a partner were more likely (by eight points) to view people as mostly fair in 2012 than those living alone."
   ]
  },
  {
   "cell_type": "markdown",
   "metadata": {},
   "source": [
    "## 5. Pick three or four of the countries in the sample and compare how often people met socially in 2014. Are there differences, and if so, which countries stand out?"
   ]
  },
  {
   "cell_type": "code",
   "execution_count": 42,
   "metadata": {},
   "outputs": [
    {
     "name": "stdout",
     "output_type": "stream",
     "text": [
      "Switzerland\n",
      "count    772.000000\n",
      "mean       5.160622\n",
      "std        1.308499\n",
      "min        1.000000\n",
      "25%        4.000000\n",
      "50%        6.000000\n",
      "75%        6.000000\n",
      "max        7.000000\n",
      "Name: sclmeet, dtype: float64\n",
      "\n",
      "Czech Republic\n",
      "count    655.000000\n",
      "mean       4.445802\n",
      "std        1.481706\n",
      "min        1.000000\n",
      "25%        4.000000\n",
      "50%        4.000000\n",
      "75%        6.000000\n",
      "max        7.000000\n",
      "Name: sclmeet, dtype: float64\n",
      "\n",
      "Spain\n",
      "count    1211.000000\n",
      "mean        5.260116\n",
      "std         1.467855\n",
      "min         1.000000\n",
      "25%         4.000000\n",
      "50%         6.000000\n",
      "75%         6.000000\n",
      "max         7.000000\n",
      "Name: sclmeet, dtype: float64\n",
      "\n",
      "Norway\n",
      "count    731.000000\n",
      "mean       5.302326\n",
      "std        1.347848\n",
      "min        1.000000\n",
      "25%        4.000000\n",
      "50%        6.000000\n",
      "75%        6.000000\n",
      "max        7.000000\n",
      "Name: sclmeet, dtype: float64\n"
     ]
    }
   ],
   "source": [
    "print('Switzerland')\n",
    "print(Switzerland2014['sclmeet'].describe())\n",
    "\n",
    "print('\\nCzech Republic')\n",
    "print(Czech2014['sclmeet'].describe())\n",
    "\n",
    "print('\\nSpain')\n",
    "print(Spain2014['sclmeet'].describe())\n",
    "\n",
    "print('\\nNorway')\n",
    "print(Norway2014['sclmeet'].describe())"
   ]
  },
  {
   "cell_type": "code",
   "execution_count": 43,
   "metadata": {},
   "outputs": [
    {
     "name": "stdout",
     "output_type": "stream",
     "text": [
      "Switzerland and Czech Republic\n",
      "Ttest_indResult(statistic=nan, pvalue=nan)\n",
      "\n",
      "Spain and Czech Republic\n",
      "Ttest_indResult(statistic=nan, pvalue=nan)\n",
      "\n",
      "Norway and Czech Republic\n",
      "Ttest_indResult(statistic=nan, pvalue=nan)\n"
     ]
    }
   ],
   "source": [
    "print('Switzerland and Czech Republic')\n",
    "print(stats.ttest_ind(Switzerland2014['sclmeet'], Czech2014['sclmeet']))\n",
    "\n",
    "print('\\nSpain and Czech Republic')\n",
    "print(stats.ttest_ind(Spain2012['sclmeet'], Czech2014['sclmeet']))\n",
    "\n",
    "print('\\nNorway and Czech Republic')\n",
    "print(stats.ttest_ind(Norway2014['sclmeet'], Czech2014['sclmeet']))"
   ]
  },
  {
   "cell_type": "markdown",
   "metadata": {},
   "source": [
    "People in the Czech Republic were generally less likely to meet people socially in 2014 compared to people in Switzerland, Spain or Norway."
   ]
  },
  {
   "cell_type": "markdown",
   "metadata": {},
   "source": [
    "## 6. Pick three or four of the countries in the sample and compare how often people took part in social activities, relative to others their age, in 2014. Are there differences, and if so, which countries stand out?"
   ]
  },
  {
   "cell_type": "code",
   "execution_count": 52,
   "metadata": {},
   "outputs": [
    {
     "data": {
      "image/png": "[encoded data removed]",
      "text/plain": [
       "<Figure size 1080x360 with 2 Axes>"
      ]
     },
     "metadata": {},
     "output_type": "display_data"
    }
   ],
   "source": [
    "plt.figure(figsize=(15, 5))\n",
    "\n",
    "plt.subplot(1, 2, 1)\n",
    "sns.violinplot(Switzerland2014['sclmeet'], Switzerland2014['agea'])\n",
    "plt.title('Switzerland')\n",
    "\n",
    "plt.subplot(1, 2, 2)\n",
    "sns.violinplot(Switzerland2014['age'], Switzerland2014['sclmeet'])\n",
    "plt.title('Switzerland')\n",
    "\n",
    "plt.show()"
   ]
  },
  {
   "cell_type": "code",
   "execution_count": 55,
   "metadata": {},
   "outputs": [
    {
     "data": {
      "image/png": "[encoded data removed]",
      "text/plain": [
       "<Figure size 1080x360 with 2 Axes>"
      ]
     },
     "metadata": {},
     "output_type": "display_data"
    }
   ],
   "source": [
    "plt.figure(figsize=(15, 5))\n",
    "\n",
    "plt.subplot(1, 2, 1)\n",
    "sns.violinplot(Czech2014['sclmeet'], Czech2014['agea'])\n",
    "plt.title('Czech Republic')\n",
    "\n",
    "plt.subplot(1, 2, 2)\n",
    "sns.violinplot(Czech2014['age'], Czech2014['sclmeet'])\n",
    "plt.title('Czech Republic')\n",
    "\n",
    "plt.show()"
   ]
  },
  {
   "cell_type": "code",
   "execution_count": 54,
   "metadata": {},
   "outputs": [
    {
     "data": {
      "image/png": "[encoded data removed]",
      "text/plain": [
       "<Figure size 1080x360 with 2 Axes>"
      ]
     },
     "metadata": {},
     "output_type": "display_data"
    }
   ],
   "source": [
    "plt.figure(figsize=(15, 5))\n",
    "\n",
    "plt.subplot(1, 2, 1)\n",
    "sns.violinplot(Spain2014['sclmeet'], Spain2014['agea'])\n",
    "plt.title('Spain')\n",
    "\n",
    "plt.subplot(1, 2, 2)\n",
    "sns.violinplot(Spain2014['age'], Spain2014['sclmeet'])\n",
    "plt.title('Spain')\n",
    "\n",
    "plt.show()"
   ]
  },
  {
   "cell_type": "code",
   "execution_count": 53,
   "metadata": {},
   "outputs": [
    {
     "data": {
      "image/png": "[encoded data removed]",
      "text/plain": [
       "<Figure size 1080x360 with 2 Axes>"
      ]
     },
     "metadata": {},
     "output_type": "display_data"
    }
   ],
   "source": [
    "plt.figure(figsize=(15, 5))\n",
    "\n",
    "plt.subplot(1, 2, 1)\n",
    "sns.violinplot(Norway2014['sclmeet'], Norway2014['agea'])\n",
    "plt.title('Norway')\n",
    "\n",
    "plt.subplot(1, 2, 2)\n",
    "sns.violinplot(Norway2014['age'], Norway2014['sclmeet'])\n",
    "plt.title('Norway')\n",
    "\n",
    "plt.show()"
   ]
  },
  {
   "cell_type": "code",
   "execution_count": 51,
   "metadata": {},
   "outputs": [
    {
     "data": {
      "text/html": [
       "<div>\n",
       "<style scoped>\n",
       "    .dataframe tbody tr th:only-of-type {\n",
       "        vertical-align: middle;\n",
       "    }\n",
       "\n",
       "    .dataframe tbody tr th {\n",
       "        vertical-align: top;\n",
       "    }\n",
       "\n",
       "    .dataframe thead th {\n",
       "        text-align: right;\n",
       "    }\n",
       "</style>\n",
       "<table border=\"1\" class=\"dataframe\">\n",
       "  <thead>\n",
       "    <tr style=\"text-align: right;\">\n",
       "      <th></th>\n",
       "      <th>sclmeet</th>\n",
       "    </tr>\n",
       "    <tr>\n",
       "      <th>age</th>\n",
       "      <th></th>\n",
       "    </tr>\n",
       "  </thead>\n",
       "  <tbody>\n",
       "    <tr>\n",
       "      <th>0</th>\n",
       "      <td>4.590909</td>\n",
       "    </tr>\n",
       "    <tr>\n",
       "      <th>10</th>\n",
       "      <td>5.648649</td>\n",
       "    </tr>\n",
       "    <tr>\n",
       "      <th>20</th>\n",
       "      <td>5.617647</td>\n",
       "    </tr>\n",
       "    <tr>\n",
       "      <th>30</th>\n",
       "      <td>5.326389</td>\n",
       "    </tr>\n",
       "    <tr>\n",
       "      <th>40</th>\n",
       "      <td>5.048387</td>\n",
       "    </tr>\n",
       "    <tr>\n",
       "      <th>50</th>\n",
       "      <td>5.100840</td>\n",
       "    </tr>\n",
       "    <tr>\n",
       "      <th>60</th>\n",
       "      <td>4.854167</td>\n",
       "    </tr>\n",
       "    <tr>\n",
       "      <th>70</th>\n",
       "      <td>4.870968</td>\n",
       "    </tr>\n",
       "    <tr>\n",
       "      <th>80</th>\n",
       "      <td>4.346154</td>\n",
       "    </tr>\n",
       "    <tr>\n",
       "      <th>90</th>\n",
       "      <td>3.666667</td>\n",
       "    </tr>\n",
       "  </tbody>\n",
       "</table>\n",
       "</div>"
      ],
      "text/plain": [
       "      sclmeet\n",
       "age          \n",
       "0    4.590909\n",
       "10   5.648649\n",
       "20   5.617647\n",
       "30   5.326389\n",
       "40   5.048387\n",
       "50   5.100840\n",
       "60   4.854167\n",
       "70   4.870968\n",
       "80   4.346154\n",
       "90   3.666667"
      ]
     },
     "execution_count": 51,
     "metadata": {},
     "output_type": "execute_result"
    }
   ],
   "source": [
    "Switzerland2014[['sclmeet', 'age']].groupby(['age']).mean()"
   ]
  },
  {
   "cell_type": "code",
   "execution_count": 49,
   "metadata": {},
   "outputs": [],
   "source": [
    "a = Switzerland2014[['sclmeet', 'agea']].groupby(['agea']).mean()\n",
    "b = Czech2014[['sclmeet', 'agea']].groupby(['agea']).mean()\n",
    "c = Spain2014[['sclmeet', 'agea']].groupby(['agea']).mean()\n",
    "d = Norway2014[['sclmeet', 'agea']].groupby(['agea']).mean()"
   ]
  },
  {
   "cell_type": "code",
   "execution_count": 50,
   "metadata": {},
   "outputs": [
    {
     "name": "stdout",
     "output_type": "stream",
     "text": [
      "Switzerland and Czech Republic\n",
      "Ttest_indResult(statistic=array([5.44675867]), pvalue=array([2.28367952e-07]))\n",
      "\n",
      "Spain and Czech Republic\n",
      "Ttest_indResult(statistic=array([8.80437429]), pvalue=array([4.67921037e-15]))\n",
      "\n",
      "Norway and Czech Republic\n",
      "Ttest_indResult(statistic=array([8.39915321]), pvalue=array([4.18787683e-14]))\n"
     ]
    }
   ],
   "source": [
    "print('Switzerland and Czech Republic')\n",
    "print(stats.ttest_ind(a, b))\n",
    "\n",
    "print('\\nSpain and Czech Republic')\n",
    "print(stats.ttest_ind(c, b))\n",
    "\n",
    "print('\\nNorway and Czech Republic')\n",
    "print(stats.ttest_ind(d, b))"
   ]
  },
  {
   "cell_type": "markdown",
   "metadata": {},
   "source": [
    "Each country shows a general trend of decreasing social engagement with age."
   ]
  },
  {
   "cell_type": "markdown",
   "metadata": {},
   "source": [
    "# Conclusions"
   ]
  },
  {
   "cell_type": "markdown",
   "metadata": {},
   "source": [
    "The countries show variation from each other, from age to each, and from year to year."
   ]
  }
 ],
 "metadata": {
  "kernelspec": {
   "display_name": "Python 3",
   "language": "python",
   "name": "python3"
  },
  "language_info": {
   "codemirror_mode": {
    "name": "ipython",
    "version": 3
   },
   "file_extension": ".py",
   "mimetype": "text/x-python",
   "name": "python",
   "nbconvert_exporter": "python",
   "pygments_lexer": "ipython3",
   "version": "3.6.1"
  }
 },
 "nbformat": 4,
 "nbformat_minor": 2
}
