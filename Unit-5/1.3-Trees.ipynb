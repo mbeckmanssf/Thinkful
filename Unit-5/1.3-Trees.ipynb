{
 "cells": [
  {
   "cell_type": "markdown",
   "metadata": {},
   "source": [
    "## DRILL:\n",
    "\n",
    "Implement a binary tree, which is filled with 15 pieces of random data. Your job is to then write a program to traverse the tree using a breadth first traversal. If you want additional practice, try other forms of traversal."
   ]
  },
  {
   "cell_type": "markdown",
   "metadata": {},
   "source": [
    "### Sample from lesson"
   ]
  },
  {
   "cell_type": "code",
   "execution_count": 39,
   "metadata": {},
   "outputs": [],
   "source": [
    "class Node:\n",
    "    def __init__(self, val):\n",
    "        self.left = None\n",
    "        self.right = None\n",
    "        self.val = val"
   ]
  },
  {
   "cell_type": "code",
   "execution_count": 41,
   "metadata": {},
   "outputs": [],
   "source": [
    "# Establish the initial root node and children\n",
    "rootA = Node('A')\n",
    "rootA.left = Node('B')\n",
    "rootA.right = Node('C')\n",
    "\n",
    "# Add the appropriate children for ‘B’ and ‘C’\n",
    "rootA.left.left = Node('D')\n",
    "rootA.left.right = Node('E')\n",
    "rootA.right.left = Node('F')\n",
    "rootA.right.right = Node('G')"
   ]
  },
  {
   "cell_type": "markdown",
   "metadata": {},
   "source": [
    "## Traverse Tree by Breadth First"
   ]
  },
  {
   "cell_type": "code",
   "execution_count": 43,
   "metadata": {},
   "outputs": [],
   "source": [
    "# Define Node Class\n",
    "class Node(object):\n",
    "    def __init__(self, id_):\n",
    "        self.id = id_\n",
    "        self.children = []\n",
    "        \n",
    "    def __repr__(self):\n",
    "        return \"Node: [%s]\" % self.id\n",
    "    \n",
    "    def add_child(self, node):\n",
    "        self.children.append(node) \n",
    "    \n",
    "    def get_children(self):\n",
    "        return self.children                "
   ]
  },
  {
   "cell_type": "code",
   "execution_count": 44,
   "metadata": {},
   "outputs": [],
   "source": [
    "# Re-Create sample Node Tree\n",
    "A = Node(\"A\")\n",
    "B = Node(\"B\")      \n",
    "C = Node(\"C\")      \n",
    "D = Node(\"D\")      \n",
    "E = Node(\"E\")      \n",
    "F = Node(\"F\")  \n",
    "G = Node(\"G\")   \n",
    "    \n",
    "A.add_child(B) \n",
    "A.add_child(C) \n",
    "\n",
    "B.add_child(D)    \n",
    "B.add_child(E)\n",
    "\n",
    "C.add_child(F) \n",
    "C.add_child(G)"
   ]
  },
  {
   "cell_type": "code",
   "execution_count": 45,
   "metadata": {},
   "outputs": [],
   "source": [
    "def get_breadth_first_nodes(root):\n",
    "    nodes = []\n",
    "    stack = [root]\n",
    "    while stack:\n",
    "        cur_node = stack[0]\n",
    "        stack = stack[1:]\n",
    "        nodes.append(cur_node)\n",
    "        for child in cur_node.get_children():\n",
    "            stack.append(child)\n",
    "    return nodes\n",
    "    \n",
    "def test_breadth_first_nodes(root):\n",
    "    node_list = get_breadth_first_nodes(root)\n",
    "    for node in node_list:\n",
    "        println(str(node))\n",
    "  "
   ]
  },
  {
   "cell_type": "code",
   "execution_count": 46,
   "metadata": {},
   "outputs": [
    {
     "name": "stdout",
     "output_type": "stream",
     "text": [
      "Node: [A]\n",
      "Node: [B]\n",
      "Node: [C]\n",
      "Node: [D]\n",
      "Node: [E]\n",
      "Node: [F]\n",
      "Node: [G]\n"
     ]
    }
   ],
   "source": [
    "test_breadth_first_nodes(A)"
   ]
  },
  {
   "cell_type": "code",
   "execution_count": 47,
   "metadata": {},
   "outputs": [],
   "source": [
    "# Implement a binary tree with 15 pieces of random data.\n",
    "\n",
    "# Establish nodes with 15 data pieces\n",
    "n1 = Node(1)\n",
    "n2 = Node(2)\n",
    "n3 = Node(3)\n",
    "n4 = Node(4)\n",
    "n5 = Node(5)\n",
    "n6 = Node(6)\n",
    "n7 = Node(7)\n",
    "n8 = Node(8)\n",
    "n9 = Node(9)\n",
    "n10 = Node(10)\n",
    "n11 = Node(11)\n",
    "n12 = Node(12)\n",
    "n13 = Node(13)\n",
    "n14 = Node(14)\n",
    "n15 = Node(15)\n",
    "\n",
    "# Define parent-child relationships\n",
    "n1.add_child(n2) \n",
    "n1.add_child(n3) \n",
    "\n",
    "n2.add_child(n4)    \n",
    "n2.add_child(n5)\n",
    "\n",
    "n3.add_child(n6) \n",
    "n3.add_child(n7)\n",
    "\n",
    "n4.add_child(n8) \n",
    "n4.add_child(n9) \n",
    "\n",
    "n5.add_child(n10)    \n",
    "n5.add_child(n11)\n",
    "\n",
    "n6.add_child(n12) \n",
    "n6.add_child(n13)\n",
    "\n",
    "n7.add_child(n14) \n",
    "n7.add_child(n15)"
   ]
  },
  {
   "cell_type": "code",
   "execution_count": 48,
   "metadata": {},
   "outputs": [
    {
     "name": "stdout",
     "output_type": "stream",
     "text": [
      "Node: [1]\n",
      "Node: [2]\n",
      "Node: [3]\n",
      "Node: [4]\n",
      "Node: [5]\n",
      "Node: [6]\n",
      "Node: [7]\n",
      "Node: [8]\n",
      "Node: [9]\n",
      "Node: [10]\n",
      "Node: [11]\n",
      "Node: [12]\n",
      "Node: [13]\n",
      "Node: [14]\n",
      "Node: [15]\n"
     ]
    }
   ],
   "source": [
    "test_breadth_first_nodes(n1)"
   ]
  }
 ],
 "metadata": {
  "kernelspec": {
   "display_name": "Python 3",
   "language": "python",
   "name": "python3"
  },
  "language_info": {
   "codemirror_mode": {
    "name": "ipython",
    "version": 3
   },
   "file_extension": ".py",
   "mimetype": "text/x-python",
   "name": "python",
   "nbconvert_exporter": "python",
   "pygments_lexer": "ipython3",
   "version": "3.6.1"
  }
 },
 "nbformat": 4,
 "nbformat_minor": 2
}
