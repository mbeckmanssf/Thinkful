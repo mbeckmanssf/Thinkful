{
 "cells": [
  {
   "cell_type": "markdown",
   "metadata": {},
   "source": [
    "# DRILL: When to use surveys\n",
    "State whether a survey would be the best option for answering each of the following questions."
   ]
  },
  {
   "cell_type": "markdown",
   "metadata": {},
   "source": [
    "### Popularity of various Uber drivers.\n",
    "A survey requesting a rating of the driver after a ride, would provide information toward popularity.  A simple positive/negative response would likely be sufficient as most respondants would fall in those options.  Driver requests would be another way to guage popularity of individual drivers for Uber."
   ]
  },
  {
   "cell_type": "markdown",
   "metadata": {},
   "source": [
    "### A grocery store wants to know how much people like strawberry, chocolate, and vanilla ice cream.\n",
    "A survey would not be the best method to answer this question, the behavioral insight of sales of each flavor would be more accurate."
   ]
  },
  {
   "cell_type": "markdown",
   "metadata": {},
   "source": [
    "### Trojan wants to know whether their condoms are more popular among straight people or gay people.\n",
    "This is such a personal topic, Trojan is unlikely to get a representative sample of the customers.  Offering giveaways for responses might help increase the number of respondants and taking additional data (where/when the purchase was made) might help to account for bias."
   ]
  },
  {
   "cell_type": "markdown",
   "metadata": {},
   "source": [
    "### Recently, rental rates for HappyCars have increased by 30%, which is quite unusual.  You want to find out why this is happening and how to keep the increase going. \n",
    "Conducting research on the rental car market place would be the best place to start - perhaps a competitor went out of business, there were seasonal factors not anticipated, or a marketing tactic that's paying off.  An initial evaluation of possibile causes might provide more insight that surveying the customers of HappyCars."
   ]
  },
  {
   "cell_type": "markdown",
   "metadata": {},
   "source": [
    "### Assessing the success rate of a new advertising campaign. \n",
    "Researching business/sales would be a better guage of advertising success than a survey."
   ]
  },
  {
   "cell_type": "markdown",
   "metadata": {},
   "source": [
    "### Measuring the effect of nurse/patient ratio on patient recovery rates in hospital wards.\n",
    "Actual results for patients would be more meaningful than response data in a survey.  A survey would provide insight into the perception of patients - do patients report difference feelings with different nurse/patient ratios (perhaps more nurses make patients happier)."
   ]
  }
 ],
 "metadata": {
  "kernelspec": {
   "display_name": "Python 3",
   "language": "python",
   "name": "python3"
  },
  "language_info": {
   "codemirror_mode": {
    "name": "ipython",
    "version": 3
   },
   "file_extension": ".py",
   "mimetype": "text/x-python",
   "name": "python",
   "nbconvert_exporter": "python",
   "pygments_lexer": "ipython3",
   "version": "3.6.1"
  }
 },
 "nbformat": 4,
 "nbformat_minor": 2
}
