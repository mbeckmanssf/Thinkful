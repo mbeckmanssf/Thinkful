{
 "cells": [
  {
   "cell_type": "markdown",
   "metadata": {},
   "source": [
    "# DRILL: Question Design\n",
    "For each of the following, indicate the best question type to use and why.\n",
    "\n",
    "Age<br>\n",
    "Gender<br>\n",
    "Income<br>\n",
    "Opinions about dish soap<br>\n",
    "Brand of dish soap used<br>\n",
    "Preference for dish soap brand (Cleany, Sudsy, DeGreaser, Pinesoft)<br>\n",
    "Positive vs negative feelings about dish soap<br>"
   ]
  },
  {
   "cell_type": "markdown",
   "metadata": {},
   "source": [
    "### Age\n",
    "\n",
    "write-in or multiple choice with range, depending on degree of accuracy desired"
   ]
  },
  {
   "cell_type": "markdown",
   "metadata": {},
   "source": [
    "### Gender\n",
    "\n",
    "multiple choice - there are only so many options and the available options can be tailored to suit the needs to the survey"
   ]
  },
  {
   "cell_type": "markdown",
   "metadata": {},
   "source": [
    "### Income\n",
    "\n",
    "write-in or multiple choice with ranges listed, depending on degree of accuracy desired and target responders.  Listing ranges might"
   ]
  },
  {
   "cell_type": "markdown",
   "metadata": {},
   "source": [
    "### Opinions about dish soap\n",
    "\n",
    "write-in - collect general submissions"
   ]
  },
  {
   "cell_type": "markdown",
   "metadata": {},
   "source": [
    "### Brand of dish soap used\n",
    "\n",
    "multiple choice - check awareness of brands by listing them and allowing respondants to respond to all brands"
   ]
  },
  {
   "cell_type": "markdown",
   "metadata": {},
   "source": [
    "### Preference for dish soap brand (Cleany, Sudsy, DeGreaser, Pinesoft)\n",
    "\n",
    "Ranking - rank applicable brands"
   ]
  },
  {
   "cell_type": "markdown",
   "metadata": {},
   "source": [
    "### Positive vs negative feelings about dish soap\n",
    "\n",
    "Rating Scale - prompt respondants to review each brand positively or negatively\n",
    "\n",
    "OR Ranking - rank each dish soap brand by preference to delineate preference for/against each brand\n",
    "\n",
    "OR Contstant Sum to provide clear preferences for each brand"
   ]
  },
  {
   "cell_type": "markdown",
   "metadata": {},
   "source": [
    "# DRILL: Fix the flaw\n",
    "Here is a link to a Mainstream Media Accountability Survey sent to the public by the Trump Administration in February 2017. Read over the survey and select five questions you believe can be improved. Describe the flaw you see and write an improved version of the question. For example, if the original question is: \"Americans are not fully aware just how much waste there is in the federal government.\" Yes No No Opinion\n",
    "\n",
    "The flaw is that this is a loaded question that presupposes the respondent agrees that there is waste in the federal government. To ask this question in a less-biased way, it would need to be converted to two questions:\n",
    "\n",
    "Select the option that describes your opinion of how the federal government handles money:\n",
    "Wastefully\n",
    "Efficiently\n",
    "No Opinion\n",
    "IF they selected a, then:\n",
    "\n",
    "Describe American public opinion about government waste.\n",
    "0 (Unaware) 1 2 (Somewhat Aware) 3 4 (Fully Aware)\n",
    "For each revised question, your version should attempt to get an unbiased picture of the respondent's opinion on the issue. Share your reasoning with your mentor."
   ]
  },
  {
   "cell_type": "markdown",
   "metadata": {},
   "source": [
    "### Do you trust the mainstream media to put the interests of Americans first?\n",
    "\n",
    "The question assumes a definition of 'mainstream media' without explicitly defining it.  Asking the respondant to define 'mainstream media' with a write-in response or multiple choice would better establish the meaning for the respondant.  A rating for 'put interests of Americans first' would also provide more detail on the respondants views."
   ]
  },
  {
   "cell_type": "markdown",
   "metadata": {},
   "source": [
    "### Do you trust the mainstream media to report fairly on our presidency?\n",
    "As with the first question, 'mainstream media' is not defined - a write-in response of multiple choice would establish meaning.  A rating of 'report fairly on our presidency' would again provide more detail on the views of the respondant."
   ]
  },
  {
   "cell_type": "markdown",
   "metadata": {},
   "source": [
    "### Do you trust NBC to fairly report on our presidency?  Do you trust CNN to report fairly on our presidency?  Do you trust MSNBC to fairly report on our presidency?  Do you trust Fox News to fairly report on our presidency?\n",
    "This question might be rephrased as a ranking or each news source, allowing for some middle ground in the 'trust' of each network.  Alternately, a rating scale for each network's 'trust' would also allow for nuance in the definition of 'trust' for each network."
   ]
  },
  {
   "cell_type": "markdown",
   "metadata": {},
   "source": [
    "### On which issues does the mainstream media do the worst job of representing President Trump?\n",
    "This question assumes that the 'mainstream media' do not represent president Trump well.  Rephrasing the question with a rating - How well does the media represent President Trump on the following issues? - is slightly less biased.  Alternately, the question could be phrased regarding coverage, rather than representation - How much does the media cover President Trump's position on the following?"
   ]
  },
  {
   "cell_type": "markdown",
   "metadata": {},
   "source": [
    "### Do you feel that the media is too eager to slur conservatives with baseless accusations of racism and sexism?\n",
    "The question implies that accusations of racism and sexism are baseless against conservatives.  Starting with a broader question - Does the mesia report baseless accusations of racism and sexism?, then getting more specific - Are accusations of sexism and racism more frequently reported against liberals or conservatives."
   ]
  },
  {
   "cell_type": "code",
   "execution_count": null,
   "metadata": {},
   "outputs": [],
   "source": []
  }
 ],
 "metadata": {
  "kernelspec": {
   "display_name": "Python 3",
   "language": "python",
   "name": "python3"
  },
  "language_info": {
   "codemirror_mode": {
    "name": "ipython",
    "version": 3
   },
   "file_extension": ".py",
   "mimetype": "text/x-python",
   "name": "python",
   "nbconvert_exporter": "python",
   "pygments_lexer": "ipython3",
   "version": "3.6.1"
  }
 },
 "nbformat": 4,
 "nbformat_minor": 2
}
